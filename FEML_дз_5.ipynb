{
 "cells": [
  {
   "cell_type": "markdown",
   "id": "06686136",
   "metadata": {},
   "source": [
    "# Домашнее задание по теме «Работа с переменными»"
   ]
  },
  {
   "cell_type": "markdown",
   "id": "5364ccc8",
   "metadata": {},
   "source": [
    "## Задание\n",
    "#### Цель: \n",
    "изучить применение методов разведочного анализа данных (EDA) для улучшения качества работы моделей машинного обучения.\n",
    "#### Описание задания:\n",
    "В домашнем задании нужно улучшить метрики RMSE, R2 модели линейной регрессии путем работы с данными, а именно проведения разведочного анализа данных. В качестве датасета необходимо загрузить данные о недвижимости Калифорнии из библиотеки sklearn.datasets. Целевая переменная – MedHouseVal. \n",
    "\n",
    "Прочитать информацию о признаках датасета можно, выполнив следующий ``код – print(fetch_california_housing().DESCR)``"
   ]
  },
  {
   "cell_type": "markdown",
   "id": "229d4074",
   "metadata": {},
   "source": [
    "## Этапы работы:"
   ]
  },
  {
   "cell_type": "code",
   "execution_count": 1118,
   "id": "021ae20b",
   "metadata": {},
   "outputs": [],
   "source": [
    "import numpy as np\n",
    "import pandas as pd"
   ]
  },
  {
   "cell_type": "markdown",
   "id": "3504d489",
   "metadata": {},
   "source": [
    "### 1. Получите данные и загрузите их в рабочую среду. "
   ]
  },
  {
   "cell_type": "code",
   "execution_count": 1119,
   "id": "920add8f",
   "metadata": {},
   "outputs": [],
   "source": [
    "from sklearn import datasets"
   ]
  },
  {
   "cell_type": "code",
   "execution_count": 1120,
   "id": "09dbbea3",
   "metadata": {},
   "outputs": [
    {
     "name": "stdout",
     "output_type": "stream",
     "text": [
      ".. _california_housing_dataset:\n",
      "\n",
      "California Housing dataset\n",
      "--------------------------\n",
      "\n",
      "**Data Set Characteristics:**\n",
      "\n",
      "    :Number of Instances: 20640\n",
      "\n",
      "    :Number of Attributes: 8 numeric, predictive attributes and the target\n",
      "\n",
      "    :Attribute Information:\n",
      "        - MedInc        median income in block group\n",
      "        - HouseAge      median house age in block group\n",
      "        - AveRooms      average number of rooms per household\n",
      "        - AveBedrms     average number of bedrooms per household\n",
      "        - Population    block group population\n",
      "        - AveOccup      average number of household members\n",
      "        - Latitude      block group latitude\n",
      "        - Longitude     block group longitude\n",
      "\n",
      "    :Missing Attribute Values: None\n",
      "\n",
      "This dataset was obtained from the StatLib repository.\n",
      "https://www.dcc.fc.up.pt/~ltorgo/Regression/cal_housing.html\n",
      "\n",
      "The target variable is the median house value for California districts,\n",
      "expressed in hundreds of thousands of dollars ($100,000).\n",
      "\n",
      "This dataset was derived from the 1990 U.S. census, using one row per census\n",
      "block group. A block group is the smallest geographical unit for which the U.S.\n",
      "Census Bureau publishes sample data (a block group typically has a population\n",
      "of 600 to 3,000 people).\n",
      "\n",
      "An household is a group of people residing within a home. Since the average\n",
      "number of rooms and bedrooms in this dataset are provided per household, these\n",
      "columns may take surpinsingly large values for block groups with few households\n",
      "and many empty houses, such as vacation resorts.\n",
      "\n",
      "It can be downloaded/loaded using the\n",
      ":func:`sklearn.datasets.fetch_california_housing` function.\n",
      "\n",
      ".. topic:: References\n",
      "\n",
      "    - Pace, R. Kelley and Ronald Barry, Sparse Spatial Autoregressions,\n",
      "      Statistics and Probability Letters, 33 (1997) 291-297\n",
      "\n"
     ]
    }
   ],
   "source": [
    "print(fetch_california_housing().DESCR)\n",
    "data = datasets.fetch_california_housing(as_frame=True).frame"
   ]
  },
  {
   "cell_type": "markdown",
   "id": "ffd7434b",
   "metadata": {},
   "source": [
    "##### Важные характерисики датасета:\n",
    ":Количество экземпляров: 20640\n",
    "\n",
    ":Количество атрибутов: 8 числовых, предиктивные атрибуты и цель (MedHouseVal)\n",
    "\n",
    ":Информация об атрибутах:\n",
    "\n",
    "- MedInc        средний доход в блок-группе\n",
    "- HouseAge      cредний возраст дома в блочной группе\n",
    "- AveRooms      среднее количество комнат на домохозяйство\n",
    "- AveBedrms     cреднее количество спален на домохозяйство\n",
    "- Population    население блок-группы\n",
    "- AveOccup      среднее количество членов домохозяйства \n",
    "- Latitude      широта блок-группы\n",
    "- Longitude     долгота блок-группы\n",
    "\n",
    ": Отсутствующие значения атрибутов: нет\n"
   ]
  },
  {
   "cell_type": "markdown",
   "id": "a3d07fde",
   "metadata": {},
   "source": [
    "### 2. Проверьте данные на наличие пропусков. Удалите их в случае обнаружения.\n",
    "(необязательный шаг)"
   ]
  },
  {
   "cell_type": "code",
   "execution_count": 1121,
   "id": "a559368e",
   "metadata": {},
   "outputs": [
    {
     "data": {
      "text/html": [
       "<div>\n",
       "<style scoped>\n",
       "    .dataframe tbody tr th:only-of-type {\n",
       "        vertical-align: middle;\n",
       "    }\n",
       "\n",
       "    .dataframe tbody tr th {\n",
       "        vertical-align: top;\n",
       "    }\n",
       "\n",
       "    .dataframe thead th {\n",
       "        text-align: right;\n",
       "    }\n",
       "</style>\n",
       "<table border=\"1\" class=\"dataframe\">\n",
       "  <thead>\n",
       "    <tr style=\"text-align: right;\">\n",
       "      <th></th>\n",
       "      <th>MedInc</th>\n",
       "      <th>HouseAge</th>\n",
       "      <th>AveRooms</th>\n",
       "      <th>AveBedrms</th>\n",
       "      <th>Population</th>\n",
       "      <th>AveOccup</th>\n",
       "      <th>Latitude</th>\n",
       "      <th>Longitude</th>\n",
       "      <th>MedHouseVal</th>\n",
       "    </tr>\n",
       "  </thead>\n",
       "  <tbody>\n",
       "    <tr>\n",
       "      <th>0</th>\n",
       "      <td>8.3252</td>\n",
       "      <td>41.0</td>\n",
       "      <td>6.984127</td>\n",
       "      <td>1.023810</td>\n",
       "      <td>322.0</td>\n",
       "      <td>2.555556</td>\n",
       "      <td>37.88</td>\n",
       "      <td>-122.23</td>\n",
       "      <td>4.526</td>\n",
       "    </tr>\n",
       "    <tr>\n",
       "      <th>1</th>\n",
       "      <td>8.3014</td>\n",
       "      <td>21.0</td>\n",
       "      <td>6.238137</td>\n",
       "      <td>0.971880</td>\n",
       "      <td>2401.0</td>\n",
       "      <td>2.109842</td>\n",
       "      <td>37.86</td>\n",
       "      <td>-122.22</td>\n",
       "      <td>3.585</td>\n",
       "    </tr>\n",
       "    <tr>\n",
       "      <th>2</th>\n",
       "      <td>7.2574</td>\n",
       "      <td>52.0</td>\n",
       "      <td>8.288136</td>\n",
       "      <td>1.073446</td>\n",
       "      <td>496.0</td>\n",
       "      <td>2.802260</td>\n",
       "      <td>37.85</td>\n",
       "      <td>-122.24</td>\n",
       "      <td>3.521</td>\n",
       "    </tr>\n",
       "    <tr>\n",
       "      <th>3</th>\n",
       "      <td>5.6431</td>\n",
       "      <td>52.0</td>\n",
       "      <td>5.817352</td>\n",
       "      <td>1.073059</td>\n",
       "      <td>558.0</td>\n",
       "      <td>2.547945</td>\n",
       "      <td>37.85</td>\n",
       "      <td>-122.25</td>\n",
       "      <td>3.413</td>\n",
       "    </tr>\n",
       "    <tr>\n",
       "      <th>4</th>\n",
       "      <td>3.8462</td>\n",
       "      <td>52.0</td>\n",
       "      <td>6.281853</td>\n",
       "      <td>1.081081</td>\n",
       "      <td>565.0</td>\n",
       "      <td>2.181467</td>\n",
       "      <td>37.85</td>\n",
       "      <td>-122.25</td>\n",
       "      <td>3.422</td>\n",
       "    </tr>\n",
       "  </tbody>\n",
       "</table>\n",
       "</div>"
      ],
      "text/plain": [
       "   MedInc  HouseAge  AveRooms  AveBedrms  Population  AveOccup  Latitude  \\\n",
       "0  8.3252      41.0  6.984127   1.023810       322.0  2.555556     37.88   \n",
       "1  8.3014      21.0  6.238137   0.971880      2401.0  2.109842     37.86   \n",
       "2  7.2574      52.0  8.288136   1.073446       496.0  2.802260     37.85   \n",
       "3  5.6431      52.0  5.817352   1.073059       558.0  2.547945     37.85   \n",
       "4  3.8462      52.0  6.281853   1.081081       565.0  2.181467     37.85   \n",
       "\n",
       "   Longitude  MedHouseVal  \n",
       "0    -122.23        4.526  \n",
       "1    -122.22        3.585  \n",
       "2    -122.24        3.521  \n",
       "3    -122.25        3.413  \n",
       "4    -122.25        3.422  "
      ]
     },
     "execution_count": 1121,
     "metadata": {},
     "output_type": "execute_result"
    }
   ],
   "source": [
    "data.head()"
   ]
  },
  {
   "cell_type": "code",
   "execution_count": 1122,
   "id": "130beac6",
   "metadata": {},
   "outputs": [
    {
     "name": "stdout",
     "output_type": "stream",
     "text": [
      "<class 'pandas.core.frame.DataFrame'>\n",
      "RangeIndex: 20640 entries, 0 to 20639\n",
      "Data columns (total 9 columns):\n",
      " #   Column       Non-Null Count  Dtype  \n",
      "---  ------       --------------  -----  \n",
      " 0   MedInc       20640 non-null  float64\n",
      " 1   HouseAge     20640 non-null  float64\n",
      " 2   AveRooms     20640 non-null  float64\n",
      " 3   AveBedrms    20640 non-null  float64\n",
      " 4   Population   20640 non-null  float64\n",
      " 5   AveOccup     20640 non-null  float64\n",
      " 6   Latitude     20640 non-null  float64\n",
      " 7   Longitude    20640 non-null  float64\n",
      " 8   MedHouseVal  20640 non-null  float64\n",
      "dtypes: float64(9)\n",
      "memory usage: 1.4 MB\n"
     ]
    }
   ],
   "source": [
    "data.info()"
   ]
  },
  {
   "cell_type": "markdown",
   "id": "eadf6095",
   "metadata": {},
   "source": [
    "### 3. Разделите выборку на обучающее и тестовое подмножества. 80% данных оставить на обучающее множество, 20% - на тестовое."
   ]
  },
  {
   "cell_type": "code",
   "execution_count": 1123,
   "id": "8ac1bc74",
   "metadata": {},
   "outputs": [],
   "source": [
    "X = data[['MedInc', 'HouseAge', 'AveRooms', 'AveBedrms', 'Population', 'AveOccup', 'Latitude', 'Longitude']]\n",
    "y = data[['MedHouseVal']]"
   ]
  },
  {
   "cell_type": "code",
   "execution_count": 1124,
   "id": "496329b1",
   "metadata": {},
   "outputs": [],
   "source": [
    "from sklearn.model_selection import train_test_split\n",
    "X_train, X_test, y_train, y_test = train_test_split(X, y, test_size=0.2, random_state=0)"
   ]
  },
  {
   "cell_type": "markdown",
   "id": "7ef4ede6",
   "metadata": {},
   "source": [
    "### 4. Постройте модель линейной регрессии. "
   ]
  },
  {
   "cell_type": "code",
   "execution_count": 1125,
   "id": "90367f0f",
   "metadata": {},
   "outputs": [],
   "source": [
    "from sklearn.linear_model import LinearRegression\n",
    "from sklearn.metrics import mean_squared_error, r2_score"
   ]
  },
  {
   "cell_type": "code",
   "execution_count": 1126,
   "id": "b90058bc",
   "metadata": {},
   "outputs": [
    {
     "data": {
      "text/plain": [
       "LinearRegression()"
      ]
     },
     "execution_count": 1126,
     "metadata": {},
     "output_type": "execute_result"
    }
   ],
   "source": [
    "model = LinearRegression()\n",
    "model.fit(X_train, y_train)"
   ]
  },
  {
   "cell_type": "code",
   "execution_count": 1127,
   "id": "e5ec0b36",
   "metadata": {},
   "outputs": [],
   "source": [
    "y_train_pred = model.predict(X_train)\n",
    "y_test_pred = model.predict(X_test)"
   ]
  },
  {
   "cell_type": "markdown",
   "id": "7ef41be9",
   "metadata": {},
   "source": [
    "#### Вычислите метрики RMSE, R2 на обучающем и тестовом множестве."
   ]
  },
  {
   "cell_type": "code",
   "execution_count": 1128,
   "id": "2145b631",
   "metadata": {},
   "outputs": [
    {
     "name": "stdout",
     "output_type": "stream",
     "text": [
      "Для обучающей выборки: \n",
      "RMSE = 0.7234924745376032 \n",
      "R2 = 0.6088968118672872\n"
     ]
    }
   ],
   "source": [
    "rmse_train = np.sqrt(mean_squared_error(y_train, y_train_pred))\n",
    "r2_train = r2_score(y_train, y_train_pred)\n",
    "print(f'Для обучающей выборки: \\nRMSE = {rmse_train} \\nR2 = {r2_train}')"
   ]
  },
  {
   "cell_type": "code",
   "execution_count": 1129,
   "id": "d8f59a8b",
   "metadata": {},
   "outputs": [
    {
     "name": "stdout",
     "output_type": "stream",
     "text": [
      "Для тестовой выборки: \n",
      "RMSE = 0.7273129773603112 \n",
      "R2 = 0.5943232652466205\n"
     ]
    }
   ],
   "source": [
    "rmse_test = np.sqrt(mean_squared_error(y_test, y_test_pred))\n",
    "r2_test = r2_score(y_test, y_test_pred)\n",
    "print(f'Для тестовой выборки: \\nRMSE = {rmse_test} \\nR2 = {r2_test}')"
   ]
  },
  {
   "cell_type": "markdown",
   "id": "b3804f44",
   "metadata": {},
   "source": [
    "### 5.  Постройте график распределения целевой переменной."
   ]
  },
  {
   "cell_type": "code",
   "execution_count": 1130,
   "id": "4f7f6d9d",
   "metadata": {},
   "outputs": [],
   "source": [
    "import matplotlib as plt"
   ]
  },
  {
   "cell_type": "code",
   "execution_count": 1131,
   "id": "bfd9ef34",
   "metadata": {},
   "outputs": [
    {
     "data": {
      "text/plain": [
       "<AxesSubplot:ylabel='Frequency'>"
      ]
     },
     "execution_count": 1131,
     "metadata": {},
     "output_type": "execute_result"
    },
    {
     "data": {
      "image/png": "[encoded data removed]",
      "text/plain": [
       "<Figure size 640x480 with 1 Axes>"
      ]
     },
     "metadata": {},
     "output_type": "display_data"
    }
   ],
   "source": [
    "y.plot(kind= 'hist', bins=50, edgecolor ='black')"
   ]
  },
  {
   "cell_type": "code",
   "execution_count": 1132,
   "id": "563ab89f",
   "metadata": {},
   "outputs": [
    {
     "data": {
      "text/plain": [
       "<AxesSubplot:>"
      ]
     },
     "execution_count": 1132,
     "metadata": {},
     "output_type": "execute_result"
    },
    {
     "data": {
      "image/png": "[encoded data removed]",
      "text/plain": [
       "<Figure size 640x480 with 1 Axes>"
      ]
     },
     "metadata": {},
     "output_type": "display_data"
    }
   ],
   "source": [
    "y.plot(kind='box', grid=True)"
   ]
  },
  {
   "cell_type": "code",
   "execution_count": 1133,
   "id": "328c6a6b",
   "metadata": {},
   "outputs": [
    {
     "data": {
      "text/plain": [
       "(1031, 9)"
      ]
     },
     "execution_count": 1133,
     "metadata": {},
     "output_type": "execute_result"
    }
   ],
   "source": [
    "data[data['MedHouseVal'] > 4.9].shape"
   ]
  },
  {
   "cell_type": "code",
   "execution_count": 1134,
   "id": "f00817a4",
   "metadata": {},
   "outputs": [
    {
     "data": {
      "text/plain": [
       "count    20640.000000\n",
       "mean         2.068558\n",
       "std          1.153956\n",
       "min          0.149990\n",
       "25%          1.196000\n",
       "50%          1.797000\n",
       "75%          2.647250\n",
       "max          5.000010\n",
       "Name: MedHouseVal, dtype: float64"
      ]
     },
     "execution_count": 1134,
     "metadata": {},
     "output_type": "execute_result"
    }
   ],
   "source": [
    "data['MedHouseVal'].describe()"
   ]
  },
  {
   "cell_type": "code",
   "execution_count": 1135,
   "id": "b932bbcb",
   "metadata": {},
   "outputs": [
    {
     "name": "stdout",
     "output_type": "stream",
     "text": [
      "5.0 %\n"
     ]
    }
   ],
   "source": [
    "print(round(data[data['MedHouseVal'] > 4.9].shape[0] * 100 / data.shape[0], 2), '%')"
   ]
  },
  {
   "cell_type": "markdown",
   "id": "c9c2e681",
   "metadata": {},
   "source": [
    "#### Сделайте вывод. Присутствуют ли в этом признаке выбросы?"
   ]
  },
  {
   "cell_type": "markdown",
   "id": "6cdbabc2",
   "metadata": {},
   "source": [
    "Признак \"Средняя стоимость дома\" колеблется от 0.15 до 5.0 (сотен тысяч долларов США). Средняя цена ~ 1.8 (00 000 $).\n",
    "В целевой переменной явно присутствуют выбросы. Стоимость, с максимальным значением встречается в 5%,  это свидетельствует о том, что в выборку попали \"особенные\" дома. Они не подходят для средних оценок и снижают точность предсказаний"
   ]
  },
  {
   "cell_type": "markdown",
   "id": "4828066c",
   "metadata": {},
   "source": [
    "### 6. Посчитайте и выведите корреляционную матрицу. \n",
    "Убедитесь, что ячейки матрицы поделены на цветные категории, в ячейках указано числовое значение корреляции."
   ]
  },
  {
   "cell_type": "code",
   "execution_count": 1136,
   "id": "945a36da",
   "metadata": {},
   "outputs": [],
   "source": [
    "import seaborn as sns"
   ]
  },
  {
   "cell_type": "code",
   "execution_count": 1137,
   "id": "33112b9b",
   "metadata": {},
   "outputs": [
    {
     "data": {
      "text/html": [
       "<div>\n",
       "<style scoped>\n",
       "    .dataframe tbody tr th:only-of-type {\n",
       "        vertical-align: middle;\n",
       "    }\n",
       "\n",
       "    .dataframe tbody tr th {\n",
       "        vertical-align: top;\n",
       "    }\n",
       "\n",
       "    .dataframe thead th {\n",
       "        text-align: right;\n",
       "    }\n",
       "</style>\n",
       "<table border=\"1\" class=\"dataframe\">\n",
       "  <thead>\n",
       "    <tr style=\"text-align: right;\">\n",
       "      <th></th>\n",
       "      <th>MedInc</th>\n",
       "      <th>HouseAge</th>\n",
       "      <th>AveRooms</th>\n",
       "      <th>AveBedrms</th>\n",
       "      <th>Population</th>\n",
       "      <th>AveOccup</th>\n",
       "      <th>Latitude</th>\n",
       "      <th>Longitude</th>\n",
       "      <th>MedHouseVal</th>\n",
       "    </tr>\n",
       "  </thead>\n",
       "  <tbody>\n",
       "    <tr>\n",
       "      <th>MedInc</th>\n",
       "      <td>1.000000</td>\n",
       "      <td>-0.119034</td>\n",
       "      <td>0.326895</td>\n",
       "      <td>-0.062040</td>\n",
       "      <td>0.004834</td>\n",
       "      <td>0.018766</td>\n",
       "      <td>-0.079809</td>\n",
       "      <td>-0.015176</td>\n",
       "      <td>0.688075</td>\n",
       "    </tr>\n",
       "    <tr>\n",
       "      <th>HouseAge</th>\n",
       "      <td>-0.119034</td>\n",
       "      <td>1.000000</td>\n",
       "      <td>-0.153277</td>\n",
       "      <td>-0.077747</td>\n",
       "      <td>-0.296244</td>\n",
       "      <td>0.013191</td>\n",
       "      <td>0.011173</td>\n",
       "      <td>-0.108197</td>\n",
       "      <td>0.105623</td>\n",
       "    </tr>\n",
       "    <tr>\n",
       "      <th>AveRooms</th>\n",
       "      <td>0.326895</td>\n",
       "      <td>-0.153277</td>\n",
       "      <td>1.000000</td>\n",
       "      <td>0.847621</td>\n",
       "      <td>-0.072213</td>\n",
       "      <td>-0.004852</td>\n",
       "      <td>0.106389</td>\n",
       "      <td>-0.027540</td>\n",
       "      <td>0.151948</td>\n",
       "    </tr>\n",
       "    <tr>\n",
       "      <th>AveBedrms</th>\n",
       "      <td>-0.062040</td>\n",
       "      <td>-0.077747</td>\n",
       "      <td>0.847621</td>\n",
       "      <td>1.000000</td>\n",
       "      <td>-0.066197</td>\n",
       "      <td>-0.006181</td>\n",
       "      <td>0.069721</td>\n",
       "      <td>0.013344</td>\n",
       "      <td>-0.046701</td>\n",
       "    </tr>\n",
       "    <tr>\n",
       "      <th>Population</th>\n",
       "      <td>0.004834</td>\n",
       "      <td>-0.296244</td>\n",
       "      <td>-0.072213</td>\n",
       "      <td>-0.066197</td>\n",
       "      <td>1.000000</td>\n",
       "      <td>0.069863</td>\n",
       "      <td>-0.108785</td>\n",
       "      <td>0.099773</td>\n",
       "      <td>-0.024650</td>\n",
       "    </tr>\n",
       "    <tr>\n",
       "      <th>AveOccup</th>\n",
       "      <td>0.018766</td>\n",
       "      <td>0.013191</td>\n",
       "      <td>-0.004852</td>\n",
       "      <td>-0.006181</td>\n",
       "      <td>0.069863</td>\n",
       "      <td>1.000000</td>\n",
       "      <td>0.002366</td>\n",
       "      <td>0.002476</td>\n",
       "      <td>-0.023737</td>\n",
       "    </tr>\n",
       "    <tr>\n",
       "      <th>Latitude</th>\n",
       "      <td>-0.079809</td>\n",
       "      <td>0.011173</td>\n",
       "      <td>0.106389</td>\n",
       "      <td>0.069721</td>\n",
       "      <td>-0.108785</td>\n",
       "      <td>0.002366</td>\n",
       "      <td>1.000000</td>\n",
       "      <td>-0.924664</td>\n",
       "      <td>-0.144160</td>\n",
       "    </tr>\n",
       "    <tr>\n",
       "      <th>Longitude</th>\n",
       "      <td>-0.015176</td>\n",
       "      <td>-0.108197</td>\n",
       "      <td>-0.027540</td>\n",
       "      <td>0.013344</td>\n",
       "      <td>0.099773</td>\n",
       "      <td>0.002476</td>\n",
       "      <td>-0.924664</td>\n",
       "      <td>1.000000</td>\n",
       "      <td>-0.045967</td>\n",
       "    </tr>\n",
       "    <tr>\n",
       "      <th>MedHouseVal</th>\n",
       "      <td>0.688075</td>\n",
       "      <td>0.105623</td>\n",
       "      <td>0.151948</td>\n",
       "      <td>-0.046701</td>\n",
       "      <td>-0.024650</td>\n",
       "      <td>-0.023737</td>\n",
       "      <td>-0.144160</td>\n",
       "      <td>-0.045967</td>\n",
       "      <td>1.000000</td>\n",
       "    </tr>\n",
       "  </tbody>\n",
       "</table>\n",
       "</div>"
      ],
      "text/plain": [
       "               MedInc  HouseAge  AveRooms  AveBedrms  Population  AveOccup  \\\n",
       "MedInc       1.000000 -0.119034  0.326895  -0.062040    0.004834  0.018766   \n",
       "HouseAge    -0.119034  1.000000 -0.153277  -0.077747   -0.296244  0.013191   \n",
       "AveRooms     0.326895 -0.153277  1.000000   0.847621   -0.072213 -0.004852   \n",
       "AveBedrms   -0.062040 -0.077747  0.847621   1.000000   -0.066197 -0.006181   \n",
       "Population   0.004834 -0.296244 -0.072213  -0.066197    1.000000  0.069863   \n",
       "AveOccup     0.018766  0.013191 -0.004852  -0.006181    0.069863  1.000000   \n",
       "Latitude    -0.079809  0.011173  0.106389   0.069721   -0.108785  0.002366   \n",
       "Longitude   -0.015176 -0.108197 -0.027540   0.013344    0.099773  0.002476   \n",
       "MedHouseVal  0.688075  0.105623  0.151948  -0.046701   -0.024650 -0.023737   \n",
       "\n",
       "             Latitude  Longitude  MedHouseVal  \n",
       "MedInc      -0.079809  -0.015176     0.688075  \n",
       "HouseAge     0.011173  -0.108197     0.105623  \n",
       "AveRooms     0.106389  -0.027540     0.151948  \n",
       "AveBedrms    0.069721   0.013344    -0.046701  \n",
       "Population  -0.108785   0.099773    -0.024650  \n",
       "AveOccup     0.002366   0.002476    -0.023737  \n",
       "Latitude     1.000000  -0.924664    -0.144160  \n",
       "Longitude   -0.924664   1.000000    -0.045967  \n",
       "MedHouseVal -0.144160  -0.045967     1.000000  "
      ]
     },
     "execution_count": 1137,
     "metadata": {},
     "output_type": "execute_result"
    }
   ],
   "source": [
    "corr_matrix = data.corr()\n",
    "corr_matrix"
   ]
  },
  {
   "cell_type": "code",
   "execution_count": 1138,
   "id": "6b08e077",
   "metadata": {},
   "outputs": [
    {
     "data": {
      "text/plain": [
       "<AxesSubplot:>"
      ]
     },
     "execution_count": 1138,
     "metadata": {},
     "output_type": "execute_result"
    },
    {
     "data": {
      "image/png": "[encoded data removed]",
      "text/plain": [
       "<Figure size 640x480 with 2 Axes>"
      ]
     },
     "metadata": {},
     "output_type": "display_data"
    }
   ],
   "source": [
    "sns.heatmap(corr_matrix, vmin = -1, vmax = +1, annot = True, fmt='.1g', cmap = 'coolwarm', linewidths=0.2, linecolor='white')"
   ]
  },
  {
   "cell_type": "markdown",
   "id": "aebf2ba9",
   "metadata": {},
   "source": [
    "#### Сделайте выводы."
   ]
  },
  {
   "cell_type": "markdown",
   "id": "9d1b56bc",
   "metadata": {},
   "source": [
    "MedInc (средний доход в блок-группе) - сильно и положительно влияет на целевую характеристику\n",
    "\n",
    "HouseAge (cредний возраст дома в блочной группе) - незначительно положительно влияет на целевую харктеристику\n",
    "\n",
    "AveRooms (среднее количество комнат на домохозяйство) - значительно коррелирует с признаком \"AveBedrms\", положительно коррелирует с целевой характеристикой; положительно коррелирует с признаком \"MedInc\"\n",
    "\n",
    "AveBedrms (cреднее количество спален на домохозяйство) - признак, который незначительно отрицательно коррелирует с целевой характеристикой; сильная коореляция только с признаком \"AveRooms\"\n",
    "\n",
    "\n",
    "Population (население блок-группы) - незначительно отрицательно коррелирует с целевой характеристикой, отрицательная корреляция с признаком \"HouseAge\"\n",
    "\n",
    "AveOccup (среднее количество членов домохозяйства) -  незначительно отрицательно коррелирует с целевой характеристикой; минимальное влияние на другие признаки \n",
    "\n",
    "Latitude (широта блок-группы) - незначительно отрицательно влияет на целевую харктеристику, сильна отрицательная корреляция с признаком \"Longitude\"; положительно коррелирует с признаком \"AveRooms\"; отрицательная корреляция с признаком \"Population\"\n",
    "\n",
    "Longitude (долгота блок-группы) - признак, который незначительно отрицательно коррелирует с целевой характеристикой; сильна отрицательная корреляция с признаком \"Latitude\"; отрицательная корреляция с признаком \"HouseAge\"; положительно коррелирует с признаком \"Population\""
   ]
  },
  {
   "cell_type": "markdown",
   "id": "eed4ba3d",
   "metadata": {},
   "source": [
    "Выводы:\n",
    "\n",
    "   + признаки \"AveRooms\" и \"AveBedrms\" сильно коррелируют, второй явно менее значим и может быть удален\n",
    "   + в выборке присутствуют 2 признака (\"Population\" и \"AveOccup\") , которые очень слабо коррелируют с целевым признаком \"MedHouseVal\", их можно попробовать удалить\n",
    "   \n",
    "    \n",
    "    "
   ]
  },
  {
   "cell_type": "markdown",
   "id": "06687b35",
   "metadata": {},
   "source": [
    "#### Проверим гипотезу, модель должна лучше работать, если удалить некоторые столбцы"
   ]
  },
  {
   "cell_type": "code",
   "execution_count": 1139,
   "id": "e42da9b7",
   "metadata": {},
   "outputs": [],
   "source": [
    "new_data = data[['MedInc', 'HouseAge', 'AveRooms', 'Latitude', 'Longitude', 'MedHouseVal']]\n",
    "X = new_data[['MedInc', 'HouseAge', 'AveRooms', 'Latitude', 'Longitude']]\n",
    "y = new_data[['MedHouseVal']]\n",
    "X_train, X_test, y_train, y_test = train_test_split(X, y, test_size=0.2, random_state=0)"
   ]
  },
  {
   "cell_type": "code",
   "execution_count": 1140,
   "id": "20515b29",
   "metadata": {},
   "outputs": [],
   "source": [
    "model = LinearRegression()\n",
    "model.fit(X_train, y_train)\n",
    "y_train_pred_1 = model.predict(X_train)\n",
    "y_test_pred_1 = model.predict(X_test)"
   ]
  },
  {
   "cell_type": "code",
   "execution_count": 1141,
   "id": "22956911",
   "metadata": {},
   "outputs": [
    {
     "name": "stdout",
     "output_type": "stream",
     "text": [
      "Для обучающей выборки: \n",
      "RMSE = 0.7321811459843051 \n",
      "R2 = 0.5994466182412557\n",
      "\n",
      "Для тестовой выборки: \n",
      "RMSE = 0.7424116296739356 \n",
      "R2 = 0.5773051453722329\n"
     ]
    }
   ],
   "source": [
    "rmse_train_1 = np.sqrt(mean_squared_error(y_train, y_train_pred_1))\n",
    "r2_train_1 = r2_score(y_train, y_train_pred_1)\n",
    "print(f'Для обучающей выборки: \\nRMSE = {rmse_train_1} \\nR2 = {r2_train_1}')\n",
    "\n",
    "rmse_test_1 = np.sqrt(mean_squared_error(y_test, y_test_pred_1))\n",
    "r2_test_1 = r2_score(y_test, y_test_pred_1)\n",
    "print(f'\\nДля тестовой выборки: \\nRMSE = {rmse_test_1} \\nR2 = {r2_test_1}')"
   ]
  },
  {
   "cell_type": "markdown",
   "id": "1a042397",
   "metadata": {},
   "source": [
    "$RMSE$ выросла ~ на 1 сотую, а $R^2$ понизилась. Гипотеза не подтвердилась. Стоит посмотреть на выбросы."
   ]
  },
  {
   "cell_type": "markdown",
   "id": "71c3b7ec",
   "metadata": {},
   "source": [
    "### 7. Исследуйте оставленные признаки на выбросы.\n",
    "- Удалите выбросы в случае обнаружения.\n",
    "- Измените несколько признаков на выбор математически. Например, вычислите логарифм, возведите в квадрат, извлеките квадратный корень."
   ]
  },
  {
   "cell_type": "markdown",
   "id": "3cdf67e2",
   "metadata": {},
   "source": [
    "###### Распределение признака \"MedInc\" (средний доход в блок-группе)"
   ]
  },
  {
   "cell_type": "code",
   "execution_count": 1142,
   "id": "932ff600",
   "metadata": {},
   "outputs": [
    {
     "data": {
      "text/plain": [
       "<AxesSubplot:ylabel='Frequency'>"
      ]
     },
     "execution_count": 1142,
     "metadata": {},
     "output_type": "execute_result"
    },
    {
     "data": {
      "image/png": "[encoded data removed]",
      "text/plain": [
       "<Figure size 640x480 with 1 Axes>"
      ]
     },
     "metadata": {},
     "output_type": "display_data"
    }
   ],
   "source": [
    "new_data['MedInc'].plot(kind='hist', bins=50, edgecolor ='black')"
   ]
  },
  {
   "cell_type": "markdown",
   "id": "431b69b0",
   "metadata": {},
   "source": [
    "Данные сильно скошены, попытаемся выровнять"
   ]
  },
  {
   "cell_type": "code",
   "execution_count": 1143,
   "id": "75859ca0",
   "metadata": {},
   "outputs": [
    {
     "name": "stderr",
     "output_type": "stream",
     "text": [
      "C:\\Users\\sveta\\AppData\\Local\\Temp\\ipykernel_2260\\4137528653.py:1: SettingWithCopyWarning: \n",
      "A value is trying to be set on a copy of a slice from a DataFrame.\n",
      "Try using .loc[row_indexer,col_indexer] = value instead\n",
      "\n",
      "See the caveats in the documentation: https://pandas.pydata.org/pandas-docs/stable/user_guide/indexing.html#returning-a-view-versus-a-copy\n",
      "  new_data['sqrt MedInc'] = np.sqrt(new_data['MedInc'])\n"
     ]
    }
   ],
   "source": [
    "new_data['sqrt MedInc'] = np.sqrt(new_data['MedInc'])"
   ]
  },
  {
   "cell_type": "code",
   "execution_count": 1144,
   "id": "bd9e5a48",
   "metadata": {},
   "outputs": [
    {
     "data": {
      "text/html": [
       "<div>\n",
       "<style scoped>\n",
       "    .dataframe tbody tr th:only-of-type {\n",
       "        vertical-align: middle;\n",
       "    }\n",
       "\n",
       "    .dataframe tbody tr th {\n",
       "        vertical-align: top;\n",
       "    }\n",
       "\n",
       "    .dataframe thead th {\n",
       "        text-align: right;\n",
       "    }\n",
       "</style>\n",
       "<table border=\"1\" class=\"dataframe\">\n",
       "  <thead>\n",
       "    <tr style=\"text-align: right;\">\n",
       "      <th></th>\n",
       "      <th>MedInc</th>\n",
       "      <th>HouseAge</th>\n",
       "      <th>AveRooms</th>\n",
       "      <th>Latitude</th>\n",
       "      <th>Longitude</th>\n",
       "      <th>MedHouseVal</th>\n",
       "      <th>sqrt MedInc</th>\n",
       "    </tr>\n",
       "  </thead>\n",
       "  <tbody>\n",
       "    <tr>\n",
       "      <th>0</th>\n",
       "      <td>8.3252</td>\n",
       "      <td>41.0</td>\n",
       "      <td>6.984127</td>\n",
       "      <td>37.88</td>\n",
       "      <td>-122.23</td>\n",
       "      <td>4.526</td>\n",
       "      <td>2.885342</td>\n",
       "    </tr>\n",
       "    <tr>\n",
       "      <th>1</th>\n",
       "      <td>8.3014</td>\n",
       "      <td>21.0</td>\n",
       "      <td>6.238137</td>\n",
       "      <td>37.86</td>\n",
       "      <td>-122.22</td>\n",
       "      <td>3.585</td>\n",
       "      <td>2.881215</td>\n",
       "    </tr>\n",
       "    <tr>\n",
       "      <th>2</th>\n",
       "      <td>7.2574</td>\n",
       "      <td>52.0</td>\n",
       "      <td>8.288136</td>\n",
       "      <td>37.85</td>\n",
       "      <td>-122.24</td>\n",
       "      <td>3.521</td>\n",
       "      <td>2.693956</td>\n",
       "    </tr>\n",
       "    <tr>\n",
       "      <th>3</th>\n",
       "      <td>5.6431</td>\n",
       "      <td>52.0</td>\n",
       "      <td>5.817352</td>\n",
       "      <td>37.85</td>\n",
       "      <td>-122.25</td>\n",
       "      <td>3.413</td>\n",
       "      <td>2.375521</td>\n",
       "    </tr>\n",
       "    <tr>\n",
       "      <th>4</th>\n",
       "      <td>3.8462</td>\n",
       "      <td>52.0</td>\n",
       "      <td>6.281853</td>\n",
       "      <td>37.85</td>\n",
       "      <td>-122.25</td>\n",
       "      <td>3.422</td>\n",
       "      <td>1.961173</td>\n",
       "    </tr>\n",
       "  </tbody>\n",
       "</table>\n",
       "</div>"
      ],
      "text/plain": [
       "   MedInc  HouseAge  AveRooms  Latitude  Longitude  MedHouseVal  sqrt MedInc\n",
       "0  8.3252      41.0  6.984127     37.88    -122.23        4.526     2.885342\n",
       "1  8.3014      21.0  6.238137     37.86    -122.22        3.585     2.881215\n",
       "2  7.2574      52.0  8.288136     37.85    -122.24        3.521     2.693956\n",
       "3  5.6431      52.0  5.817352     37.85    -122.25        3.413     2.375521\n",
       "4  3.8462      52.0  6.281853     37.85    -122.25        3.422     1.961173"
      ]
     },
     "execution_count": 1144,
     "metadata": {},
     "output_type": "execute_result"
    }
   ],
   "source": [
    "new_data.reindex()\n",
    "new_data.head()"
   ]
  },
  {
   "cell_type": "code",
   "execution_count": 1145,
   "id": "7acd3278",
   "metadata": {},
   "outputs": [
    {
     "data": {
      "text/plain": [
       "<AxesSubplot:ylabel='Frequency'>"
      ]
     },
     "execution_count": 1145,
     "metadata": {},
     "output_type": "execute_result"
    },
    {
     "data": {
      "image/png": "[encoded data removed]",
      "text/plain": [
       "<Figure size 640x480 with 1 Axes>"
      ]
     },
     "metadata": {},
     "output_type": "display_data"
    }
   ],
   "source": [
    "new_data['sqrt MedInc'].plot(kind='hist', bins=50, edgecolor ='black')"
   ]
  },
  {
   "cell_type": "code",
   "execution_count": 1146,
   "id": "2daa8cbd",
   "metadata": {},
   "outputs": [],
   "source": [
    "filter_X = new_data[['sqrt MedInc', 'HouseAge', 'AveRooms', 'Latitude', 'Longitude']]\n",
    "y = new_data[['MedHouseVal']]\n",
    "X_train, X_test, y_train, y_test = train_test_split(filter_X, y, test_size=0.2, random_state=0)\n",
    "\n",
    "model = LinearRegression()\n",
    "model.fit(X_train, y_train)\n",
    "y_train_pred_2 = model.predict(X_train)\n",
    "y_test_pred_2 = model.predict(X_test)"
   ]
  },
  {
   "cell_type": "code",
   "execution_count": 1147,
   "id": "50b481b5",
   "metadata": {},
   "outputs": [
    {
     "name": "stdout",
     "output_type": "stream",
     "text": [
      "Для обучающей выборки: \n",
      "RMSE = 0.7402733991755149 \n",
      "R2 = 0.5905436529671022\n",
      "\n",
      "Для тестовой выборки: \n",
      "RMSE = 0.7524765251696386 \n",
      "R2 = 0.5657664847716588\n"
     ]
    }
   ],
   "source": [
    "rmse_train_2 = np.sqrt(mean_squared_error(y_train, y_train_pred_2))\n",
    "r2_train_2 = r2_score(y_train, y_train_pred_2)\n",
    "print(f'Для обучающей выборки: \\nRMSE = {rmse_train_2} \\nR2 = {r2_train_2}')\n",
    "\n",
    "rmse_test_2 = np.sqrt(mean_squared_error(y_test, y_test_pred_2))\n",
    "r2_test_2 = r2_score(y_test, y_test_pred_2)\n",
    "print(f'\\nДля тестовой выборки: \\nRMSE = {rmse_test_2} \\nR2 = {r2_test_2}')"
   ]
  },
  {
   "cell_type": "markdown",
   "id": "bd7a7c36",
   "metadata": {},
   "source": [
    "Изменения незначительны: $RMSE$ на тестовой выборке выросло ~ на 0.1, а $R^2$ упало на 0.1"
   ]
  },
  {
   "cell_type": "markdown",
   "id": "b70865b9",
   "metadata": {},
   "source": [
    "###### Распределение признака \"HouseAge\" (cредний возраст дома в блочной группе)"
   ]
  },
  {
   "cell_type": "code",
   "execution_count": 1148,
   "id": "bfa70058",
   "metadata": {},
   "outputs": [
    {
     "data": {
      "text/plain": [
       "<AxesSubplot:ylabel='Frequency'>"
      ]
     },
     "execution_count": 1148,
     "metadata": {},
     "output_type": "execute_result"
    },
    {
     "data": {
      "image/png": "[encoded data removed]",
      "text/plain": [
       "<Figure size 640x480 with 1 Axes>"
      ]
     },
     "metadata": {},
     "output_type": "display_data"
    }
   ],
   "source": [
    "new_data['HouseAge'].plot(kind='hist', bins=50, edgecolor ='black')"
   ]
  },
  {
   "cell_type": "markdown",
   "id": "c93eb4d6",
   "metadata": {},
   "source": [
    "В данных есть явные выбросы, так же попробуем их нивелировать"
   ]
  },
  {
   "cell_type": "code",
   "execution_count": 1149,
   "id": "c051c566",
   "metadata": {},
   "outputs": [],
   "source": [
    "df = new_data[['sqrt MedInc', 'HouseAge', 'AveRooms', 'Latitude', 'Longitude', 'MedHouseVal']]"
   ]
  },
  {
   "cell_type": "code",
   "execution_count": 1150,
   "id": "0cd0c6ed",
   "metadata": {},
   "outputs": [
    {
     "name": "stderr",
     "output_type": "stream",
     "text": [
      "C:\\Users\\sveta\\AppData\\Local\\Temp\\ipykernel_2260\\4048445684.py:1: SettingWithCopyWarning: \n",
      "A value is trying to be set on a copy of a slice from a DataFrame\n",
      "\n",
      "See the caveats in the documentation: https://pandas.pydata.org/pandas-docs/stable/user_guide/indexing.html#returning-a-view-versus-a-copy\n",
      "  df.drop(df[df['HouseAge'] > 50].index, inplace=True)\n"
     ]
    }
   ],
   "source": [
    "df.drop(df[df['HouseAge'] > 50].index, inplace=True)"
   ]
  },
  {
   "cell_type": "code",
   "execution_count": 1151,
   "id": "1945325f",
   "metadata": {},
   "outputs": [],
   "source": [
    "filter_X = df[['sqrt MedInc', 'HouseAge', 'AveRooms', 'Latitude', 'Longitude']]\n",
    "y = df[['MedHouseVal']]\n",
    "X_train, X_test, y_train, y_test = train_test_split(filter_X, y, test_size=0.2, random_state=0)\n",
    "\n",
    "model = LinearRegression()\n",
    "model.fit(X_train, y_train)\n",
    "y_train_pred_3 = model.predict(X_train)\n",
    "y_test_pred_3 = model.predict(X_test)"
   ]
  },
  {
   "cell_type": "code",
   "execution_count": 1152,
   "id": "c658c82f",
   "metadata": {},
   "outputs": [
    {
     "name": "stdout",
     "output_type": "stream",
     "text": [
      "Для обучающей выборки: \n",
      "RMSE = 0.7209004504894572 \n",
      "R2 = 0.5853940712396002\n",
      "\n",
      "Для тестовой выборки: \n",
      "RMSE = 0.7102599795801922 \n",
      "R2 = 0.6038226343420854\n"
     ]
    }
   ],
   "source": [
    "rmse_train_3 = np.sqrt(mean_squared_error(y_train, y_train_pred_3))\n",
    "r2_train_3 = r2_score(y_train, y_train_pred_3)\n",
    "print(f'Для обучающей выборки: \\nRMSE = {rmse_train_3} \\nR2 = {r2_train_3}')\n",
    "\n",
    "rmse_test_3 = np.sqrt(mean_squared_error(y_test, y_test_pred_3))\n",
    "r2_test_3 = r2_score(y_test, y_test_pred_3)\n",
    "print(f'\\nДля тестовой выборки: \\nRMSE = {rmse_test_3} \\nR2 = {r2_test_3}')"
   ]
  },
  {
   "cell_type": "markdown",
   "id": "4ec4447e",
   "metadata": {},
   "source": [
    "Удаление явно портит метрику $RMSE$, значит этот выброс останется "
   ]
  },
  {
   "cell_type": "code",
   "execution_count": 1153,
   "id": "13b03c0d",
   "metadata": {},
   "outputs": [
    {
     "name": "stderr",
     "output_type": "stream",
     "text": [
      "C:\\Users\\sveta\\AppData\\Local\\Temp\\ipykernel_2260\\2293527169.py:1: SettingWithCopyWarning: \n",
      "A value is trying to be set on a copy of a slice from a DataFrame.\n",
      "Try using .loc[row_indexer,col_indexer] = value instead\n",
      "\n",
      "See the caveats in the documentation: https://pandas.pydata.org/pandas-docs/stable/user_guide/indexing.html#returning-a-view-versus-a-copy\n",
      "  new_data['log HouseAge'] = np.log(new_data['HouseAge'])\n"
     ]
    }
   ],
   "source": [
    "new_data['log HouseAge'] = np.log(new_data['HouseAge'])"
   ]
  },
  {
   "cell_type": "code",
   "execution_count": 1154,
   "id": "b3e8c2d3",
   "metadata": {},
   "outputs": [
    {
     "data": {
      "text/plain": [
       "<AxesSubplot:ylabel='Frequency'>"
      ]
     },
     "execution_count": 1154,
     "metadata": {},
     "output_type": "execute_result"
    },
    {
     "data": {
      "image/png": "[encoded data removed]",
      "text/plain": [
       "<Figure size 640x480 with 1 Axes>"
      ]
     },
     "metadata": {},
     "output_type": "display_data"
    }
   ],
   "source": [
    "new_data['log HouseAge'].plot(kind='hist', bins=50, edgecolor ='black')"
   ]
  },
  {
   "cell_type": "code",
   "execution_count": 1155,
   "id": "97206f77",
   "metadata": {},
   "outputs": [
    {
     "data": {
      "text/html": [
       "<div>\n",
       "<style scoped>\n",
       "    .dataframe tbody tr th:only-of-type {\n",
       "        vertical-align: middle;\n",
       "    }\n",
       "\n",
       "    .dataframe tbody tr th {\n",
       "        vertical-align: top;\n",
       "    }\n",
       "\n",
       "    .dataframe thead th {\n",
       "        text-align: right;\n",
       "    }\n",
       "</style>\n",
       "<table border=\"1\" class=\"dataframe\">\n",
       "  <thead>\n",
       "    <tr style=\"text-align: right;\">\n",
       "      <th></th>\n",
       "      <th>MedInc</th>\n",
       "      <th>HouseAge</th>\n",
       "      <th>AveRooms</th>\n",
       "      <th>Latitude</th>\n",
       "      <th>Longitude</th>\n",
       "      <th>MedHouseVal</th>\n",
       "      <th>sqrt MedInc</th>\n",
       "      <th>log HouseAge</th>\n",
       "    </tr>\n",
       "  </thead>\n",
       "  <tbody>\n",
       "    <tr>\n",
       "      <th>0</th>\n",
       "      <td>8.3252</td>\n",
       "      <td>41.0</td>\n",
       "      <td>6.984127</td>\n",
       "      <td>37.88</td>\n",
       "      <td>-122.23</td>\n",
       "      <td>4.526</td>\n",
       "      <td>2.885342</td>\n",
       "      <td>3.713572</td>\n",
       "    </tr>\n",
       "    <tr>\n",
       "      <th>1</th>\n",
       "      <td>8.3014</td>\n",
       "      <td>21.0</td>\n",
       "      <td>6.238137</td>\n",
       "      <td>37.86</td>\n",
       "      <td>-122.22</td>\n",
       "      <td>3.585</td>\n",
       "      <td>2.881215</td>\n",
       "      <td>3.044522</td>\n",
       "    </tr>\n",
       "    <tr>\n",
       "      <th>2</th>\n",
       "      <td>7.2574</td>\n",
       "      <td>52.0</td>\n",
       "      <td>8.288136</td>\n",
       "      <td>37.85</td>\n",
       "      <td>-122.24</td>\n",
       "      <td>3.521</td>\n",
       "      <td>2.693956</td>\n",
       "      <td>3.951244</td>\n",
       "    </tr>\n",
       "    <tr>\n",
       "      <th>3</th>\n",
       "      <td>5.6431</td>\n",
       "      <td>52.0</td>\n",
       "      <td>5.817352</td>\n",
       "      <td>37.85</td>\n",
       "      <td>-122.25</td>\n",
       "      <td>3.413</td>\n",
       "      <td>2.375521</td>\n",
       "      <td>3.951244</td>\n",
       "    </tr>\n",
       "    <tr>\n",
       "      <th>4</th>\n",
       "      <td>3.8462</td>\n",
       "      <td>52.0</td>\n",
       "      <td>6.281853</td>\n",
       "      <td>37.85</td>\n",
       "      <td>-122.25</td>\n",
       "      <td>3.422</td>\n",
       "      <td>1.961173</td>\n",
       "      <td>3.951244</td>\n",
       "    </tr>\n",
       "  </tbody>\n",
       "</table>\n",
       "</div>"
      ],
      "text/plain": [
       "   MedInc  HouseAge  AveRooms  Latitude  Longitude  MedHouseVal  sqrt MedInc  \\\n",
       "0  8.3252      41.0  6.984127     37.88    -122.23        4.526     2.885342   \n",
       "1  8.3014      21.0  6.238137     37.86    -122.22        3.585     2.881215   \n",
       "2  7.2574      52.0  8.288136     37.85    -122.24        3.521     2.693956   \n",
       "3  5.6431      52.0  5.817352     37.85    -122.25        3.413     2.375521   \n",
       "4  3.8462      52.0  6.281853     37.85    -122.25        3.422     1.961173   \n",
       "\n",
       "   log HouseAge  \n",
       "0      3.713572  \n",
       "1      3.044522  \n",
       "2      3.951244  \n",
       "3      3.951244  \n",
       "4      3.951244  "
      ]
     },
     "execution_count": 1155,
     "metadata": {},
     "output_type": "execute_result"
    }
   ],
   "source": [
    "new_data.reindex()\n",
    "new_data.head()"
   ]
  },
  {
   "cell_type": "code",
   "execution_count": 1156,
   "id": "b13cf50c",
   "metadata": {},
   "outputs": [],
   "source": [
    "filter_X = new_data[['sqrt MedInc', 'log HouseAge', 'AveRooms', 'Latitude', 'Longitude']]\n",
    "y = new_data[['MedHouseVal']]\n",
    "X_train, X_test, y_train, y_test = train_test_split(filter_X, y, test_size=0.2, random_state=0)\n",
    "\n",
    "model = LinearRegression()\n",
    "model.fit(X_train, y_train)\n",
    "y_train_pred_3 = model.predict(X_train)\n",
    "y_test_pred_3 = model.predict(X_test)"
   ]
  },
  {
   "cell_type": "code",
   "execution_count": 1157,
   "id": "0c2e52c5",
   "metadata": {},
   "outputs": [
    {
     "name": "stdout",
     "output_type": "stream",
     "text": [
      "Для обучающей выборки: \n",
      "RMSE = 0.7431059560011187 \n",
      "R2 = 0.5874041985508894\n",
      "\n",
      "Для тестовой выборки: \n",
      "RMSE = 0.7549346588475039 \n",
      "R2 = 0.5629248081222245\n"
     ]
    }
   ],
   "source": [
    "rmse_train_3 = np.sqrt(mean_squared_error(y_train, y_train_pred_3))\n",
    "r2_train_3 = r2_score(y_train, y_train_pred_3)\n",
    "print(f'Для обучающей выборки: \\nRMSE = {rmse_train_3} \\nR2 = {r2_train_3}')\n",
    "\n",
    "rmse_test_3 = np.sqrt(mean_squared_error(y_test, y_test_pred_3))\n",
    "r2_test_3 = r2_score(y_test, y_test_pred_3)\n",
    "print(f'\\nДля тестовой выборки: \\nRMSE = {rmse_test_3} \\nR2 = {r2_test_3}')"
   ]
  },
  {
   "cell_type": "markdown",
   "id": "4e9db886",
   "metadata": {},
   "source": [
    "Существенных изменений в метриках не произошло"
   ]
  },
  {
   "cell_type": "markdown",
   "id": "b16d6542",
   "metadata": {},
   "source": [
    "###### Распределение признака \"AveRooms\" (среднее количество комнат на домохозяйство)"
   ]
  },
  {
   "cell_type": "code",
   "execution_count": 1158,
   "id": "c143db15",
   "metadata": {},
   "outputs": [
    {
     "data": {
      "text/plain": [
       "<AxesSubplot:>"
      ]
     },
     "execution_count": 1158,
     "metadata": {},
     "output_type": "execute_result"
    },
    {
     "data": {
      "image/png": "[encoded data removed]",
      "text/plain": [
       "<Figure size 640x480 with 1 Axes>"
      ]
     },
     "metadata": {},
     "output_type": "display_data"
    }
   ],
   "source": [
    "new_data['AveRooms'].plot(kind='box', grid=True)"
   ]
  },
  {
   "cell_type": "code",
   "execution_count": 1159,
   "id": "491587be",
   "metadata": {},
   "outputs": [
    {
     "data": {
      "text/plain": [
       "count    20640.000000\n",
       "mean         5.429000\n",
       "std          2.474173\n",
       "min          0.846154\n",
       "25%          4.440716\n",
       "50%          5.229129\n",
       "75%          6.052381\n",
       "max        141.909091\n",
       "Name: AveRooms, dtype: float64"
      ]
     },
     "execution_count": 1159,
     "metadata": {},
     "output_type": "execute_result"
    }
   ],
   "source": [
    "new_data['AveRooms'].describe()"
   ]
  },
  {
   "cell_type": "markdown",
   "id": "dd4efcaf",
   "metadata": {},
   "source": [
    "В данных явно присутствуют выбросы. Попробуем их удалить"
   ]
  },
  {
   "cell_type": "code",
   "execution_count": 1160,
   "id": "cb810538",
   "metadata": {},
   "outputs": [],
   "source": [
    "df = new_data[['sqrt MedInc', 'log HouseAge', 'AveRooms', 'Latitude', 'Longitude', 'MedHouseVal']]"
   ]
  },
  {
   "cell_type": "code",
   "execution_count": 1161,
   "id": "d8565481",
   "metadata": {},
   "outputs": [
    {
     "name": "stderr",
     "output_type": "stream",
     "text": [
      "C:\\Users\\sveta\\AppData\\Local\\Temp\\ipykernel_2260\\4099661374.py:1: SettingWithCopyWarning: \n",
      "A value is trying to be set on a copy of a slice from a DataFrame\n",
      "\n",
      "See the caveats in the documentation: https://pandas.pydata.org/pandas-docs/stable/user_guide/indexing.html#returning-a-view-versus-a-copy\n",
      "  df.drop(df[df['AveRooms'] > 20].index, inplace=True)\n"
     ]
    }
   ],
   "source": [
    "df.drop(df[df['AveRooms'] > 20].index, inplace=True)"
   ]
  },
  {
   "cell_type": "code",
   "execution_count": 1162,
   "id": "43c2cd21",
   "metadata": {},
   "outputs": [],
   "source": [
    "filter_X = df[['sqrt MedInc', 'log HouseAge', 'AveRooms', 'Latitude', 'Longitude']]\n",
    "y = df[['MedHouseVal']]\n",
    "X_train, X_test, y_train, y_test = train_test_split(filter_X, y, test_size=0.2, random_state=0)\n",
    "\n",
    "model = LinearRegression()\n",
    "model.fit(X_train, y_train)\n",
    "y_train_pred_4 = model.predict(X_train)\n",
    "y_test_pred_4 = model.predict(X_test)"
   ]
  },
  {
   "cell_type": "code",
   "execution_count": 1163,
   "id": "c898c11e",
   "metadata": {},
   "outputs": [
    {
     "name": "stdout",
     "output_type": "stream",
     "text": [
      "Для обучающей выборки: \n",
      "RMSE = 0.7376479864073684 \n",
      "R2 = 0.5892588507992962\n",
      "\n",
      "Для тестовой выборки: \n",
      "RMSE = 0.7689655278529988 \n",
      "R2 = 0.5668925931131428\n"
     ]
    }
   ],
   "source": [
    "rmse_train_4 = np.sqrt(mean_squared_error(y_train, y_train_pred_4))\n",
    "r2_train_4 = r2_score(y_train, y_train_pred_4)\n",
    "print(f'Для обучающей выборки: \\nRMSE = {rmse_train_4} \\nR2 = {r2_train_4}')\n",
    "\n",
    "rmse_test_4 = np.sqrt(mean_squared_error(y_test, y_test_pred_4))\n",
    "r2_test_4 = r2_score(y_test, y_test_pred_4)\n",
    "print(f'\\nДля тестовой выборки: \\nRMSE = {rmse_test_4} \\nR2 = {r2_test_4}')"
   ]
  },
  {
   "cell_type": "markdown",
   "id": "cefe42c1",
   "metadata": {},
   "source": [
    "В данном случае удаление оказалось весьма действенным методом, оно повысило и $RMSE$ и $R^2$."
   ]
  },
  {
   "cell_type": "markdown",
   "id": "d04e837d",
   "metadata": {},
   "source": [
    "Переменные \"Latitude\" и \"Longitude\" менять не имеет смысла"
   ]
  },
  {
   "attachments": {},
   "cell_type": "markdown",
   "id": "1e4347fe",
   "metadata": {},
   "source": [
    "## Выводы\n",
    "В ходе работы были изучены методы разведочного анализа данных, а именно: выявлены зависимости, найдены аномалии, сформированы и проверены первичные гипотезы. \n",
    "\n",
    "Была обучена модель линейной регресси, которая по-разному реагировала на изменения в данных. Качество модели оценивалось с помощью метрик $RMSE$ и $R^2$. Оценки на разных этапах анализа предствлены ниже:\n",
    "\n",
    "\n",
    "| модель | RMSE | R2 | признаки |\n",
    "| --- | --- | --- | --- |\n",
    "| Исходная модель  | 0.7273129 | 0.5943232 | 'MedInc', 'HouseAge', 'AveRooms', 'AveBedrms', 'Population', 'AveOccup', 'Latitude', 'Longitude' |\n",
    "| Модель №1 | 0.7424116 | 0.5773051 | 'MedInc', 'HouseAge', 'AveRooms', 'Latitude', 'Longitude' |\n",
    "| Модель №2 | 0.7524765 | 0.5657664 | 'sqrt MedInc', 'HouseAge', 'AveRooms', 'Latitude', 'Longitude' |\n",
    "| Модель №3 | 0.7549346 | 0.5629248 | 'sqrt MedInc', 'log HouseAge', 'AveRooms', 'Latitude', 'Longitude' |\n",
    "| Модель №4 (AveRooms <= 20)| 0.7689655 | 0.5668925 | 'sqrt MedInc', 'log HouseAge', 'AveRooms', 'Latitude', 'Longitude' |\n",
    "\n",
    "\n"
   ]
  },
  {
   "cell_type": "markdown",
   "id": "49edefbc",
   "metadata": {},
   "source": [
    "Результаты неплохие, но есть основания попробовать более сложную модель."
   ]
  },
  {
   "cell_type": "code",
   "execution_count": null,
   "id": "ffc6c853",
   "metadata": {},
   "outputs": [],
   "source": []
  }
 ],
 "metadata": {
  "kernelspec": {
   "display_name": "Python 3 (ipykernel)",
   "language": "python",
   "name": "python3"
  },
  "language_info": {
   "codemirror_mode": {
    "name": "ipython",
    "version": 3
   },
   "file_extension": ".py",
   "mimetype": "text/x-python",
   "name": "python",
   "nbconvert_exporter": "python",
   "pygments_lexer": "ipython3",
   "version": "3.9.13"
  }
 },
 "nbformat": 4,
 "nbformat_minor": 5
}
