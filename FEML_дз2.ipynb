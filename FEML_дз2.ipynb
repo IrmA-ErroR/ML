{
 "cells": [
  {
   "cell_type": "markdown",
   "id": "0a6dee1b",
   "metadata": {},
   "source": [
    "# Домашнее задание «Функции потерь и оптимизация» "
   ]
  },
  {
   "cell_type": "markdown",
   "id": "56792008",
   "metadata": {},
   "source": [
    "## Задание\n",
    "\n",
    "### Цель: \n",
    "изучить применение методов оптимизации для решения задачи классификации\n",
    "### Описание задания:\n",
    "В домашнем задании необходимо применить полученные знания в теории оптимизации и машинном обучении для реализации логистической регрессии.\n"
   ]
  },
  {
   "cell_type": "code",
   "execution_count": 63,
   "id": "4d00295b",
   "metadata": {},
   "outputs": [],
   "source": [
    "import pandas as pd\n",
    "import numpy as np\n",
    "\n",
    "from sklearn.model_selection import train_test_split\n",
    "import time"
   ]
  },
  {
   "cell_type": "markdown",
   "id": "b31449a3",
   "metadata": {},
   "source": [
    "## Этапы работы:"
   ]
  },
  {
   "cell_type": "markdown",
   "id": "fd2d7997",
   "metadata": {},
   "source": [
    "### 1. Загрузите данные \n",
    "Используйте датасет с ирисами. Его можно загрузить непосредственно из библиотеки Sklearn. В данных оставьте только 2 класса: Iris Versicolor, Iris Virginica."
   ]
  },
  {
   "cell_type": "code",
   "execution_count": 64,
   "id": "3dca7e6e",
   "metadata": {},
   "outputs": [],
   "source": [
    "from sklearn.datasets import load_iris\n",
    "iris = load_iris()"
   ]
  },
  {
   "cell_type": "code",
   "execution_count": 65,
   "id": "b261cac4",
   "metadata": {},
   "outputs": [
    {
     "data": {
      "text/html": [
       "<div>\n",
       "<style scoped>\n",
       "    .dataframe tbody tr th:only-of-type {\n",
       "        vertical-align: middle;\n",
       "    }\n",
       "\n",
       "    .dataframe tbody tr th {\n",
       "        vertical-align: top;\n",
       "    }\n",
       "\n",
       "    .dataframe thead th {\n",
       "        text-align: right;\n",
       "    }\n",
       "</style>\n",
       "<table border=\"1\" class=\"dataframe\">\n",
       "  <thead>\n",
       "    <tr style=\"text-align: right;\">\n",
       "      <th></th>\n",
       "      <th>sepal length (cm)</th>\n",
       "      <th>sepal width (cm)</th>\n",
       "      <th>petal length (cm)</th>\n",
       "      <th>petal width (cm)</th>\n",
       "      <th>target</th>\n",
       "    </tr>\n",
       "  </thead>\n",
       "  <tbody>\n",
       "    <tr>\n",
       "      <th>50</th>\n",
       "      <td>7.0</td>\n",
       "      <td>3.2</td>\n",
       "      <td>4.7</td>\n",
       "      <td>1.4</td>\n",
       "      <td>1</td>\n",
       "    </tr>\n",
       "    <tr>\n",
       "      <th>51</th>\n",
       "      <td>6.4</td>\n",
       "      <td>3.2</td>\n",
       "      <td>4.5</td>\n",
       "      <td>1.5</td>\n",
       "      <td>1</td>\n",
       "    </tr>\n",
       "    <tr>\n",
       "      <th>52</th>\n",
       "      <td>6.9</td>\n",
       "      <td>3.1</td>\n",
       "      <td>4.9</td>\n",
       "      <td>1.5</td>\n",
       "      <td>1</td>\n",
       "    </tr>\n",
       "    <tr>\n",
       "      <th>53</th>\n",
       "      <td>5.5</td>\n",
       "      <td>2.3</td>\n",
       "      <td>4.0</td>\n",
       "      <td>1.3</td>\n",
       "      <td>1</td>\n",
       "    </tr>\n",
       "    <tr>\n",
       "      <th>54</th>\n",
       "      <td>6.5</td>\n",
       "      <td>2.8</td>\n",
       "      <td>4.6</td>\n",
       "      <td>1.5</td>\n",
       "      <td>1</td>\n",
       "    </tr>\n",
       "    <tr>\n",
       "      <th>...</th>\n",
       "      <td>...</td>\n",
       "      <td>...</td>\n",
       "      <td>...</td>\n",
       "      <td>...</td>\n",
       "      <td>...</td>\n",
       "    </tr>\n",
       "    <tr>\n",
       "      <th>140</th>\n",
       "      <td>6.7</td>\n",
       "      <td>3.1</td>\n",
       "      <td>5.6</td>\n",
       "      <td>2.4</td>\n",
       "      <td>2</td>\n",
       "    </tr>\n",
       "    <tr>\n",
       "      <th>141</th>\n",
       "      <td>6.9</td>\n",
       "      <td>3.1</td>\n",
       "      <td>5.1</td>\n",
       "      <td>2.3</td>\n",
       "      <td>2</td>\n",
       "    </tr>\n",
       "    <tr>\n",
       "      <th>142</th>\n",
       "      <td>5.8</td>\n",
       "      <td>2.7</td>\n",
       "      <td>5.1</td>\n",
       "      <td>1.9</td>\n",
       "      <td>2</td>\n",
       "    </tr>\n",
       "    <tr>\n",
       "      <th>143</th>\n",
       "      <td>6.8</td>\n",
       "      <td>3.2</td>\n",
       "      <td>5.9</td>\n",
       "      <td>2.3</td>\n",
       "      <td>2</td>\n",
       "    </tr>\n",
       "    <tr>\n",
       "      <th>144</th>\n",
       "      <td>6.7</td>\n",
       "      <td>3.3</td>\n",
       "      <td>5.7</td>\n",
       "      <td>2.5</td>\n",
       "      <td>2</td>\n",
       "    </tr>\n",
       "  </tbody>\n",
       "</table>\n",
       "<p>95 rows × 5 columns</p>\n",
       "</div>"
      ],
      "text/plain": [
       "     sepal length (cm)  sepal width (cm)  petal length (cm)  petal width (cm)  \\\n",
       "50                 7.0               3.2                4.7               1.4   \n",
       "51                 6.4               3.2                4.5               1.5   \n",
       "52                 6.9               3.1                4.9               1.5   \n",
       "53                 5.5               2.3                4.0               1.3   \n",
       "54                 6.5               2.8                4.6               1.5   \n",
       "..                 ...               ...                ...               ...   \n",
       "140                6.7               3.1                5.6               2.4   \n",
       "141                6.9               3.1                5.1               2.3   \n",
       "142                5.8               2.7                5.1               1.9   \n",
       "143                6.8               3.2                5.9               2.3   \n",
       "144                6.7               3.3                5.7               2.5   \n",
       "\n",
       "     target  \n",
       "50        1  \n",
       "51        1  \n",
       "52        1  \n",
       "53        1  \n",
       "54        1  \n",
       "..      ...  \n",
       "140       2  \n",
       "141       2  \n",
       "142       2  \n",
       "143       2  \n",
       "144       2  \n",
       "\n",
       "[95 rows x 5 columns]"
      ]
     },
     "execution_count": 65,
     "metadata": {},
     "output_type": "execute_result"
    }
   ],
   "source": [
    "df = pd.DataFrame(data=iris.data, columns=iris.feature_names)\n",
    "df['target'] = iris.target\n",
    "# удаление строк класса 0 \n",
    "df = df[df.target != 0]\n",
    "df.head(-5)"
   ]
  },
  {
   "cell_type": "code",
   "execution_count": 66,
   "id": "6cbc1c67",
   "metadata": {},
   "outputs": [],
   "source": [
    "df['target'] = df['target'].map({1: 0, 2: 1})\n",
    "# df"
   ]
  },
  {
   "cell_type": "code",
   "execution_count": 67,
   "id": "240d162e",
   "metadata": {},
   "outputs": [],
   "source": [
    "df['class'] = df['target'].map({0: 'Iris Versicolor', 1: 'Iris Virginica'})\n",
    "# df"
   ]
  },
  {
   "cell_type": "code",
   "execution_count": 68,
   "id": "02085c70",
   "metadata": {},
   "outputs": [
    {
     "data": {
      "text/plain": [
       "((100, 4),\n",
       " 50     0\n",
       " 51     0\n",
       " 52     0\n",
       " 53     0\n",
       " 54     0\n",
       "       ..\n",
       " 145    1\n",
       " 146    1\n",
       " 147    1\n",
       " 148    1\n",
       " 149    1\n",
       " Name: target, Length: 100, dtype: int64)"
      ]
     },
     "execution_count": 68,
     "metadata": {},
     "output_type": "execute_result"
    }
   ],
   "source": [
    "X = df.drop(['target', 'class'], axis=1)\n",
    "# X['theta0'] = 0\n",
    "y = df['target']\n",
    "X.shape, y"
   ]
  },
  {
   "cell_type": "code",
   "execution_count": 69,
   "id": "91ed06a5",
   "metadata": {},
   "outputs": [],
   "source": [
    "# нормирование входных данных\n",
    "def standardize(X):\n",
    "    std_X = (X - X.mean(0) ) / X.std(0)\n",
    "    print(f'Среднее отклонение:\\n{std_X.mean(axis=0)}\\n')\n",
    "    print(f'Стандартное отклонение:\\n{std_X.std(axis=0)}')\n",
    "    return std_X"
   ]
  },
  {
   "cell_type": "code",
   "execution_count": 70,
   "id": "58340477",
   "metadata": {},
   "outputs": [
    {
     "name": "stdout",
     "output_type": "stream",
     "text": [
      "Среднее отклонение:\n",
      "sepal length (cm)    3.356204e-15\n",
      "sepal width (cm)    -3.599343e-15\n",
      "petal length (cm)   -7.338574e-16\n",
      "petal width (cm)    -1.260103e-15\n",
      "dtype: float64\n",
      "\n",
      "Стандартное отклонение:\n",
      "sepal length (cm)    1.0\n",
      "sepal width (cm)     1.0\n",
      "petal length (cm)    1.0\n",
      "petal width (cm)     1.0\n",
      "dtype: float64\n"
     ]
    }
   ],
   "source": [
    "X = standardize(X)"
   ]
  },
  {
   "cell_type": "markdown",
   "id": "f372c46c",
   "metadata": {},
   "source": [
    "### 2. Реализуйте логистическую регрессию ( без использования метода LogisticRegression из библиотеки) \n",
    "*Оформите в виде класса с методами.*"
   ]
  },
  {
   "cell_type": "code",
   "execution_count": 71,
   "id": "8fce1e8a",
   "metadata": {},
   "outputs": [],
   "source": [
    "class LogisticRegression:\n",
    "    def __init__(self, learning_rate=0.001, epochs=1000, method='gd', epsilon=1e-10):\n",
    "        # инициализация скорости обучения, количества итераций, метода оптимизации, сглаживающего параметра\n",
    "        self.learning_rate = learning_rate\n",
    "        self.epochs = epochs\n",
    "        self.method = method\n",
    "        self.epsilon = epsilon\n",
    "        \n",
    "    def add_intercept(self, X): # добавление коэффициента для свободного веса\n",
    "        return np.concatenate((np.ones((X.shape[0], 1)), X), axis=1)\n",
    "\n",
    "\n",
    "    def sigmoid(self, x):\n",
    "        return 1 / (1 + np.exp(-x))\n",
    "\n",
    "\n",
    "    def logloss(self, y, y_pred): # функция потерь \n",
    "        lloss0 = np.sum(np.log(1 - self.y_pred[self.y == 0]) + self.epsilon)\n",
    "        lloss1 = np.sum(np.log(self.y_pred[self.y == 1]) + self.epsilon)\n",
    "        return -(lloss0 + lloss1)/len(self.y)\n",
    "       \n",
    "    \n",
    "    def fit(self, X, y):\n",
    "\n",
    "        np.random.seed(42)\n",
    "        self.weights = np.random.randn(X.shape[1])\n",
    "#         self.weights = np.zeros(X.shape[1])     # начальные веса могут быть нулями\n",
    "\n",
    "        for i in range(self.epochs):\n",
    "        \n",
    "            y_pred = self.sigmoid(np.dot(X, self.weights))\n",
    "            gradient = np.dot(X.T, (y_pred - y)) / y.size\n",
    "\n",
    "            if self.method == 'gd': # оптимизация по методу градиентного спуска\n",
    "                self.weights -= self.learning_rate * gradient\n",
    "\n",
    "            if self.method == 'rmsprop': # оптимизация по методу скользящего среднего\n",
    "                beta = 0.9 # коэффициент сохранения\n",
    "                v = beta * np.zeros(self.weights.shape) + (1 - beta) * gradient**2\n",
    "                self.weights -= self.learning_rate * gradient / (np.sqrt(v) + self.epsilon)\n",
    "\n",
    "        \n",
    "    def predict(self, X, sep = 0.5): # передсказание класса\n",
    "        prob = self.sigmoid(np.dot(X, self.weights))\n",
    "        return [1 if x >= sep else 0 for x in prob] \n",
    "#         return np.round(self.sigmoid(X, self.theta), 3) # вывод вероятности для каждого элемента\n",
    "\n",
    "    def accuracy(self, X, y):\n",
    "        return round((self.predict(X) == y).mean(), 2)"
   ]
  },
  {
   "cell_type": "code",
   "execution_count": 72,
   "id": "e8a9c653",
   "metadata": {},
   "outputs": [],
   "source": [
    "X_train, X_test, y_train, y_test = train_test_split(X, y, test_size = 0.2, random_state = 42)"
   ]
  },
  {
   "cell_type": "markdown",
   "id": "9c0afa72",
   "metadata": {},
   "source": [
    "#### 2.1 Реализуйте метод градиентного спуска. \n",
    "Обучите логистическую регрессию этим методом. Выберете и посчитайте метрику качества. Метрика должна быть одинакова для всех пунктов домашнего задания. Для упрощения сравнения выберете только одну метрику."
   ]
  },
  {
   "cell_type": "code",
   "execution_count": 73,
   "id": "ee1b850d",
   "metadata": {},
   "outputs": [
    {
     "name": "stdout",
     "output_type": "stream",
     "text": [
      "Wall time: 275 ms\n"
     ]
    }
   ],
   "source": [
    "lr_gd = LogisticRegression() \n",
    "# время обучения модели\n",
    "%time lr_gd.fit(X_train, y_train)"
   ]
  },
  {
   "cell_type": "code",
   "execution_count": 74,
   "id": "68e88326",
   "metadata": {},
   "outputs": [
    {
     "data": {
      "text/plain": [
       "0.95"
      ]
     },
     "execution_count": 74,
     "metadata": {},
     "output_type": "execute_result"
    }
   ],
   "source": [
    "# точность\n",
    "lr_gd.accuracy(X_test, y_test)"
   ]
  },
  {
   "cell_type": "markdown",
   "id": "52148e89",
   "metadata": {},
   "source": [
    "#### 2.2 Реализуйте метод скользящего среднего \n",
    "(Root Mean Square Propagation, RMSProp)."
   ]
  },
  {
   "cell_type": "code",
   "execution_count": 75,
   "id": "f6df048c",
   "metadata": {},
   "outputs": [
    {
     "name": "stdout",
     "output_type": "stream",
     "text": [
      "Wall time: 278 ms\n"
     ]
    }
   ],
   "source": [
    "lr_rmsp = LogisticRegression(method='rmsprop') \n",
    "# время обучения модели\n",
    "%time lr_rmsp.fit(X_train, y_train)"
   ]
  },
  {
   "cell_type": "code",
   "execution_count": 76,
   "id": "a360305c",
   "metadata": {},
   "outputs": [
    {
     "data": {
      "text/plain": [
       "0.8"
      ]
     },
     "execution_count": 76,
     "metadata": {},
     "output_type": "execute_result"
    }
   ],
   "source": [
    "# точность\n",
    "lr_rmsp.accuracy(X_test, y_test)"
   ]
  },
  {
   "cell_type": "markdown",
   "id": "b950bffa",
   "metadata": {},
   "source": [
    "##### Метод ускоренного градиента Нестерова реализовать не удалось"
   ]
  },
  {
   "cell_type": "markdown",
   "id": "e85e9254",
   "metadata": {},
   "source": [
    "### 3. Сравните значение метрик для реализованных методов оптимизации.  "
   ]
  },
  {
   "cell_type": "markdown",
   "id": "012a2c56",
   "metadata": {},
   "source": [
    "| Метод | Точность | Время работы (ms) |\n",
    "| :------- |:-------------:| :--------:|\n",
    "| Градиентный спуск |   0.95  | 275 |\n",
    "| RMSProp |  0.8 | 278 |\n"
   ]
  },
  {
   "cell_type": "markdown",
   "id": "04c51c4c",
   "metadata": {},
   "source": [
    "## Вывод\n",
    "\n",
    "Результат: получены навыки реализации методов оптимизации в задаче бинарной классификации. Пройденные методы оптимизации используются и в нейросетях."
   ]
  },
  {
   "cell_type": "markdown",
   "id": "a5b7a371",
   "metadata": {},
   "source": [
    "На конкретном премере методы оптимизации очень чувствительны к значениям тренировочной выборке за счет ее малого размера. \n",
    "Время работы алгоритмов сильно колеблится, а вот точность обычного Градиентного спуска значительно выше."
   ]
  }
 ],
 "metadata": {
  "kernelspec": {
   "display_name": "Python 3 (ipykernel)",
   "language": "python",
   "name": "python3"
  },
  "language_info": {
   "codemirror_mode": {
    "name": "ipython",
    "version": 3
   },
   "file_extension": ".py",
   "mimetype": "text/x-python",
   "name": "python",
   "nbconvert_exporter": "python",
   "pygments_lexer": "ipython3",
   "version": "3.9.13"
  }
 },
 "nbformat": 4,
 "nbformat_minor": 5
}
