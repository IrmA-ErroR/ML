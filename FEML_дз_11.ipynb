{
 "cells": [
  {
   "cell_type": "markdown",
   "id": "b02dffac",
   "metadata": {},
   "source": [
    "# Домашнее задание к лекции «Улучшение качества модели»\n"
   ]
  },
  {
   "cell_type": "markdown",
   "id": "cb39ea4a",
   "metadata": {},
   "source": [
    "## Задание\n",
    "\n",
    "#### Цель: Применить на практике алгоритмы по автоматической оптимизации параметров моделей машинного обучения\n",
    "\n",
    "#### Описание задания:\n",
    "В домашнем задании нужно решить задачу классификации наличия болезни сердца у пациентов. Данные для обучения моделей необходимо загрузить с [сайта](https://www.kaggle.com/fedesoriano/heart-failure-prediction). Целевая переменная – наличие болезни сердца (HeartDisease), принимает значения 0 или 1 в зависимости от отсутствия или наличия болезни соответственно. (Подробнее о признаках можно прочесть в описании датасета на сайте. Для выполнения работы не обязательно вникать в медицинские показатели.)"
   ]
  },
  {
   "cell_type": "code",
   "execution_count": 75,
   "id": "ff58d83d",
   "metadata": {},
   "outputs": [],
   "source": [
    "import numpy as np\n",
    "import pandas as pd\n",
    "import matplotlib.pyplot as plt"
   ]
  },
  {
   "cell_type": "code",
   "execution_count": 76,
   "id": "ed4c86b6",
   "metadata": {},
   "outputs": [],
   "source": [
    "import warnings\n",
    "warnings.filterwarnings('ignore')"
   ]
  },
  {
   "cell_type": "markdown",
   "id": "4370a7ad",
   "metadata": {},
   "source": [
    "## Этапы работы:"
   ]
  },
  {
   "cell_type": "markdown",
   "id": "09934dc5",
   "metadata": {},
   "source": [
    "### 1. Получите данные и загрузите их в рабочую среду"
   ]
  },
  {
   "cell_type": "code",
   "execution_count": 77,
   "id": "25578511",
   "metadata": {},
   "outputs": [
    {
     "data": {
      "text/html": [
       "<div>\n",
       "<style scoped>\n",
       "    .dataframe tbody tr th:only-of-type {\n",
       "        vertical-align: middle;\n",
       "    }\n",
       "\n",
       "    .dataframe tbody tr th {\n",
       "        vertical-align: top;\n",
       "    }\n",
       "\n",
       "    .dataframe thead th {\n",
       "        text-align: right;\n",
       "    }\n",
       "</style>\n",
       "<table border=\"1\" class=\"dataframe\">\n",
       "  <thead>\n",
       "    <tr style=\"text-align: right;\">\n",
       "      <th></th>\n",
       "      <th>Age</th>\n",
       "      <th>Sex</th>\n",
       "      <th>ChestPainType</th>\n",
       "      <th>RestingBP</th>\n",
       "      <th>Cholesterol</th>\n",
       "      <th>FastingBS</th>\n",
       "      <th>RestingECG</th>\n",
       "      <th>MaxHR</th>\n",
       "      <th>ExerciseAngina</th>\n",
       "      <th>Oldpeak</th>\n",
       "      <th>ST_Slope</th>\n",
       "      <th>HeartDisease</th>\n",
       "    </tr>\n",
       "  </thead>\n",
       "  <tbody>\n",
       "    <tr>\n",
       "      <th>0</th>\n",
       "      <td>40</td>\n",
       "      <td>M</td>\n",
       "      <td>ATA</td>\n",
       "      <td>140</td>\n",
       "      <td>289</td>\n",
       "      <td>0</td>\n",
       "      <td>Normal</td>\n",
       "      <td>172</td>\n",
       "      <td>N</td>\n",
       "      <td>0.0</td>\n",
       "      <td>Up</td>\n",
       "      <td>0</td>\n",
       "    </tr>\n",
       "    <tr>\n",
       "      <th>1</th>\n",
       "      <td>49</td>\n",
       "      <td>F</td>\n",
       "      <td>NAP</td>\n",
       "      <td>160</td>\n",
       "      <td>180</td>\n",
       "      <td>0</td>\n",
       "      <td>Normal</td>\n",
       "      <td>156</td>\n",
       "      <td>N</td>\n",
       "      <td>1.0</td>\n",
       "      <td>Flat</td>\n",
       "      <td>1</td>\n",
       "    </tr>\n",
       "    <tr>\n",
       "      <th>2</th>\n",
       "      <td>37</td>\n",
       "      <td>M</td>\n",
       "      <td>ATA</td>\n",
       "      <td>130</td>\n",
       "      <td>283</td>\n",
       "      <td>0</td>\n",
       "      <td>ST</td>\n",
       "      <td>98</td>\n",
       "      <td>N</td>\n",
       "      <td>0.0</td>\n",
       "      <td>Up</td>\n",
       "      <td>0</td>\n",
       "    </tr>\n",
       "    <tr>\n",
       "      <th>3</th>\n",
       "      <td>48</td>\n",
       "      <td>F</td>\n",
       "      <td>ASY</td>\n",
       "      <td>138</td>\n",
       "      <td>214</td>\n",
       "      <td>0</td>\n",
       "      <td>Normal</td>\n",
       "      <td>108</td>\n",
       "      <td>Y</td>\n",
       "      <td>1.5</td>\n",
       "      <td>Flat</td>\n",
       "      <td>1</td>\n",
       "    </tr>\n",
       "    <tr>\n",
       "      <th>4</th>\n",
       "      <td>54</td>\n",
       "      <td>M</td>\n",
       "      <td>NAP</td>\n",
       "      <td>150</td>\n",
       "      <td>195</td>\n",
       "      <td>0</td>\n",
       "      <td>Normal</td>\n",
       "      <td>122</td>\n",
       "      <td>N</td>\n",
       "      <td>0.0</td>\n",
       "      <td>Up</td>\n",
       "      <td>0</td>\n",
       "    </tr>\n",
       "  </tbody>\n",
       "</table>\n",
       "</div>"
      ],
      "text/plain": [
       "   Age Sex ChestPainType  RestingBP  Cholesterol  FastingBS RestingECG  MaxHR  \\\n",
       "0   40   M           ATA        140          289          0     Normal    172   \n",
       "1   49   F           NAP        160          180          0     Normal    156   \n",
       "2   37   M           ATA        130          283          0         ST     98   \n",
       "3   48   F           ASY        138          214          0     Normal    108   \n",
       "4   54   M           NAP        150          195          0     Normal    122   \n",
       "\n",
       "  ExerciseAngina  Oldpeak ST_Slope  HeartDisease  \n",
       "0              N      0.0       Up             0  \n",
       "1              N      1.0     Flat             1  \n",
       "2              N      0.0       Up             0  \n",
       "3              Y      1.5     Flat             1  \n",
       "4              N      0.0       Up             0  "
      ]
     },
     "execution_count": 77,
     "metadata": {},
     "output_type": "execute_result"
    }
   ],
   "source": [
    "my_path = r\"C:\\Users\\sveta\\Documents\\Netology\\ML\\heart.csv\"\n",
    "data = pd.read_csv(my_path)\n",
    "data.head()"
   ]
  },
  {
   "cell_type": "code",
   "execution_count": 78,
   "id": "240d958f",
   "metadata": {},
   "outputs": [
    {
     "name": "stdout",
     "output_type": "stream",
     "text": [
      "<class 'pandas.core.frame.DataFrame'>\n",
      "RangeIndex: 918 entries, 0 to 917\n",
      "Data columns (total 12 columns):\n",
      " #   Column          Non-Null Count  Dtype  \n",
      "---  ------          --------------  -----  \n",
      " 0   Age             918 non-null    int64  \n",
      " 1   Sex             918 non-null    object \n",
      " 2   ChestPainType   918 non-null    object \n",
      " 3   RestingBP       918 non-null    int64  \n",
      " 4   Cholesterol     918 non-null    int64  \n",
      " 5   FastingBS       918 non-null    int64  \n",
      " 6   RestingECG      918 non-null    object \n",
      " 7   MaxHR           918 non-null    int64  \n",
      " 8   ExerciseAngina  918 non-null    object \n",
      " 9   Oldpeak         918 non-null    float64\n",
      " 10  ST_Slope        918 non-null    object \n",
      " 11  HeartDisease    918 non-null    int64  \n",
      "dtypes: float64(1), int64(6), object(5)\n",
      "memory usage: 86.2+ KB\n"
     ]
    }
   ],
   "source": [
    "data.info()"
   ]
  },
  {
   "cell_type": "markdown",
   "id": "71832d9e",
   "metadata": {},
   "source": [
    "Attribute Information:\n",
    "    \n",
    "- Age: возраст пациента [лет]\n",
    "- Sex: пол пациента [M: Male, F: Female]\n",
    "- ChestPainType: тип боли в груди [TA: Typical Angina, ATA: Atypical Angina, NAP: Non-Anginal Pain, ASY: Asymptomatic]\n",
    "- RestingBP: артериальное давление в состоянии покоя [mm Hg]\n",
    "- Cholesterol: сывороточный холестерин [mm/dl]\n",
    "- FastingBS: уровень сахара в крови натощак [1: if FastingBS > 120 mg/dl, 0: otherwise]\n",
    "- RestingECG: результаты электрокардиограммы в покое [Normal: Normal, ST: having ST-T wave abnormality (T wave inversions and/or ST elevation or depression of > 0.05 mV), LVH: showing probable or definite left ventricular hypertrophy by Estes' criteria]\n",
    "- MaxHR: максимальная достигнутая частота сердечных сокращений [Numeric value between 60 and 202]\n",
    "- ExerciseAngina: стенокардия, вызванная физической нагрузкой [Y: Yes, N: No]\n",
    "- Oldpeak: oldpeak = ST [Numeric value measured in depression]\n",
    "- ST_Slope: the slope of the peak exercise ST segment [Up: upsloping, Flat: flat, Down: downsloping]\n",
    "- HeartDisease: output class [1: heart disease, 0: Normal]"
   ]
  },
  {
   "cell_type": "markdown",
   "id": "bb8adfef",
   "metadata": {},
   "source": [
    "### 2. Подготовьте датасет к обучению моделей."
   ]
  },
  {
   "cell_type": "markdown",
   "id": "29d551f5",
   "metadata": {},
   "source": [
    "#### a) Категориальные переменные переведите в цифровые значения"
   ]
  },
  {
   "cell_type": "code",
   "execution_count": 79,
   "id": "87d445b8",
   "metadata": {},
   "outputs": [
    {
     "data": {
      "text/plain": [
       "Index(['Sex', 'ChestPainType', 'RestingECG', 'ExerciseAngina', 'ST_Slope'], dtype='object')"
      ]
     },
     "execution_count": 79,
     "metadata": {},
     "output_type": "execute_result"
    }
   ],
   "source": [
    "categorials = data.select_dtypes('object').columns\n",
    "categorials"
   ]
  },
  {
   "cell_type": "code",
   "execution_count": 80,
   "id": "ee248ce8",
   "metadata": {},
   "outputs": [
    {
     "data": {
      "text/html": [
       "<div>\n",
       "<style scoped>\n",
       "    .dataframe tbody tr th:only-of-type {\n",
       "        vertical-align: middle;\n",
       "    }\n",
       "\n",
       "    .dataframe tbody tr th {\n",
       "        vertical-align: top;\n",
       "    }\n",
       "\n",
       "    .dataframe thead th {\n",
       "        text-align: right;\n",
       "    }\n",
       "</style>\n",
       "<table border=\"1\" class=\"dataframe\">\n",
       "  <thead>\n",
       "    <tr style=\"text-align: right;\">\n",
       "      <th></th>\n",
       "      <th>Age</th>\n",
       "      <th>RestingBP</th>\n",
       "      <th>Cholesterol</th>\n",
       "      <th>FastingBS</th>\n",
       "      <th>MaxHR</th>\n",
       "      <th>Oldpeak</th>\n",
       "      <th>HeartDisease</th>\n",
       "      <th>Sex_M</th>\n",
       "      <th>ChestPainType_ATA</th>\n",
       "      <th>ChestPainType_NAP</th>\n",
       "      <th>ChestPainType_TA</th>\n",
       "      <th>RestingECG_Normal</th>\n",
       "      <th>RestingECG_ST</th>\n",
       "      <th>ExerciseAngina_Y</th>\n",
       "      <th>ST_Slope_Flat</th>\n",
       "      <th>ST_Slope_Up</th>\n",
       "    </tr>\n",
       "  </thead>\n",
       "  <tbody>\n",
       "    <tr>\n",
       "      <th>0</th>\n",
       "      <td>40</td>\n",
       "      <td>140</td>\n",
       "      <td>289</td>\n",
       "      <td>0</td>\n",
       "      <td>172</td>\n",
       "      <td>0.0</td>\n",
       "      <td>0</td>\n",
       "      <td>1</td>\n",
       "      <td>1</td>\n",
       "      <td>0</td>\n",
       "      <td>0</td>\n",
       "      <td>1</td>\n",
       "      <td>0</td>\n",
       "      <td>0</td>\n",
       "      <td>0</td>\n",
       "      <td>1</td>\n",
       "    </tr>\n",
       "    <tr>\n",
       "      <th>1</th>\n",
       "      <td>49</td>\n",
       "      <td>160</td>\n",
       "      <td>180</td>\n",
       "      <td>0</td>\n",
       "      <td>156</td>\n",
       "      <td>1.0</td>\n",
       "      <td>1</td>\n",
       "      <td>0</td>\n",
       "      <td>0</td>\n",
       "      <td>1</td>\n",
       "      <td>0</td>\n",
       "      <td>1</td>\n",
       "      <td>0</td>\n",
       "      <td>0</td>\n",
       "      <td>1</td>\n",
       "      <td>0</td>\n",
       "    </tr>\n",
       "    <tr>\n",
       "      <th>2</th>\n",
       "      <td>37</td>\n",
       "      <td>130</td>\n",
       "      <td>283</td>\n",
       "      <td>0</td>\n",
       "      <td>98</td>\n",
       "      <td>0.0</td>\n",
       "      <td>0</td>\n",
       "      <td>1</td>\n",
       "      <td>1</td>\n",
       "      <td>0</td>\n",
       "      <td>0</td>\n",
       "      <td>0</td>\n",
       "      <td>1</td>\n",
       "      <td>0</td>\n",
       "      <td>0</td>\n",
       "      <td>1</td>\n",
       "    </tr>\n",
       "    <tr>\n",
       "      <th>3</th>\n",
       "      <td>48</td>\n",
       "      <td>138</td>\n",
       "      <td>214</td>\n",
       "      <td>0</td>\n",
       "      <td>108</td>\n",
       "      <td>1.5</td>\n",
       "      <td>1</td>\n",
       "      <td>0</td>\n",
       "      <td>0</td>\n",
       "      <td>0</td>\n",
       "      <td>0</td>\n",
       "      <td>1</td>\n",
       "      <td>0</td>\n",
       "      <td>1</td>\n",
       "      <td>1</td>\n",
       "      <td>0</td>\n",
       "    </tr>\n",
       "    <tr>\n",
       "      <th>4</th>\n",
       "      <td>54</td>\n",
       "      <td>150</td>\n",
       "      <td>195</td>\n",
       "      <td>0</td>\n",
       "      <td>122</td>\n",
       "      <td>0.0</td>\n",
       "      <td>0</td>\n",
       "      <td>1</td>\n",
       "      <td>0</td>\n",
       "      <td>1</td>\n",
       "      <td>0</td>\n",
       "      <td>1</td>\n",
       "      <td>0</td>\n",
       "      <td>0</td>\n",
       "      <td>0</td>\n",
       "      <td>1</td>\n",
       "    </tr>\n",
       "  </tbody>\n",
       "</table>\n",
       "</div>"
      ],
      "text/plain": [
       "   Age  RestingBP  Cholesterol  FastingBS  MaxHR  Oldpeak  HeartDisease  \\\n",
       "0   40        140          289          0    172      0.0             0   \n",
       "1   49        160          180          0    156      1.0             1   \n",
       "2   37        130          283          0     98      0.0             0   \n",
       "3   48        138          214          0    108      1.5             1   \n",
       "4   54        150          195          0    122      0.0             0   \n",
       "\n",
       "   Sex_M  ChestPainType_ATA  ChestPainType_NAP  ChestPainType_TA  \\\n",
       "0      1                  1                  0                 0   \n",
       "1      0                  0                  1                 0   \n",
       "2      1                  1                  0                 0   \n",
       "3      0                  0                  0                 0   \n",
       "4      1                  0                  1                 0   \n",
       "\n",
       "   RestingECG_Normal  RestingECG_ST  ExerciseAngina_Y  ST_Slope_Flat  \\\n",
       "0                  1              0                 0              0   \n",
       "1                  1              0                 0              1   \n",
       "2                  0              1                 0              0   \n",
       "3                  1              0                 1              1   \n",
       "4                  1              0                 0              0   \n",
       "\n",
       "   ST_Slope_Up  \n",
       "0            1  \n",
       "1            0  \n",
       "2            1  \n",
       "3            0  \n",
       "4            1  "
      ]
     },
     "execution_count": 80,
     "metadata": {},
     "output_type": "execute_result"
    }
   ],
   "source": [
    "dummy_data = pd.get_dummies(data, columns=categorials, drop_first= True)\n",
    "dummy_data.head()"
   ]
  },
  {
   "cell_type": "markdown",
   "id": "271291ff",
   "metadata": {},
   "source": [
    "### 3. Разделите выборку на обучающее и тестовое подмножество. 80% данных оставить на обучающее множество, 20% на тестовое."
   ]
  },
  {
   "cell_type": "code",
   "execution_count": 81,
   "id": "95976c30",
   "metadata": {},
   "outputs": [],
   "source": [
    "from sklearn.model_selection import train_test_split"
   ]
  },
  {
   "cell_type": "code",
   "execution_count": 82,
   "id": "02d6c1ee",
   "metadata": {},
   "outputs": [],
   "source": [
    "X = dummy_data.drop(columns=['HeartDisease'])\n",
    "y = dummy_data[['HeartDisease']]"
   ]
  },
  {
   "cell_type": "code",
   "execution_count": 83,
   "id": "96e99ed8",
   "metadata": {},
   "outputs": [],
   "source": [
    "X_train, X_test, y_train, y_test = train_test_split(X, y, test_size=0.2, random_state=41)"
   ]
  },
  {
   "cell_type": "markdown",
   "id": "c3fd3ca6",
   "metadata": {},
   "source": [
    "### 4. Обучите модель логистической регрессии с параметрами по умолчанию"
   ]
  },
  {
   "cell_type": "code",
   "execution_count": 84,
   "id": "cf0c6ac7",
   "metadata": {},
   "outputs": [],
   "source": [
    "from sklearn.linear_model import LogisticRegression"
   ]
  },
  {
   "cell_type": "markdown",
   "id": "297de50a",
   "metadata": {},
   "source": [
    "Parameters:\n",
    "\n",
    "- penalty{'l1', 'l2', 'elasticnet', 'none'}, default='l2'\n",
    "Используется для указания нормы, используемой в наказании. Решатели «newton-cg», «sag» и «lbfgs» поддерживают только штрафы l2. \n",
    "- dual bool, default=False\n",
    "Двойная или первичная формулировка. Предпочитать dual = False, когда n_samples > n_features.\n",
    "\n",
    "- tol float, default=1e-4\n",
    "Толерантность к критериям остановки.\n",
    "\n",
    "- **C** float, default=1.0\n",
    "Обратная сила регуляризации; должен быть положительный. Как и в векторных машинах поддержки, меньшие значения указывают более сильную регуляризацию.\n",
    "\n",
    "- fit_interceptbool, default=True\n",
    "Указывает, следует ли добавлять к функции принятия решения константу (так же известную как смещение или перехват).\n",
    "\n",
    "- intercept_scalingfloat, default=1\n",
    "Полезно, только когда используется решатель liblinear и для self.fit_intercept установлено значение True. В этом случае x становится [x, self.intercept_scaling], т. е. к вектору экземпляра добавляется «синтетический» признак с постоянным значением, равным intercept_scaling. Перехват становится intercept_scaling * synthetic_feature_weight .\n",
    "\n",
    "- class_weightdict or 'balanced', default=None\n",
    "Веса, связанные с классами в форме {class_label: weight} . Если не указано иное, все классы должны иметь вес один.\n",
    "\n",
    "«Сбалансированный» режим использует значения y для автоматической корректировки весов, обратно пропорциональных частотам классов во входных данных, как n_samples / (n_classes * np.bincount(y)) .\n",
    "\n",
    "- **random_state** int, RandomState instance, default=None\n",
    "Используется, когда solver == 'sag', 'saga' или 'liblinear' для перемешивания данных. \n",
    "\n",
    "- **solver**{'newton-cg', 'lbfgs', 'liblinear', 'sag', 'saga'}, default='lbfgs'\n",
    "\n",
    "- **max_iterint**, default=100\n",
    "Максимальное количество итераций,необходимое для сходимости решателей.\n",
    "\n",
    "- multi_class{'auto', 'ovr', 'multinomial'}, default='auto'\n",
    "\n",
    "- verboseint, default=0\n",
    "Для губчатых и lbfgs solvers установите любое положительное число для глаголов.\n",
    "\n",
    "- n_jobs int, default=None\n",
    "Количество ядер ЦП, используемых при распараллеливании по классам, если multi_class='ovr'. \n"
   ]
  },
  {
   "cell_type": "code",
   "execution_count": 85,
   "id": "04451ce4",
   "metadata": {},
   "outputs": [],
   "source": [
    "logreg = LogisticRegression()\n",
    "\n",
    "# Обучаем модель на тренировочных данных\n",
    "logreg.fit(X_train, y_train)\n",
    "\n",
    "# Предсказываем значения для тестовых данных\n",
    "y_pred = logreg.predict(X_test)"
   ]
  },
  {
   "cell_type": "markdown",
   "id": "f79b0171",
   "metadata": {},
   "source": [
    "### 5. Подсчитайте основные метрики модели\n",
    "Используйте следующие метрики и `функцию:cross_validate(…, cv=10, scoring=['accuracy','recall','precision','f1'])`"
   ]
  },
  {
   "cell_type": "code",
   "execution_count": 86,
   "id": "3f4a2497",
   "metadata": {},
   "outputs": [],
   "source": [
    "from sklearn.model_selection import cross_validate\n",
    "from sklearn.metrics import accuracy_score, recall_score, precision_score, f1_score"
   ]
  },
  {
   "cell_type": "code",
   "execution_count": 87,
   "id": "ad4a2d57",
   "metadata": {},
   "outputs": [
    {
     "name": "stdout",
     "output_type": "stream",
     "text": [
      "Средние значения метрик:\n",
      "Accuracy: 0.8516483516483516\n",
      "Recall: 0.8695294117647057\n",
      "Precision: 0.8682864966913024\n",
      "F1-score: 0.8644385680123691\n"
     ]
    }
   ],
   "source": [
    "scoring = ['accuracy', 'recall', 'precision', 'f1']\n",
    "\n",
    "# Применение функции cross_validate для оценки модели\n",
    "cv_results = cross_validate(logreg, X, y.values.ravel(), cv=10, scoring=scoring)\n",
    "\n",
    "print(\"Средние значения метрик:\")\n",
    "print(\"Accuracy:\", cv_results['test_accuracy'].mean())\n",
    "print(\"Recall:\", cv_results['test_recall'].mean())\n",
    "print(\"Precision:\", cv_results['test_precision'].mean())\n",
    "print(\"F1-score:\", cv_results['test_f1'].mean())\n"
   ]
  },
  {
   "cell_type": "markdown",
   "id": "84f49156",
   "metadata": {},
   "source": [
    "### 6. Оптимизируйте 3-4 параметра модели:"
   ]
  },
  {
   "cell_type": "markdown",
   "id": "d591f905",
   "metadata": {},
   "source": [
    "##### Изменим обратную силу регуляризации"
   ]
  },
  {
   "cell_type": "code",
   "execution_count": 88,
   "id": "8f8f2f6f",
   "metadata": {},
   "outputs": [],
   "source": [
    "logreg1 = LogisticRegression(C=0.01)\n",
    "logreg1.fit(X_train, y_train)\n",
    "y_pred1 = logreg1.predict(X_test)"
   ]
  },
  {
   "cell_type": "code",
   "execution_count": 89,
   "id": "09649c9c",
   "metadata": {},
   "outputs": [
    {
     "name": "stdout",
     "output_type": "stream",
     "text": [
      "Средние значения метрик:\n",
      "Accuracy: 0.8147037744863832\n",
      "Recall: 0.836156862745098\n",
      "Precision: 0.8382347442704144\n",
      "F1-score: 0.8300343479794062\n"
     ]
    }
   ],
   "source": [
    "scoring = ['accuracy', 'recall', 'precision', 'f1']\n",
    "\n",
    "# Применение функции cross_validate для оценки модели\n",
    "cv_results = cross_validate(logreg1, X, y.values.ravel(), cv=10, scoring=scoring)\n",
    "\n",
    "print(\"Средние значения метрик:\")\n",
    "print(\"Accuracy:\", cv_results['test_accuracy'].mean())\n",
    "print(\"Recall:\", cv_results['test_recall'].mean())\n",
    "print(\"Precision:\", cv_results['test_precision'].mean())\n",
    "print(\"F1-score:\", cv_results['test_f1'].mean())\n"
   ]
  },
  {
   "cell_type": "code",
   "execution_count": 90,
   "id": "0a027430",
   "metadata": {},
   "outputs": [],
   "source": [
    "logreg1 = LogisticRegression(C=100)\n",
    "logreg1.fit(X_train, y_train)\n",
    "y_pred1 = logreg1.predict(X_test)"
   ]
  },
  {
   "cell_type": "code",
   "execution_count": 91,
   "id": "a368cf19",
   "metadata": {},
   "outputs": [
    {
     "name": "stdout",
     "output_type": "stream",
     "text": [
      "Средние значения метрик:\n",
      "Accuracy: 0.8494744386048735\n",
      "Recall: 0.8636078431372548\n",
      "Precision: 0.8680930758348879\n",
      "F1-score: 0.8617829832743682\n"
     ]
    }
   ],
   "source": [
    "scoring = ['accuracy', 'recall', 'precision', 'f1']\n",
    "\n",
    "# Применение функции cross_validate для оценки модели\n",
    "cv_results = cross_validate(logreg1, X, y.values.ravel(), cv=10, scoring=scoring)\n",
    "\n",
    "print(\"Средние значения метрик:\")\n",
    "print(\"Accuracy:\", cv_results['test_accuracy'].mean())\n",
    "print(\"Recall:\", cv_results['test_recall'].mean())\n",
    "print(\"Precision:\", cv_results['test_precision'].mean())\n",
    "print(\"F1-score:\", cv_results['test_f1'].mean())\n"
   ]
  },
  {
   "cell_type": "markdown",
   "id": "dd6d153d",
   "metadata": {},
   "source": [
    "Любые значительные отклонения от С = 1 ухудшают метрики модели"
   ]
  },
  {
   "cell_type": "markdown",
   "id": "95a34a8f",
   "metadata": {},
   "source": [
    "##### Изменим random_state"
   ]
  },
  {
   "cell_type": "code",
   "execution_count": 92,
   "id": "dd579c65",
   "metadata": {},
   "outputs": [],
   "source": [
    "from sklearn.model_selection import GridSearchCV"
   ]
  },
  {
   "cell_type": "code",
   "execution_count": 93,
   "id": "793131c8",
   "metadata": {},
   "outputs": [],
   "source": [
    "param_grid = {\n",
    "    'random_state': [11, 42, 83, 1004]\n",
    "}"
   ]
  },
  {
   "cell_type": "code",
   "execution_count": 94,
   "id": "ccf8b1a7",
   "metadata": {},
   "outputs": [],
   "source": [
    "logreg2 = LogisticRegression()"
   ]
  },
  {
   "cell_type": "code",
   "execution_count": 95,
   "id": "8ba05418",
   "metadata": {},
   "outputs": [],
   "source": [
    "grid_search = GridSearchCV(logreg, param_grid, scoring=['accuracy', 'recall', 'precision', 'f1'], refit=False, cv=10)\n",
    "grid_search.fit(X_train, y_train.values.ravel())\n",
    "\n",
    "# Получение результатов \n",
    "cv_results = grid_search.cv_results_"
   ]
  },
  {
   "cell_type": "code",
   "execution_count": 96,
   "id": "e54b7ed7",
   "metadata": {},
   "outputs": [
    {
     "name": "stdout",
     "output_type": "stream",
     "text": [
      "Значение random_state: 11\n",
      "Средние значения метрик:\n",
      "Accuracy: 0.8623102554609403\n",
      "Recall: 0.8899390243902439\n",
      "Precision: 0.8675546584663948\n",
      "F1-score: 0.8779082610960799\n",
      "\n",
      "Значение random_state: 42\n",
      "Средние значения метрик:\n",
      "Accuracy: 0.8623102554609403\n",
      "Recall: 0.8899390243902439\n",
      "Precision: 0.8675546584663948\n",
      "F1-score: 0.8779082610960799\n",
      "\n",
      "Значение random_state: 83\n",
      "Средние значения метрик:\n",
      "Accuracy: 0.8623102554609403\n",
      "Recall: 0.8899390243902439\n",
      "Precision: 0.8675546584663948\n",
      "F1-score: 0.8779082610960799\n",
      "\n",
      "Значение random_state: 1004\n",
      "Средние значения метрик:\n",
      "Accuracy: 0.8623102554609403\n",
      "Recall: 0.8899390243902439\n",
      "Precision: 0.8675546584663948\n",
      "F1-score: 0.8779082610960799\n",
      "\n"
     ]
    }
   ],
   "source": [
    "for i, random_state in enumerate(param_grid['random_state']):\n",
    "    print(\"Значение random_state:\", random_state)\n",
    "    print(\"Средние значения метрик:\")\n",
    "    print(\"Accuracy:\", cv_results['mean_test_accuracy'][i])\n",
    "    print(\"Recall:\", cv_results['mean_test_recall'][i])\n",
    "    print(\"Precision:\", cv_results['mean_test_precision'][i])\n",
    "    print(\"F1-score:\", cv_results['mean_test_f1'][i])\n",
    "    print()"
   ]
  },
  {
   "cell_type": "markdown",
   "id": "624a3841",
   "metadata": {},
   "source": [
    "Очевидно, random_state не влияет на результат"
   ]
  },
  {
   "cell_type": "markdown",
   "id": "18e92c1c",
   "metadata": {},
   "source": [
    "##### Изменим алгоритм оптимизации функции потерь"
   ]
  },
  {
   "cell_type": "code",
   "execution_count": 97,
   "id": "add161f9",
   "metadata": {},
   "outputs": [],
   "source": [
    "param_grid = {\n",
    "    'solver': ['newton-cg', 'lbfgs', 'liblinear', 'sag', 'saga']\n",
    "}"
   ]
  },
  {
   "cell_type": "code",
   "execution_count": 98,
   "id": "7452a155",
   "metadata": {},
   "outputs": [],
   "source": [
    "logreg3 = LogisticRegression()\n",
    "grid_search = GridSearchCV(logreg, param_grid, scoring=['accuracy', 'recall', 'precision', 'f1'], refit=False, cv=10)\n",
    "grid_search.fit(X_train, y_train.values.ravel())\n",
    "\n",
    "cv_results = grid_search.cv_results_"
   ]
  },
  {
   "cell_type": "code",
   "execution_count": 99,
   "id": "edf3118a",
   "metadata": {},
   "outputs": [
    {
     "name": "stdout",
     "output_type": "stream",
     "text": [
      "Значение solver: newton-cg\n",
      "Средние значения метрик:\n",
      "Accuracy: 0.8595520177711959\n",
      "Recall: 0.884939024390244\n",
      "Precision: 0.8667826636963426\n",
      "F1-score: 0.8750776231471618\n",
      "\n",
      "Значение solver: lbfgs\n",
      "Средние значения метрик:\n",
      "Accuracy: 0.8623102554609403\n",
      "Recall: 0.8899390243902439\n",
      "Precision: 0.8675546584663948\n",
      "F1-score: 0.8779082610960799\n",
      "\n",
      "Значение solver: liblinear\n",
      "Средние значения метрик:\n",
      "Accuracy: 0.8582006664198445\n",
      "Recall: 0.884939024390244\n",
      "Precision: 0.8649469149040719\n",
      "F1-score: 0.8740618519629862\n",
      "\n",
      "Значение solver: sag\n",
      "Средние значения метрик:\n",
      "Accuracy: 0.7411514253980007\n",
      "Recall: 0.7922560975609756\n",
      "Precision: 0.7559020583686313\n",
      "F1-score: 0.7726275744922412\n",
      "\n",
      "Значение solver: saga\n",
      "Средние значения метрик:\n",
      "Accuracy: 0.7180118474639021\n",
      "Recall: 0.7654268292682926\n",
      "Precision: 0.7389036124573558\n",
      "F1-score: 0.7504011404347353\n",
      "\n"
     ]
    }
   ],
   "source": [
    "for i, solver in enumerate(param_grid['solver']):\n",
    "    print(\"Значение solver:\", solver)\n",
    "    print(\"Средние значения метрик:\")\n",
    "    print(\"Accuracy:\", cv_results['mean_test_accuracy'][i])\n",
    "    print(\"Recall:\", cv_results['mean_test_recall'][i])\n",
    "    print(\"Precision:\", cv_results['mean_test_precision'][i])\n",
    "    print(\"F1-score:\", cv_results['mean_test_f1'][i])\n",
    "    print()"
   ]
  },
  {
   "cell_type": "markdown",
   "id": "cbd697c3",
   "metadata": {},
   "source": [
    "Лучше всего себя показал L-BFGS (Limited-memory Broyden-Fletcher-Goldfarb-Shanno), который стоит по умолчанию. \n",
    "Хуже всех справился saga (стохастический средний градиент, который также поддерживает L1-регуляризацию). Скорее всего, для него слишком мало данных."
   ]
  },
  {
   "cell_type": "markdown",
   "id": "1eef84f3",
   "metadata": {},
   "source": [
    "##### Изменим количество итераций"
   ]
  },
  {
   "cell_type": "code",
   "execution_count": 100,
   "id": "2c395958",
   "metadata": {},
   "outputs": [],
   "source": [
    "param_grid = {\n",
    "    'max_iter': [10, 200, 1000]\n",
    "}"
   ]
  },
  {
   "cell_type": "code",
   "execution_count": 101,
   "id": "82053fd0",
   "metadata": {},
   "outputs": [],
   "source": [
    "logreg4 = LogisticRegression()\n",
    "grid_search = GridSearchCV(logreg, param_grid, scoring=['accuracy', 'recall', 'precision', 'f1'], refit=False, cv=10)\n",
    "grid_search.fit(X_train, y_train.values.ravel())\n",
    "\n",
    "cv_results = grid_search.cv_results_"
   ]
  },
  {
   "cell_type": "code",
   "execution_count": 102,
   "id": "6fd7c4f7",
   "metadata": {},
   "outputs": [
    {
     "name": "stdout",
     "output_type": "stream",
     "text": [
      "Значение max_iter: 10\n",
      "Средние значения метрик:\n",
      "Accuracy: 0.6907441688263607\n",
      "Recall: 0.7482317073170732\n",
      "Precision: 0.7130423155710462\n",
      "F1-score: 0.7293189532962455\n",
      "\n",
      "Значение max_iter: 200\n",
      "Средние значения метрик:\n",
      "Accuracy: 0.8622917437985931\n",
      "Recall: 0.8873780487804878\n",
      "Precision: 0.8694956012809104\n",
      "F1-score: 0.8775917606206487\n",
      "\n",
      "Значение max_iter: 1000\n",
      "Средние значения метрик:\n",
      "Accuracy: 0.8582006664198445\n",
      "Recall: 0.884939024390244\n",
      "Precision: 0.8649469149040719\n",
      "F1-score: 0.8740618519629862\n",
      "\n"
     ]
    }
   ],
   "source": [
    "for i, max_iter in enumerate(param_grid['max_iter']):\n",
    "    print(\"Значение max_iter:\", max_iter)\n",
    "    print(\"Средние значения метрик:\")\n",
    "    print(\"Accuracy:\", cv_results['mean_test_accuracy'][i])\n",
    "    print(\"Recall:\", cv_results['mean_test_recall'][i])\n",
    "    print(\"Precision:\", cv_results['mean_test_precision'][i])\n",
    "    print(\"F1-score:\", cv_results['mean_test_f1'][i])\n",
    "    print()"
   ]
  },
  {
   "cell_type": "markdown",
   "id": "a39d3a78",
   "metadata": {},
   "source": [
    "Для данной модели число операций ~100 является оптимальным, любые изменения ухудшают метрики"
   ]
  },
  {
   "cell_type": "markdown",
   "id": "e74adc6f",
   "metadata": {},
   "source": [
    "### 7. Сформулируйте выводы по проделанной работе:"
   ]
  },
  {
   "cell_type": "markdown",
   "id": "1548a586",
   "metadata": {},
   "source": [
    "#### a) Сравните метрики построенных моделей"
   ]
  },
  {
   "cell_type": "markdown",
   "id": "a7d38ab6",
   "metadata": {},
   "source": [
    "Для данной небольшой выборки данных оказалось достаточно стандартных параметров логистической регрессии. Серьезные изменения приводят к снижению качества модели. \n",
    "\n",
    "| Метрика | Среднее значение |\n",
    "|:------------------------|---------|\n",
    "|Accuracy| 0.85|\n",
    "|Recall| 0.87|\n",
    "|Precision| 0.87|\n",
    "|F1-score| 0.86|"
   ]
  },
  {
   "cell_type": "markdown",
   "id": "f79a7459",
   "metadata": {},
   "source": [
    "#### b) *Сравните с полученными результатами в домашнем задании по теме «Ансамблирование»."
   ]
  },
  {
   "cell_type": "code",
   "execution_count": null,
   "id": "95a2e720",
   "metadata": {},
   "outputs": [],
   "source": []
  },
  {
   "cell_type": "markdown",
   "id": "e7ccdda0",
   "metadata": {},
   "source": [
    "Выводы работы по ансамблированию:"
   ]
  },
  {
   "cell_type": "markdown",
   "id": "2e7329f8",
   "metadata": {},
   "source": [
    "#### a) Сравните метрики построенных моделей."
   ]
  },
  {
   "cell_type": "markdown",
   "id": "89ec1b75",
   "metadata": {},
   "source": [
    "| Модель                         | Precision | Recall  | F1-score | Support |\n",
    "|:--------------------------------|-----------|---------|----------|---------|\n",
    "| Decision Tree Classifier      | 0.78      | 0.74    | 0.76     | 99      |\n",
    "| Random Forest Classifier      | 0.87     | 0.91    | 0.89     | 99      |\n",
    "| Bagging Classifier (Decision Tree) | 0.88      | 0.85    | 0.86     | 99     |\n",
    "| Stacking Classifier | 0.84      | 0.91    | 0.87     | 99     |"
   ]
  },
  {
   "cell_type": "markdown",
   "id": "ce05cf09",
   "metadata": {},
   "source": [
    "#### b) Напишите свое мнение, какая модель наилучшая и почему."
   ]
  },
  {
   "cell_type": "markdown",
   "id": "f65a0070",
   "metadata": {},
   "source": [
    "Лучше всех моделей наличие болезни определяет модель Random Forest Classifier. Она позволяет выявить важность признаков и использовать наиболее значимые. Однако деревья склонны к переобучению. Поэтому наилучшей моделью является Stacking Classifier. Она использует достоинства случайного леса, но более гибкая "
   ]
  },
  {
   "cell_type": "code",
   "execution_count": null,
   "id": "10e73490",
   "metadata": {},
   "outputs": [],
   "source": []
  },
  {
   "cell_type": "markdown",
   "id": "cb71c711",
   "metadata": {},
   "source": [
    "По сравнению с деревьями, модель логистической регрессии менее склонна к переобучение. Ее метрики не так разнятся, хотя специфика задачи предполагает классификацию, регрессия справляется неплохо. Модель можно улучшить, используя комбинации различных параметров."
   ]
  }
 ],
 "metadata": {
  "kernelspec": {
   "display_name": "Python 3 (ipykernel)",
   "language": "python",
   "name": "python3"
  },
  "language_info": {
   "codemirror_mode": {
    "name": "ipython",
    "version": 3
   },
   "file_extension": ".py",
   "mimetype": "text/x-python",
   "name": "python",
   "nbconvert_exporter": "python",
   "pygments_lexer": "ipython3",
   "version": "3.9.13"
  }
 },
 "nbformat": 4,
 "nbformat_minor": 5
}
