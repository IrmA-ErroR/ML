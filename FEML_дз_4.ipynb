{
 "cells": [
  {
   "cell_type": "markdown",
   "id": "3eaa3e6b",
   "metadata": {},
   "source": [
    "# Домашнее задание «Проблема качества данных»"
   ]
  },
  {
   "cell_type": "markdown",
   "id": "23c7336e",
   "metadata": {},
   "source": [
    "#### Цель: \n",
    "применить на практике методы по оценке качества данных.\n",
    "#### Описание задания:\n",
    "В домашней работе необходимо провести очистку данных на примере датасета с информацией о пассажирах корабля Титаник. На полученных данных обучите модель классификации, с целевым признаком Survived (1 – пассажир выжил, 0 – погиб). Обучите модель на необработанных данных и посчитайте метрику качества. Проведите очистку данных. Обучите модель на данных после обработки, посчитайте метрику качества. Сравнить полученные результаты. Значение метрики должно улучшиться."
   ]
  },
  {
   "cell_type": "code",
   "execution_count": 1197,
   "id": "770fc20c",
   "metadata": {},
   "outputs": [],
   "source": [
    "import numpy as np\n",
    "import pandas as pd"
   ]
  },
  {
   "cell_type": "code",
   "execution_count": 1198,
   "id": "55575f27",
   "metadata": {},
   "outputs": [],
   "source": [
    "from sklearn.linear_model import LogisticRegression\n",
    "from sklearn.metrics import roc_auc_score, roc_curve\n",
    "from sklearn.metrics import mean_absolute_error\n",
    "import matplotlib.pyplot as plt"
   ]
  },
  {
   "cell_type": "markdown",
   "id": "9a5829b1",
   "metadata": {},
   "source": [
    "## Этапы работы:"
   ]
  },
  {
   "cell_type": "markdown",
   "id": "b38516be",
   "metadata": {},
   "source": [
    "### 1. Получите и загрузите данные"
   ]
  },
  {
   "cell_type": "code",
   "execution_count": 1199,
   "id": "5e19e1cf",
   "metadata": {},
   "outputs": [
    {
     "data": {
      "text/html": [
       "<div>\n",
       "<style scoped>\n",
       "    .dataframe tbody tr th:only-of-type {\n",
       "        vertical-align: middle;\n",
       "    }\n",
       "\n",
       "    .dataframe tbody tr th {\n",
       "        vertical-align: top;\n",
       "    }\n",
       "\n",
       "    .dataframe thead th {\n",
       "        text-align: right;\n",
       "    }\n",
       "</style>\n",
       "<table border=\"1\" class=\"dataframe\">\n",
       "  <thead>\n",
       "    <tr style=\"text-align: right;\">\n",
       "      <th></th>\n",
       "      <th>PassengerId</th>\n",
       "      <th>Survived</th>\n",
       "      <th>Pclass</th>\n",
       "      <th>Name</th>\n",
       "      <th>Sex</th>\n",
       "      <th>Age</th>\n",
       "      <th>SibSp</th>\n",
       "      <th>Parch</th>\n",
       "      <th>Ticket</th>\n",
       "      <th>Fare</th>\n",
       "      <th>Cabin</th>\n",
       "      <th>Embarked</th>\n",
       "    </tr>\n",
       "  </thead>\n",
       "  <tbody>\n",
       "    <tr>\n",
       "      <th>0</th>\n",
       "      <td>1</td>\n",
       "      <td>0</td>\n",
       "      <td>3</td>\n",
       "      <td>Braund, Mr. Owen Harris</td>\n",
       "      <td>male</td>\n",
       "      <td>22.0</td>\n",
       "      <td>1</td>\n",
       "      <td>0</td>\n",
       "      <td>A/5 21171</td>\n",
       "      <td>7.2500</td>\n",
       "      <td>NaN</td>\n",
       "      <td>S</td>\n",
       "    </tr>\n",
       "    <tr>\n",
       "      <th>1</th>\n",
       "      <td>2</td>\n",
       "      <td>1</td>\n",
       "      <td>1</td>\n",
       "      <td>Cumings, Mrs. John Bradley (Florence Briggs Th...</td>\n",
       "      <td>female</td>\n",
       "      <td>38.0</td>\n",
       "      <td>1</td>\n",
       "      <td>0</td>\n",
       "      <td>PC 17599</td>\n",
       "      <td>71.2833</td>\n",
       "      <td>C85</td>\n",
       "      <td>C</td>\n",
       "    </tr>\n",
       "    <tr>\n",
       "      <th>2</th>\n",
       "      <td>3</td>\n",
       "      <td>1</td>\n",
       "      <td>3</td>\n",
       "      <td>Heikkinen, Miss. Laina</td>\n",
       "      <td>female</td>\n",
       "      <td>26.0</td>\n",
       "      <td>0</td>\n",
       "      <td>0</td>\n",
       "      <td>STON/O2. 3101282</td>\n",
       "      <td>7.9250</td>\n",
       "      <td>NaN</td>\n",
       "      <td>S</td>\n",
       "    </tr>\n",
       "    <tr>\n",
       "      <th>3</th>\n",
       "      <td>4</td>\n",
       "      <td>1</td>\n",
       "      <td>1</td>\n",
       "      <td>Futrelle, Mrs. Jacques Heath (Lily May Peel)</td>\n",
       "      <td>female</td>\n",
       "      <td>35.0</td>\n",
       "      <td>1</td>\n",
       "      <td>0</td>\n",
       "      <td>113803</td>\n",
       "      <td>53.1000</td>\n",
       "      <td>C123</td>\n",
       "      <td>S</td>\n",
       "    </tr>\n",
       "    <tr>\n",
       "      <th>4</th>\n",
       "      <td>5</td>\n",
       "      <td>0</td>\n",
       "      <td>3</td>\n",
       "      <td>Allen, Mr. William Henry</td>\n",
       "      <td>male</td>\n",
       "      <td>35.0</td>\n",
       "      <td>0</td>\n",
       "      <td>0</td>\n",
       "      <td>373450</td>\n",
       "      <td>8.0500</td>\n",
       "      <td>NaN</td>\n",
       "      <td>S</td>\n",
       "    </tr>\n",
       "  </tbody>\n",
       "</table>\n",
       "</div>"
      ],
      "text/plain": [
       "   PassengerId  Survived  Pclass  \\\n",
       "0            1         0       3   \n",
       "1            2         1       1   \n",
       "2            3         1       3   \n",
       "3            4         1       1   \n",
       "4            5         0       3   \n",
       "\n",
       "                                                Name     Sex   Age  SibSp  \\\n",
       "0                            Braund, Mr. Owen Harris    male  22.0      1   \n",
       "1  Cumings, Mrs. John Bradley (Florence Briggs Th...  female  38.0      1   \n",
       "2                             Heikkinen, Miss. Laina  female  26.0      0   \n",
       "3       Futrelle, Mrs. Jacques Heath (Lily May Peel)  female  35.0      1   \n",
       "4                           Allen, Mr. William Henry    male  35.0      0   \n",
       "\n",
       "   Parch            Ticket     Fare Cabin Embarked  \n",
       "0      0         A/5 21171   7.2500   NaN        S  \n",
       "1      0          PC 17599  71.2833   C85        C  \n",
       "2      0  STON/O2. 3101282   7.9250   NaN        S  \n",
       "3      0            113803  53.1000  C123        S  \n",
       "4      0            373450   8.0500   NaN        S  "
      ]
     },
     "execution_count": 1199,
     "metadata": {},
     "output_type": "execute_result"
    }
   ],
   "source": [
    "my_path = r\n",
    "data = pd.read_csv(my_path)\n",
    "data.head()"
   ]
  },
  {
   "cell_type": "code",
   "execution_count": 1200,
   "id": "27633c16",
   "metadata": {},
   "outputs": [
    {
     "name": "stdout",
     "output_type": "stream",
     "text": [
      "<class 'pandas.core.frame.DataFrame'>\n",
      "RangeIndex: 891 entries, 0 to 890\n",
      "Data columns (total 12 columns):\n",
      " #   Column       Non-Null Count  Dtype  \n",
      "---  ------       --------------  -----  \n",
      " 0   PassengerId  891 non-null    int64  \n",
      " 1   Survived     891 non-null    int64  \n",
      " 2   Pclass       891 non-null    int64  \n",
      " 3   Name         891 non-null    object \n",
      " 4   Sex          891 non-null    object \n",
      " 5   Age          714 non-null    float64\n",
      " 6   SibSp        891 non-null    int64  \n",
      " 7   Parch        891 non-null    int64  \n",
      " 8   Ticket       891 non-null    object \n",
      " 9   Fare         891 non-null    float64\n",
      " 10  Cabin        204 non-null    object \n",
      " 11  Embarked     889 non-null    object \n",
      "dtypes: float64(2), int64(5), object(5)\n",
      "memory usage: 83.7+ KB\n"
     ]
    }
   ],
   "source": [
    "data.info()"
   ]
  },
  {
   "cell_type": "markdown",
   "id": "326bf148",
   "metadata": {},
   "source": [
    "#### Словарь с данными\n",
    "| переменная | определение | значение |\n",
    "| :--- | :---: | ---: |\n",
    "| survival | Выживание\t| 0 = No, 1 = Yes |\n",
    "| pclass | Класс билета |\t1 = 1st, 2 = 2nd, 3 = 3rd |\n",
    "| sex |\tПол\t| male / female|\n",
    "| Age |\tВозраст в годах\t| (float64) |\n",
    "| sibsp\t| Количество братьев и сестер / супругов на борту Титаника | (int64) |\n",
    "| parch\t| Количество родителей / детей на борту Титаника | (int64) |\t\n",
    "| ticket | Номер билета\t| (object) |\n",
    "| fare | Пассажирский тариф\t| (float64)|\n",
    "| cabin | Номер каюты | (object) |\t\n",
    "| embarked | Порт отправки | C = Шербур, Q = Квинстаун, S = Саутгемптон|"
   ]
  },
  {
   "cell_type": "markdown",
   "id": "c04b1fc0",
   "metadata": {},
   "source": [
    "### 2. Удалите все пропущенные значения и категориальные переменные. Обучите модель. Выберете и посчитайте метрику качества"
   ]
  },
  {
   "cell_type": "code",
   "execution_count": 1201,
   "id": "6c5ead9f",
   "metadata": {},
   "outputs": [
    {
     "data": {
      "text/html": [
       "<div>\n",
       "<style scoped>\n",
       "    .dataframe tbody tr th:only-of-type {\n",
       "        vertical-align: middle;\n",
       "    }\n",
       "\n",
       "    .dataframe tbody tr th {\n",
       "        vertical-align: top;\n",
       "    }\n",
       "\n",
       "    .dataframe thead th {\n",
       "        text-align: right;\n",
       "    }\n",
       "</style>\n",
       "<table border=\"1\" class=\"dataframe\">\n",
       "  <thead>\n",
       "    <tr style=\"text-align: right;\">\n",
       "      <th></th>\n",
       "      <th>Pclass</th>\n",
       "      <th>Age</th>\n",
       "      <th>Fare</th>\n",
       "      <th>Survived</th>\n",
       "    </tr>\n",
       "  </thead>\n",
       "  <tbody>\n",
       "    <tr>\n",
       "      <th>0</th>\n",
       "      <td>3</td>\n",
       "      <td>22.0</td>\n",
       "      <td>7.2500</td>\n",
       "      <td>0</td>\n",
       "    </tr>\n",
       "    <tr>\n",
       "      <th>1</th>\n",
       "      <td>1</td>\n",
       "      <td>38.0</td>\n",
       "      <td>71.2833</td>\n",
       "      <td>1</td>\n",
       "    </tr>\n",
       "    <tr>\n",
       "      <th>2</th>\n",
       "      <td>3</td>\n",
       "      <td>26.0</td>\n",
       "      <td>7.9250</td>\n",
       "      <td>1</td>\n",
       "    </tr>\n",
       "    <tr>\n",
       "      <th>3</th>\n",
       "      <td>1</td>\n",
       "      <td>35.0</td>\n",
       "      <td>53.1000</td>\n",
       "      <td>1</td>\n",
       "    </tr>\n",
       "    <tr>\n",
       "      <th>4</th>\n",
       "      <td>3</td>\n",
       "      <td>35.0</td>\n",
       "      <td>8.0500</td>\n",
       "      <td>0</td>\n",
       "    </tr>\n",
       "  </tbody>\n",
       "</table>\n",
       "</div>"
      ],
      "text/plain": [
       "   Pclass   Age     Fare  Survived\n",
       "0       3  22.0   7.2500         0\n",
       "1       1  38.0  71.2833         1\n",
       "2       3  26.0   7.9250         1\n",
       "3       1  35.0  53.1000         1\n",
       "4       3  35.0   8.0500         0"
      ]
     },
     "execution_count": 1201,
     "metadata": {},
     "output_type": "execute_result"
    }
   ],
   "source": [
    "df = data[['Pclass', 'Age', 'Fare', 'Survived']]\n",
    "df.head()"
   ]
  },
  {
   "cell_type": "code",
   "execution_count": 1202,
   "id": "e50027a4",
   "metadata": {},
   "outputs": [
    {
     "name": "stdout",
     "output_type": "stream",
     "text": [
      "<class 'pandas.core.frame.DataFrame'>\n",
      "RangeIndex: 891 entries, 0 to 890\n",
      "Data columns (total 4 columns):\n",
      " #   Column    Non-Null Count  Dtype  \n",
      "---  ------    --------------  -----  \n",
      " 0   Pclass    891 non-null    int64  \n",
      " 1   Age       714 non-null    float64\n",
      " 2   Fare      891 non-null    float64\n",
      " 3   Survived  891 non-null    int64  \n",
      "dtypes: float64(2), int64(2)\n",
      "memory usage: 28.0 KB\n"
     ]
    }
   ],
   "source": [
    "df.info()"
   ]
  },
  {
   "cell_type": "markdown",
   "id": "386d126b",
   "metadata": {},
   "source": [
    "Допустим, нас не интересуют пассажиры, возраст которых неизвестен или 0 "
   ]
  },
  {
   "cell_type": "code",
   "execution_count": 1203,
   "id": "b38a80eb",
   "metadata": {},
   "outputs": [
    {
     "name": "stdout",
     "output_type": "stream",
     "text": [
      "<class 'pandas.core.frame.DataFrame'>\n",
      "Int64Index: 714 entries, 0 to 890\n",
      "Data columns (total 4 columns):\n",
      " #   Column    Non-Null Count  Dtype  \n",
      "---  ------    --------------  -----  \n",
      " 0   Pclass    714 non-null    int64  \n",
      " 1   Age       714 non-null    float64\n",
      " 2   Fare      714 non-null    float64\n",
      " 3   Survived  714 non-null    int64  \n",
      "dtypes: float64(2), int64(2)\n",
      "memory usage: 27.9 KB\n"
     ]
    }
   ],
   "source": [
    "df_filter = df.dropna()\n",
    "df_filter.info()"
   ]
  },
  {
   "cell_type": "code",
   "execution_count": 1204,
   "id": "5182ea0d",
   "metadata": {},
   "outputs": [],
   "source": [
    "X = df_filter[['Pclass', 'Age', 'Fare']]\n",
    "y = df_filter[['Survived']]"
   ]
  },
  {
   "cell_type": "code",
   "execution_count": 1205,
   "id": "612234a6",
   "metadata": {},
   "outputs": [],
   "source": [
    "from sklearn.model_selection import train_test_split\n",
    "X_train, X_test, y_train, y_test = train_test_split(X, y, test_size=0.2, random_state=0)"
   ]
  },
  {
   "cell_type": "markdown",
   "id": "9f0cff2d",
   "metadata": {},
   "source": [
    "Создание и обучение модели"
   ]
  },
  {
   "cell_type": "code",
   "execution_count": 1206,
   "id": "55661373",
   "metadata": {},
   "outputs": [
    {
     "name": "stdout",
     "output_type": "stream",
     "text": [
      "Weights: [[-0.99649265 -0.03746545  0.0058911 ]]\n",
      "Error: 0.3146853146853147\n"
     ]
    }
   ],
   "source": [
    "model = LogisticRegression().fit(X_train, y_train)\n",
    "print('Weights: {}'.format(model.coef_))\n",
    "\n",
    "pred_values = model.predict(X_test)\n",
    "print('Error: {}'.format(mean_absolute_error(pred_values, y_test)))"
   ]
  },
  {
   "cell_type": "markdown",
   "id": "4cc11dff",
   "metadata": {},
   "source": [
    "MAE ~ 0.3, это означает точность около 70%. Неплохой результат, но можно повысить"
   ]
  },
  {
   "cell_type": "code",
   "execution_count": 1207,
   "id": "b257098e",
   "metadata": {},
   "outputs": [
    {
     "data": {
      "image/png": "[encoded data removed]",
      "text/plain": [
       "<Figure size 1200x1200 with 1 Axes>"
      ]
     },
     "metadata": {},
     "output_type": "display_data"
    }
   ],
   "source": [
    "predictions = model.predict_proba(X_test)\n",
    "fpr, tpr, thresh = roc_curve(y_test, predictions[:,1])\n",
    "plt.figure(figsize=(12, 12))\n",
    "plt.plot(fpr, tpr)\n",
    "plt.title('ROC AUC', fontdict={'fontsize': 20})\n",
    "plt.xlabel('False Positive Rate', fontdict={'fontsize': 20})\n",
    "plt.ylabel('True Positive Rate', fontdict={'fontsize': 20})\n",
    "plt.show()"
   ]
  },
  {
   "cell_type": "markdown",
   "id": "699c843c",
   "metadata": {},
   "source": [
    "### 3. Снова загрузите полные данные\n"
   ]
  },
  {
   "cell_type": "code",
   "execution_count": 1208,
   "id": "b3b66caa",
   "metadata": {},
   "outputs": [
    {
     "data": {
      "text/html": [
       "<div>\n",
       "<style scoped>\n",
       "    .dataframe tbody tr th:only-of-type {\n",
       "        vertical-align: middle;\n",
       "    }\n",
       "\n",
       "    .dataframe tbody tr th {\n",
       "        vertical-align: top;\n",
       "    }\n",
       "\n",
       "    .dataframe thead th {\n",
       "        text-align: right;\n",
       "    }\n",
       "</style>\n",
       "<table border=\"1\" class=\"dataframe\">\n",
       "  <thead>\n",
       "    <tr style=\"text-align: right;\">\n",
       "      <th></th>\n",
       "      <th>PassengerId</th>\n",
       "      <th>Survived</th>\n",
       "      <th>Pclass</th>\n",
       "      <th>Name</th>\n",
       "      <th>Sex</th>\n",
       "      <th>Age</th>\n",
       "      <th>SibSp</th>\n",
       "      <th>Parch</th>\n",
       "      <th>Ticket</th>\n",
       "      <th>Fare</th>\n",
       "      <th>Cabin</th>\n",
       "      <th>Embarked</th>\n",
       "    </tr>\n",
       "  </thead>\n",
       "  <tbody>\n",
       "    <tr>\n",
       "      <th>0</th>\n",
       "      <td>1</td>\n",
       "      <td>0</td>\n",
       "      <td>3</td>\n",
       "      <td>Braund, Mr. Owen Harris</td>\n",
       "      <td>male</td>\n",
       "      <td>22.0</td>\n",
       "      <td>1</td>\n",
       "      <td>0</td>\n",
       "      <td>A/5 21171</td>\n",
       "      <td>7.2500</td>\n",
       "      <td>NaN</td>\n",
       "      <td>S</td>\n",
       "    </tr>\n",
       "    <tr>\n",
       "      <th>1</th>\n",
       "      <td>2</td>\n",
       "      <td>1</td>\n",
       "      <td>1</td>\n",
       "      <td>Cumings, Mrs. John Bradley (Florence Briggs Th...</td>\n",
       "      <td>female</td>\n",
       "      <td>38.0</td>\n",
       "      <td>1</td>\n",
       "      <td>0</td>\n",
       "      <td>PC 17599</td>\n",
       "      <td>71.2833</td>\n",
       "      <td>C85</td>\n",
       "      <td>C</td>\n",
       "    </tr>\n",
       "    <tr>\n",
       "      <th>2</th>\n",
       "      <td>3</td>\n",
       "      <td>1</td>\n",
       "      <td>3</td>\n",
       "      <td>Heikkinen, Miss. Laina</td>\n",
       "      <td>female</td>\n",
       "      <td>26.0</td>\n",
       "      <td>0</td>\n",
       "      <td>0</td>\n",
       "      <td>STON/O2. 3101282</td>\n",
       "      <td>7.9250</td>\n",
       "      <td>NaN</td>\n",
       "      <td>S</td>\n",
       "    </tr>\n",
       "    <tr>\n",
       "      <th>3</th>\n",
       "      <td>4</td>\n",
       "      <td>1</td>\n",
       "      <td>1</td>\n",
       "      <td>Futrelle, Mrs. Jacques Heath (Lily May Peel)</td>\n",
       "      <td>female</td>\n",
       "      <td>35.0</td>\n",
       "      <td>1</td>\n",
       "      <td>0</td>\n",
       "      <td>113803</td>\n",
       "      <td>53.1000</td>\n",
       "      <td>C123</td>\n",
       "      <td>S</td>\n",
       "    </tr>\n",
       "    <tr>\n",
       "      <th>4</th>\n",
       "      <td>5</td>\n",
       "      <td>0</td>\n",
       "      <td>3</td>\n",
       "      <td>Allen, Mr. William Henry</td>\n",
       "      <td>male</td>\n",
       "      <td>35.0</td>\n",
       "      <td>0</td>\n",
       "      <td>0</td>\n",
       "      <td>373450</td>\n",
       "      <td>8.0500</td>\n",
       "      <td>NaN</td>\n",
       "      <td>S</td>\n",
       "    </tr>\n",
       "  </tbody>\n",
       "</table>\n",
       "</div>"
      ],
      "text/plain": [
       "   PassengerId  Survived  Pclass  \\\n",
       "0            1         0       3   \n",
       "1            2         1       1   \n",
       "2            3         1       3   \n",
       "3            4         1       1   \n",
       "4            5         0       3   \n",
       "\n",
       "                                                Name     Sex   Age  SibSp  \\\n",
       "0                            Braund, Mr. Owen Harris    male  22.0      1   \n",
       "1  Cumings, Mrs. John Bradley (Florence Briggs Th...  female  38.0      1   \n",
       "2                             Heikkinen, Miss. Laina  female  26.0      0   \n",
       "3       Futrelle, Mrs. Jacques Heath (Lily May Peel)  female  35.0      1   \n",
       "4                           Allen, Mr. William Henry    male  35.0      0   \n",
       "\n",
       "   Parch            Ticket     Fare Cabin Embarked  \n",
       "0      0         A/5 21171   7.2500   NaN        S  \n",
       "1      0          PC 17599  71.2833   C85        C  \n",
       "2      0  STON/O2. 3101282   7.9250   NaN        S  \n",
       "3      0            113803  53.1000  C123        S  \n",
       "4      0            373450   8.0500   NaN        S  "
      ]
     },
     "execution_count": 1208,
     "metadata": {},
     "output_type": "execute_result"
    }
   ],
   "source": [
    "data.head()"
   ]
  },
  {
   "cell_type": "markdown",
   "id": "31d9efb3",
   "metadata": {},
   "source": [
    "### 4. Удалите признаки, которые логически не нужны для построения модели\n",
    "### Обоснуйте"
   ]
  },
  {
   "cell_type": "markdown",
   "id": "84c70673",
   "metadata": {},
   "source": [
    "При кораблекрушении спасали преимущественно женщин и детей, соответственно ключевыми признаками являются ***Sex*** и ***Age***, эвакуацию начинали с пассажиров первого класса, так что признак ***Pclass*** является значимым. \n",
    "\n",
    "Количество родственников вряд ли влияет, но это можно проверить. \n",
    "\n",
    "Пассажирский тариф (***Fare***) можно использовать только предварительно стандартизировав данные, поскольку значиния признака очень большие\n",
    "\n",
    "Точно не существенны: имя, ID, порт отправки, номер билета и каюты"
   ]
  },
  {
   "cell_type": "code",
   "execution_count": 1209,
   "id": "dd90da0f",
   "metadata": {},
   "outputs": [],
   "source": [
    "new_df = data[['PassengerId', 'Pclass', 'Sex', 'Age', 'SibSp', 'Parch', 'Fare', 'Survived']]"
   ]
  },
  {
   "cell_type": "code",
   "execution_count": 1210,
   "id": "873b7f5b",
   "metadata": {},
   "outputs": [
    {
     "data": {
      "text/plain": [
       "0      22.0\n",
       "1      38.0\n",
       "2      26.0\n",
       "3      35.0\n",
       "4      35.0\n",
       "       ... \n",
       "886    27.0\n",
       "887    19.0\n",
       "888     NaN\n",
       "889    26.0\n",
       "890    32.0\n",
       "Name: Age, Length: 891, dtype: float64"
      ]
     },
     "execution_count": 1210,
     "metadata": {},
     "output_type": "execute_result"
    }
   ],
   "source": [
    "new_df['Age']"
   ]
  },
  {
   "cell_type": "markdown",
   "id": "7d16608e",
   "metadata": {},
   "source": [
    "### 5. Проверьте данные на наличие пропущенных значений"
   ]
  },
  {
   "cell_type": "code",
   "execution_count": 1211,
   "id": "f6cdfa2a",
   "metadata": {},
   "outputs": [
    {
     "name": "stdout",
     "output_type": "stream",
     "text": [
      "<class 'pandas.core.frame.DataFrame'>\n",
      "RangeIndex: 891 entries, 0 to 890\n",
      "Data columns (total 8 columns):\n",
      " #   Column       Non-Null Count  Dtype  \n",
      "---  ------       --------------  -----  \n",
      " 0   PassengerId  891 non-null    int64  \n",
      " 1   Pclass       891 non-null    int64  \n",
      " 2   Sex          891 non-null    object \n",
      " 3   Age          714 non-null    float64\n",
      " 4   SibSp        891 non-null    int64  \n",
      " 5   Parch        891 non-null    int64  \n",
      " 6   Fare         891 non-null    float64\n",
      " 7   Survived     891 non-null    int64  \n",
      "dtypes: float64(2), int64(5), object(1)\n",
      "memory usage: 55.8+ KB\n"
     ]
    }
   ],
   "source": [
    "new_df.info()"
   ]
  },
  {
   "cell_type": "markdown",
   "id": "4b8731a9",
   "metadata": {},
   "source": [
    "#### a) Посчитайте, какой процент данных будет потерян, если просто удалить пропуски"
   ]
  },
  {
   "cell_type": "code",
   "execution_count": 1212,
   "id": "527959a4",
   "metadata": {},
   "outputs": [
    {
     "data": {
      "text/plain": [
       "19.87"
      ]
     },
     "execution_count": 1212,
     "metadata": {},
     "output_type": "execute_result"
    }
   ],
   "source": [
    "round(100 - new_df.dropna().shape[0] * 100 / new_df.shape[0], 2)"
   ]
  },
  {
   "cell_type": "markdown",
   "id": "7648562d",
   "metadata": {},
   "source": [
    "При простом удалении строк, в котором присутствуют пустые значения потеряется почти 20% данных"
   ]
  },
  {
   "cell_type": "markdown",
   "id": "d3dcaf73",
   "metadata": {},
   "source": [
    "#### b) Заполните пропуски\n",
    "- средним значением; \n",
    "- константой; \n",
    "- классом, указывающим на то, что значение было пропущено; \n",
    "- случайным числом. \n",
    "\n",
    "Для разных признаков используйте подходящий метод. Можно не использовать все перечисленные методы.\n"
   ]
  },
  {
   "cell_type": "markdown",
   "id": "a4f8b194",
   "metadata": {},
   "source": [
    "В нашем случае пропуски есть только в признаке ***Age***. Посмотрим на его распределение:"
   ]
  },
  {
   "cell_type": "code",
   "execution_count": 1213,
   "id": "2568953a",
   "metadata": {},
   "outputs": [
    {
     "data": {
      "text/plain": [
       "count    714.000000\n",
       "mean      29.699118\n",
       "std       14.526497\n",
       "min        0.420000\n",
       "25%       20.125000\n",
       "50%       28.000000\n",
       "75%       38.000000\n",
       "max       80.000000\n",
       "Name: Age, dtype: float64"
      ]
     },
     "execution_count": 1213,
     "metadata": {},
     "output_type": "execute_result"
    }
   ],
   "source": [
    "new_df['Age'].describe()"
   ]
  },
  {
   "cell_type": "code",
   "execution_count": 1214,
   "id": "53879d8c",
   "metadata": {},
   "outputs": [
    {
     "data": {
      "text/plain": [
       "<AxesSubplot:ylabel='Frequency'>"
      ]
     },
     "execution_count": 1214,
     "metadata": {},
     "output_type": "execute_result"
    },
    {
     "data": {
      "image/png": "[encoded data removed]",
      "text/plain": [
       "<Figure size 640x480 with 1 Axes>"
      ]
     },
     "metadata": {},
     "output_type": "display_data"
    }
   ],
   "source": [
    "#построить график распределения значений в столбце точек с использованием гистограммы\n",
    "new_df['Age'].plot(kind= 'hist', bins=80, edgecolor ='black')"
   ]
  },
  {
   "cell_type": "code",
   "execution_count": 1215,
   "id": "6507925a",
   "metadata": {},
   "outputs": [
    {
     "data": {
      "text/plain": [
       "28"
      ]
     },
     "execution_count": 1215,
     "metadata": {},
     "output_type": "execute_result"
    }
   ],
   "source": [
    "med_age = int(new_df[data.Age.notnull()]['Age'].median())\n",
    "med_age"
   ]
  },
  {
   "cell_type": "code",
   "execution_count": 1216,
   "id": "bf788f26",
   "metadata": {},
   "outputs": [
    {
     "data": {
      "text/plain": [
       "<AxesSubplot:ylabel='Frequency'>"
      ]
     },
     "execution_count": 1216,
     "metadata": {},
     "output_type": "execute_result"
    },
    {
     "data": {
      "image/png": "[encoded data removed]",
      "text/plain": [
       "<Figure size 640x480 with 1 Axes>"
      ]
     },
     "metadata": {},
     "output_type": "display_data"
    }
   ],
   "source": [
    "import warnings\n",
    "warnings.filterwarnings('ignore')\n",
    "\n",
    "new_df.Age[data.Age.isnull()] = int(med_age)\n",
    "new_df.Age.plot(kind= 'hist', bins=80, edgecolor ='black')"
   ]
  },
  {
   "cell_type": "code",
   "execution_count": 1217,
   "id": "5f218ee3",
   "metadata": {},
   "outputs": [
    {
     "name": "stdout",
     "output_type": "stream",
     "text": [
      "<class 'pandas.core.frame.DataFrame'>\n",
      "RangeIndex: 891 entries, 0 to 890\n",
      "Data columns (total 8 columns):\n",
      " #   Column       Non-Null Count  Dtype  \n",
      "---  ------       --------------  -----  \n",
      " 0   PassengerId  891 non-null    int64  \n",
      " 1   Pclass       891 non-null    int64  \n",
      " 2   Sex          891 non-null    object \n",
      " 3   Age          891 non-null    float64\n",
      " 4   SibSp        891 non-null    int64  \n",
      " 5   Parch        891 non-null    int64  \n",
      " 6   Fare         891 non-null    float64\n",
      " 7   Survived     891 non-null    int64  \n",
      "dtypes: float64(2), int64(5), object(1)\n",
      "memory usage: 55.8+ KB\n"
     ]
    }
   ],
   "source": [
    "new_df.info()"
   ]
  },
  {
   "cell_type": "markdown",
   "id": "04ac51cd",
   "metadata": {},
   "source": [
    "### 6. Категориальные переменные переведите в цифровые значения."
   ]
  },
  {
   "cell_type": "code",
   "execution_count": 1218,
   "id": "3c551351",
   "metadata": {},
   "outputs": [
    {
     "data": {
      "text/html": [
       "<div>\n",
       "<style scoped>\n",
       "    .dataframe tbody tr th:only-of-type {\n",
       "        vertical-align: middle;\n",
       "    }\n",
       "\n",
       "    .dataframe tbody tr th {\n",
       "        vertical-align: top;\n",
       "    }\n",
       "\n",
       "    .dataframe thead th {\n",
       "        text-align: right;\n",
       "    }\n",
       "</style>\n",
       "<table border=\"1\" class=\"dataframe\">\n",
       "  <thead>\n",
       "    <tr style=\"text-align: right;\">\n",
       "      <th></th>\n",
       "      <th>PassengerId</th>\n",
       "      <th>Pclass</th>\n",
       "      <th>Sex</th>\n",
       "      <th>Age</th>\n",
       "      <th>SibSp</th>\n",
       "      <th>Parch</th>\n",
       "      <th>Fare</th>\n",
       "      <th>Survived</th>\n",
       "    </tr>\n",
       "  </thead>\n",
       "  <tbody>\n",
       "    <tr>\n",
       "      <th>0</th>\n",
       "      <td>1</td>\n",
       "      <td>3</td>\n",
       "      <td>0</td>\n",
       "      <td>22.0</td>\n",
       "      <td>1</td>\n",
       "      <td>0</td>\n",
       "      <td>7.2500</td>\n",
       "      <td>0</td>\n",
       "    </tr>\n",
       "    <tr>\n",
       "      <th>1</th>\n",
       "      <td>2</td>\n",
       "      <td>1</td>\n",
       "      <td>1</td>\n",
       "      <td>38.0</td>\n",
       "      <td>1</td>\n",
       "      <td>0</td>\n",
       "      <td>71.2833</td>\n",
       "      <td>1</td>\n",
       "    </tr>\n",
       "    <tr>\n",
       "      <th>2</th>\n",
       "      <td>3</td>\n",
       "      <td>3</td>\n",
       "      <td>1</td>\n",
       "      <td>26.0</td>\n",
       "      <td>0</td>\n",
       "      <td>0</td>\n",
       "      <td>7.9250</td>\n",
       "      <td>1</td>\n",
       "    </tr>\n",
       "    <tr>\n",
       "      <th>3</th>\n",
       "      <td>4</td>\n",
       "      <td>1</td>\n",
       "      <td>1</td>\n",
       "      <td>35.0</td>\n",
       "      <td>1</td>\n",
       "      <td>0</td>\n",
       "      <td>53.1000</td>\n",
       "      <td>1</td>\n",
       "    </tr>\n",
       "    <tr>\n",
       "      <th>4</th>\n",
       "      <td>5</td>\n",
       "      <td>3</td>\n",
       "      <td>0</td>\n",
       "      <td>35.0</td>\n",
       "      <td>0</td>\n",
       "      <td>0</td>\n",
       "      <td>8.0500</td>\n",
       "      <td>0</td>\n",
       "    </tr>\n",
       "  </tbody>\n",
       "</table>\n",
       "</div>"
      ],
      "text/plain": [
       "   PassengerId  Pclass  Sex   Age  SibSp  Parch     Fare  Survived\n",
       "0            1       3    0  22.0      1      0   7.2500         0\n",
       "1            2       1    1  38.0      1      0  71.2833         1\n",
       "2            3       3    1  26.0      0      0   7.9250         1\n",
       "3            4       1    1  35.0      1      0  53.1000         1\n",
       "4            5       3    0  35.0      0      0   8.0500         0"
      ]
     },
     "execution_count": 1218,
     "metadata": {},
     "output_type": "execute_result"
    }
   ],
   "source": [
    "new_df['Sex'] = new_df['Sex'].map({'male': 0, 'female': 1})\n",
    "new_df.head()"
   ]
  },
  {
   "cell_type": "markdown",
   "id": "fd427b70",
   "metadata": {},
   "source": [
    "### 7. Проверьте данные на наличие выбросов.\n",
    "Удалите выбросы, если считаете это целесообразным. Обоснуйте."
   ]
  },
  {
   "cell_type": "markdown",
   "id": "7a6fa571",
   "metadata": {},
   "source": [
    "В датафрейме ***new_df*** всего 7 признаков ('Pclass', 'Sex', 'Age', 'SibSp', 'Parch', 'Fare', 'Survived'), из них 2 бинарные ('Sex', 'Survived'), в которых выбросы невозможны; признак 'Pclass' может принимать одно из трех значений (1, 2, 3), следователььно и здесь небудет выбросов. Проверим остальные:"
   ]
  },
  {
   "cell_type": "code",
   "execution_count": 1219,
   "id": "e2d91dc1",
   "metadata": {},
   "outputs": [
    {
     "data": {
      "text/plain": [
       "<AxesSubplot:>"
      ]
     },
     "execution_count": 1219,
     "metadata": {},
     "output_type": "execute_result"
    },
    {
     "data": {
      "image/png": "[encoded data removed]",
      "text/plain": [
       "<Figure size 640x480 with 1 Axes>"
      ]
     },
     "metadata": {},
     "output_type": "display_data"
    }
   ],
   "source": [
    "new_df['Age'].plot(kind='box', grid=True)"
   ]
  },
  {
   "cell_type": "code",
   "execution_count": 1220,
   "id": "b0d9dfbc",
   "metadata": {},
   "outputs": [
    {
     "data": {
      "text/plain": [
       "count    891.000000\n",
       "mean      29.361582\n",
       "std       13.019697\n",
       "min        0.420000\n",
       "25%       22.000000\n",
       "50%       28.000000\n",
       "75%       35.000000\n",
       "max       80.000000\n",
       "Name: Age, dtype: float64"
      ]
     },
     "execution_count": 1220,
     "metadata": {},
     "output_type": "execute_result"
    }
   ],
   "source": [
    "new_df['Age'].describe()"
   ]
  },
  {
   "cell_type": "markdown",
   "id": "1b9f34a8",
   "metadata": {},
   "source": [
    "В признаке возраста определенно есть выбросы: люди, возраст которых от 0 до 4 лет и от 54 до 80. Проверим \"общую выживаемость\" этих людей"
   ]
  },
  {
   "cell_type": "code",
   "execution_count": 1221,
   "id": "51f2b5d1",
   "metadata": {},
   "outputs": [
    {
     "data": {
      "text/plain": [
       "<AxesSubplot:ylabel='Frequency'>"
      ]
     },
     "execution_count": 1221,
     "metadata": {},
     "output_type": "execute_result"
    },
    {
     "data": {
      "image/png": "[encoded data removed]",
      "text/plain": [
       "<Figure size 640x480 with 1 Axes>"
      ]
     },
     "metadata": {},
     "output_type": "display_data"
    }
   ],
   "source": [
    "y_df = new_df[new_df['Age'] <= 4]\n",
    "y_df['Survived'].plot(kind= 'hist', bins=2, edgecolor ='black')"
   ]
  },
  {
   "cell_type": "code",
   "execution_count": 1222,
   "id": "28a20067",
   "metadata": {},
   "outputs": [
    {
     "data": {
      "text/plain": [
       "<AxesSubplot:ylabel='Frequency'>"
      ]
     },
     "execution_count": 1222,
     "metadata": {},
     "output_type": "execute_result"
    },
    {
     "data": {
      "image/png": "[encoded data removed]",
      "text/plain": [
       "<Figure size 640x480 with 1 Axes>"
      ]
     },
     "metadata": {},
     "output_type": "display_data"
    }
   ],
   "source": [
    "o_df = new_df[new_df['Age'] >= 54]\n",
    "o_df['Survived'].plot(kind= 'hist', bins=2, edgecolor ='black')"
   ]
  },
  {
   "cell_type": "markdown",
   "id": "07517320",
   "metadata": {},
   "source": [
    "Возраст - важный признак, он сильно влияет на вероятность. Разобъем его по процентилям, отдельно выделив значения - выбросы"
   ]
  },
  {
   "cell_type": "code",
   "execution_count": 1223,
   "id": "46f3b093",
   "metadata": {},
   "outputs": [],
   "source": [
    "new_df['Age'][data.Age <= 4.0] = '0-4'\n",
    "new_df['Age'][(data.Age > 4.0) & (data.Age <= 22.0)] = '4-22'\n",
    "new_df['Age'][(data.Age > 22.0) & (data.Age <= 28.0)] = '22-28'\n",
    "new_df['Age'][(data.Age > 28.0) & (data.Age <= 35.0)] = '28-35'\n",
    "new_df['Age'][(data.Age > 35.0) & (data.Age <= 54.0)] = '35-54'\n",
    "new_df['Age'][data.Age > 54.0] = '54-80'"
   ]
  },
  {
   "cell_type": "code",
   "execution_count": 1224,
   "id": "a21ff592",
   "metadata": {
    "scrolled": true
   },
   "outputs": [
    {
     "data": {
      "text/html": [
       "<div>\n",
       "<style scoped>\n",
       "    .dataframe tbody tr th:only-of-type {\n",
       "        vertical-align: middle;\n",
       "    }\n",
       "\n",
       "    .dataframe tbody tr th {\n",
       "        vertical-align: top;\n",
       "    }\n",
       "\n",
       "    .dataframe thead th {\n",
       "        text-align: right;\n",
       "    }\n",
       "</style>\n",
       "<table border=\"1\" class=\"dataframe\">\n",
       "  <thead>\n",
       "    <tr style=\"text-align: right;\">\n",
       "      <th></th>\n",
       "      <th>PassengerId</th>\n",
       "      <th>Pclass</th>\n",
       "      <th>Sex</th>\n",
       "      <th>SibSp</th>\n",
       "      <th>Parch</th>\n",
       "      <th>Fare</th>\n",
       "      <th>Survived</th>\n",
       "      <th>28.0</th>\n",
       "      <th>0-4</th>\n",
       "      <th>22-28</th>\n",
       "      <th>28-35</th>\n",
       "      <th>35-54</th>\n",
       "      <th>4-22</th>\n",
       "      <th>54-80</th>\n",
       "    </tr>\n",
       "  </thead>\n",
       "  <tbody>\n",
       "    <tr>\n",
       "      <th>0</th>\n",
       "      <td>1</td>\n",
       "      <td>3</td>\n",
       "      <td>0</td>\n",
       "      <td>1</td>\n",
       "      <td>0</td>\n",
       "      <td>7.2500</td>\n",
       "      <td>0</td>\n",
       "      <td>0</td>\n",
       "      <td>0</td>\n",
       "      <td>0</td>\n",
       "      <td>0</td>\n",
       "      <td>0</td>\n",
       "      <td>1</td>\n",
       "      <td>0</td>\n",
       "    </tr>\n",
       "    <tr>\n",
       "      <th>1</th>\n",
       "      <td>2</td>\n",
       "      <td>1</td>\n",
       "      <td>1</td>\n",
       "      <td>1</td>\n",
       "      <td>0</td>\n",
       "      <td>71.2833</td>\n",
       "      <td>1</td>\n",
       "      <td>0</td>\n",
       "      <td>0</td>\n",
       "      <td>0</td>\n",
       "      <td>0</td>\n",
       "      <td>1</td>\n",
       "      <td>0</td>\n",
       "      <td>0</td>\n",
       "    </tr>\n",
       "    <tr>\n",
       "      <th>2</th>\n",
       "      <td>3</td>\n",
       "      <td>3</td>\n",
       "      <td>1</td>\n",
       "      <td>0</td>\n",
       "      <td>0</td>\n",
       "      <td>7.9250</td>\n",
       "      <td>1</td>\n",
       "      <td>0</td>\n",
       "      <td>0</td>\n",
       "      <td>1</td>\n",
       "      <td>0</td>\n",
       "      <td>0</td>\n",
       "      <td>0</td>\n",
       "      <td>0</td>\n",
       "    </tr>\n",
       "    <tr>\n",
       "      <th>3</th>\n",
       "      <td>4</td>\n",
       "      <td>1</td>\n",
       "      <td>1</td>\n",
       "      <td>1</td>\n",
       "      <td>0</td>\n",
       "      <td>53.1000</td>\n",
       "      <td>1</td>\n",
       "      <td>0</td>\n",
       "      <td>0</td>\n",
       "      <td>0</td>\n",
       "      <td>1</td>\n",
       "      <td>0</td>\n",
       "      <td>0</td>\n",
       "      <td>0</td>\n",
       "    </tr>\n",
       "    <tr>\n",
       "      <th>4</th>\n",
       "      <td>5</td>\n",
       "      <td>3</td>\n",
       "      <td>0</td>\n",
       "      <td>0</td>\n",
       "      <td>0</td>\n",
       "      <td>8.0500</td>\n",
       "      <td>0</td>\n",
       "      <td>0</td>\n",
       "      <td>0</td>\n",
       "      <td>0</td>\n",
       "      <td>1</td>\n",
       "      <td>0</td>\n",
       "      <td>0</td>\n",
       "      <td>0</td>\n",
       "    </tr>\n",
       "    <tr>\n",
       "      <th>...</th>\n",
       "      <td>...</td>\n",
       "      <td>...</td>\n",
       "      <td>...</td>\n",
       "      <td>...</td>\n",
       "      <td>...</td>\n",
       "      <td>...</td>\n",
       "      <td>...</td>\n",
       "      <td>...</td>\n",
       "      <td>...</td>\n",
       "      <td>...</td>\n",
       "      <td>...</td>\n",
       "      <td>...</td>\n",
       "      <td>...</td>\n",
       "      <td>...</td>\n",
       "    </tr>\n",
       "    <tr>\n",
       "      <th>886</th>\n",
       "      <td>887</td>\n",
       "      <td>2</td>\n",
       "      <td>0</td>\n",
       "      <td>0</td>\n",
       "      <td>0</td>\n",
       "      <td>13.0000</td>\n",
       "      <td>0</td>\n",
       "      <td>0</td>\n",
       "      <td>0</td>\n",
       "      <td>1</td>\n",
       "      <td>0</td>\n",
       "      <td>0</td>\n",
       "      <td>0</td>\n",
       "      <td>0</td>\n",
       "    </tr>\n",
       "    <tr>\n",
       "      <th>887</th>\n",
       "      <td>888</td>\n",
       "      <td>1</td>\n",
       "      <td>1</td>\n",
       "      <td>0</td>\n",
       "      <td>0</td>\n",
       "      <td>30.0000</td>\n",
       "      <td>1</td>\n",
       "      <td>0</td>\n",
       "      <td>0</td>\n",
       "      <td>0</td>\n",
       "      <td>0</td>\n",
       "      <td>0</td>\n",
       "      <td>1</td>\n",
       "      <td>0</td>\n",
       "    </tr>\n",
       "    <tr>\n",
       "      <th>888</th>\n",
       "      <td>889</td>\n",
       "      <td>3</td>\n",
       "      <td>1</td>\n",
       "      <td>1</td>\n",
       "      <td>2</td>\n",
       "      <td>23.4500</td>\n",
       "      <td>0</td>\n",
       "      <td>1</td>\n",
       "      <td>0</td>\n",
       "      <td>0</td>\n",
       "      <td>0</td>\n",
       "      <td>0</td>\n",
       "      <td>0</td>\n",
       "      <td>0</td>\n",
       "    </tr>\n",
       "    <tr>\n",
       "      <th>889</th>\n",
       "      <td>890</td>\n",
       "      <td>1</td>\n",
       "      <td>0</td>\n",
       "      <td>0</td>\n",
       "      <td>0</td>\n",
       "      <td>30.0000</td>\n",
       "      <td>1</td>\n",
       "      <td>0</td>\n",
       "      <td>0</td>\n",
       "      <td>1</td>\n",
       "      <td>0</td>\n",
       "      <td>0</td>\n",
       "      <td>0</td>\n",
       "      <td>0</td>\n",
       "    </tr>\n",
       "    <tr>\n",
       "      <th>890</th>\n",
       "      <td>891</td>\n",
       "      <td>3</td>\n",
       "      <td>0</td>\n",
       "      <td>0</td>\n",
       "      <td>0</td>\n",
       "      <td>7.7500</td>\n",
       "      <td>0</td>\n",
       "      <td>0</td>\n",
       "      <td>0</td>\n",
       "      <td>0</td>\n",
       "      <td>1</td>\n",
       "      <td>0</td>\n",
       "      <td>0</td>\n",
       "      <td>0</td>\n",
       "    </tr>\n",
       "  </tbody>\n",
       "</table>\n",
       "<p>891 rows × 14 columns</p>\n",
       "</div>"
      ],
      "text/plain": [
       "     PassengerId  Pclass  Sex  SibSp  Parch     Fare  Survived  28.0  0-4  \\\n",
       "0              1       3    0      1      0   7.2500         0     0    0   \n",
       "1              2       1    1      1      0  71.2833         1     0    0   \n",
       "2              3       3    1      0      0   7.9250         1     0    0   \n",
       "3              4       1    1      1      0  53.1000         1     0    0   \n",
       "4              5       3    0      0      0   8.0500         0     0    0   \n",
       "..           ...     ...  ...    ...    ...      ...       ...   ...  ...   \n",
       "886          887       2    0      0      0  13.0000         0     0    0   \n",
       "887          888       1    1      0      0  30.0000         1     0    0   \n",
       "888          889       3    1      1      2  23.4500         0     1    0   \n",
       "889          890       1    0      0      0  30.0000         1     0    0   \n",
       "890          891       3    0      0      0   7.7500         0     0    0   \n",
       "\n",
       "     22-28  28-35  35-54  4-22  54-80  \n",
       "0        0      0      0     1      0  \n",
       "1        0      0      1     0      0  \n",
       "2        1      0      0     0      0  \n",
       "3        0      1      0     0      0  \n",
       "4        0      1      0     0      0  \n",
       "..     ...    ...    ...   ...    ...  \n",
       "886      1      0      0     0      0  \n",
       "887      0      0      0     1      0  \n",
       "888      0      0      0     0      0  \n",
       "889      1      0      0     0      0  \n",
       "890      0      1      0     0      0  \n",
       "\n",
       "[891 rows x 14 columns]"
      ]
     },
     "execution_count": 1224,
     "metadata": {},
     "output_type": "execute_result"
    }
   ],
   "source": [
    "df1 = pd.get_dummies(new_df['Age'])\n",
    "new_df = pd.concat([new_df, df1], axis=1).reindex(new_df.index)\n",
    "new_df.drop('Age', axis=1, inplace=True)\n",
    "new_df "
   ]
  },
  {
   "cell_type": "code",
   "execution_count": 1225,
   "id": "8ebaccc4",
   "metadata": {},
   "outputs": [
    {
     "data": {
      "text/html": [
       "<div>\n",
       "<style scoped>\n",
       "    .dataframe tbody tr th:only-of-type {\n",
       "        vertical-align: middle;\n",
       "    }\n",
       "\n",
       "    .dataframe tbody tr th {\n",
       "        vertical-align: top;\n",
       "    }\n",
       "\n",
       "    .dataframe thead th {\n",
       "        text-align: right;\n",
       "    }\n",
       "</style>\n",
       "<table border=\"1\" class=\"dataframe\">\n",
       "  <thead>\n",
       "    <tr style=\"text-align: right;\">\n",
       "      <th></th>\n",
       "      <th>PassengerId</th>\n",
       "      <th>Pclass</th>\n",
       "      <th>Sex</th>\n",
       "      <th>SibSp</th>\n",
       "      <th>Parch</th>\n",
       "      <th>Fare</th>\n",
       "      <th>Survived</th>\n",
       "      <th>0-4</th>\n",
       "      <th>4-22</th>\n",
       "      <th>22-28</th>\n",
       "      <th>28</th>\n",
       "      <th>28-35</th>\n",
       "      <th>35-54</th>\n",
       "      <th>54-80</th>\n",
       "    </tr>\n",
       "  </thead>\n",
       "  <tbody>\n",
       "    <tr>\n",
       "      <th>0</th>\n",
       "      <td>1</td>\n",
       "      <td>3</td>\n",
       "      <td>0</td>\n",
       "      <td>1</td>\n",
       "      <td>0</td>\n",
       "      <td>7.2500</td>\n",
       "      <td>0</td>\n",
       "      <td>0</td>\n",
       "      <td>1</td>\n",
       "      <td>0</td>\n",
       "      <td>0</td>\n",
       "      <td>0</td>\n",
       "      <td>0</td>\n",
       "      <td>0</td>\n",
       "    </tr>\n",
       "    <tr>\n",
       "      <th>1</th>\n",
       "      <td>2</td>\n",
       "      <td>1</td>\n",
       "      <td>1</td>\n",
       "      <td>1</td>\n",
       "      <td>0</td>\n",
       "      <td>71.2833</td>\n",
       "      <td>1</td>\n",
       "      <td>0</td>\n",
       "      <td>0</td>\n",
       "      <td>0</td>\n",
       "      <td>0</td>\n",
       "      <td>0</td>\n",
       "      <td>1</td>\n",
       "      <td>0</td>\n",
       "    </tr>\n",
       "    <tr>\n",
       "      <th>2</th>\n",
       "      <td>3</td>\n",
       "      <td>3</td>\n",
       "      <td>1</td>\n",
       "      <td>0</td>\n",
       "      <td>0</td>\n",
       "      <td>7.9250</td>\n",
       "      <td>1</td>\n",
       "      <td>0</td>\n",
       "      <td>0</td>\n",
       "      <td>1</td>\n",
       "      <td>0</td>\n",
       "      <td>0</td>\n",
       "      <td>0</td>\n",
       "      <td>0</td>\n",
       "    </tr>\n",
       "    <tr>\n",
       "      <th>3</th>\n",
       "      <td>4</td>\n",
       "      <td>1</td>\n",
       "      <td>1</td>\n",
       "      <td>1</td>\n",
       "      <td>0</td>\n",
       "      <td>53.1000</td>\n",
       "      <td>1</td>\n",
       "      <td>0</td>\n",
       "      <td>0</td>\n",
       "      <td>0</td>\n",
       "      <td>0</td>\n",
       "      <td>1</td>\n",
       "      <td>0</td>\n",
       "      <td>0</td>\n",
       "    </tr>\n",
       "    <tr>\n",
       "      <th>4</th>\n",
       "      <td>5</td>\n",
       "      <td>3</td>\n",
       "      <td>0</td>\n",
       "      <td>0</td>\n",
       "      <td>0</td>\n",
       "      <td>8.0500</td>\n",
       "      <td>0</td>\n",
       "      <td>0</td>\n",
       "      <td>0</td>\n",
       "      <td>0</td>\n",
       "      <td>0</td>\n",
       "      <td>1</td>\n",
       "      <td>0</td>\n",
       "      <td>0</td>\n",
       "    </tr>\n",
       "    <tr>\n",
       "      <th>...</th>\n",
       "      <td>...</td>\n",
       "      <td>...</td>\n",
       "      <td>...</td>\n",
       "      <td>...</td>\n",
       "      <td>...</td>\n",
       "      <td>...</td>\n",
       "      <td>...</td>\n",
       "      <td>...</td>\n",
       "      <td>...</td>\n",
       "      <td>...</td>\n",
       "      <td>...</td>\n",
       "      <td>...</td>\n",
       "      <td>...</td>\n",
       "      <td>...</td>\n",
       "    </tr>\n",
       "    <tr>\n",
       "      <th>886</th>\n",
       "      <td>887</td>\n",
       "      <td>2</td>\n",
       "      <td>0</td>\n",
       "      <td>0</td>\n",
       "      <td>0</td>\n",
       "      <td>13.0000</td>\n",
       "      <td>0</td>\n",
       "      <td>0</td>\n",
       "      <td>0</td>\n",
       "      <td>1</td>\n",
       "      <td>0</td>\n",
       "      <td>0</td>\n",
       "      <td>0</td>\n",
       "      <td>0</td>\n",
       "    </tr>\n",
       "    <tr>\n",
       "      <th>887</th>\n",
       "      <td>888</td>\n",
       "      <td>1</td>\n",
       "      <td>1</td>\n",
       "      <td>0</td>\n",
       "      <td>0</td>\n",
       "      <td>30.0000</td>\n",
       "      <td>1</td>\n",
       "      <td>0</td>\n",
       "      <td>1</td>\n",
       "      <td>0</td>\n",
       "      <td>0</td>\n",
       "      <td>0</td>\n",
       "      <td>0</td>\n",
       "      <td>0</td>\n",
       "    </tr>\n",
       "    <tr>\n",
       "      <th>888</th>\n",
       "      <td>889</td>\n",
       "      <td>3</td>\n",
       "      <td>1</td>\n",
       "      <td>1</td>\n",
       "      <td>2</td>\n",
       "      <td>23.4500</td>\n",
       "      <td>0</td>\n",
       "      <td>0</td>\n",
       "      <td>0</td>\n",
       "      <td>0</td>\n",
       "      <td>1</td>\n",
       "      <td>0</td>\n",
       "      <td>0</td>\n",
       "      <td>0</td>\n",
       "    </tr>\n",
       "    <tr>\n",
       "      <th>889</th>\n",
       "      <td>890</td>\n",
       "      <td>1</td>\n",
       "      <td>0</td>\n",
       "      <td>0</td>\n",
       "      <td>0</td>\n",
       "      <td>30.0000</td>\n",
       "      <td>1</td>\n",
       "      <td>0</td>\n",
       "      <td>0</td>\n",
       "      <td>1</td>\n",
       "      <td>0</td>\n",
       "      <td>0</td>\n",
       "      <td>0</td>\n",
       "      <td>0</td>\n",
       "    </tr>\n",
       "    <tr>\n",
       "      <th>890</th>\n",
       "      <td>891</td>\n",
       "      <td>3</td>\n",
       "      <td>0</td>\n",
       "      <td>0</td>\n",
       "      <td>0</td>\n",
       "      <td>7.7500</td>\n",
       "      <td>0</td>\n",
       "      <td>0</td>\n",
       "      <td>0</td>\n",
       "      <td>0</td>\n",
       "      <td>0</td>\n",
       "      <td>1</td>\n",
       "      <td>0</td>\n",
       "      <td>0</td>\n",
       "    </tr>\n",
       "  </tbody>\n",
       "</table>\n",
       "<p>891 rows × 14 columns</p>\n",
       "</div>"
      ],
      "text/plain": [
       "     PassengerId  Pclass  Sex  SibSp  Parch     Fare  Survived  0-4  4-22  \\\n",
       "0              1       3    0      1      0   7.2500         0    0     1   \n",
       "1              2       1    1      1      0  71.2833         1    0     0   \n",
       "2              3       3    1      0      0   7.9250         1    0     0   \n",
       "3              4       1    1      1      0  53.1000         1    0     0   \n",
       "4              5       3    0      0      0   8.0500         0    0     0   \n",
       "..           ...     ...  ...    ...    ...      ...       ...  ...   ...   \n",
       "886          887       2    0      0      0  13.0000         0    0     0   \n",
       "887          888       1    1      0      0  30.0000         1    0     1   \n",
       "888          889       3    1      1      2  23.4500         0    0     0   \n",
       "889          890       1    0      0      0  30.0000         1    0     0   \n",
       "890          891       3    0      0      0   7.7500         0    0     0   \n",
       "\n",
       "     22-28  28  28-35  35-54  54-80  \n",
       "0        0   0      0      0      0  \n",
       "1        0   0      0      1      0  \n",
       "2        1   0      0      0      0  \n",
       "3        0   0      1      0      0  \n",
       "4        0   0      1      0      0  \n",
       "..     ...  ..    ...    ...    ...  \n",
       "886      1   0      0      0      0  \n",
       "887      0   0      0      0      0  \n",
       "888      0   1      0      0      0  \n",
       "889      1   0      0      0      0  \n",
       "890      0   0      1      0      0  \n",
       "\n",
       "[891 rows x 14 columns]"
      ]
     },
     "execution_count": 1225,
     "metadata": {},
     "output_type": "execute_result"
    }
   ],
   "source": [
    "new_df = new_df[['PassengerId', 'Pclass', 'Sex', 'SibSp', 'Parch', 'Fare', 'Survived', '0-4', '4-22', '22-28', 28.0, '28-35', '35-54', '54-80']]\n",
    "new_df = new_df.rename(columns={28.0: '28'}).reindex(new_df.index)\n",
    "new_df"
   ]
  },
  {
   "cell_type": "code",
   "execution_count": 1226,
   "id": "5710825c",
   "metadata": {},
   "outputs": [
    {
     "data": {
      "image/png": "[encoded data removed]",
      "text/plain": [
       "<Figure size 640x480 with 1 Axes>"
      ]
     },
     "metadata": {},
     "output_type": "display_data"
    }
   ],
   "source": [
    "age_groups = ['0-4', '4-22', '22-28', '28', '28-35', '35-54', '54-80']\n",
    "survived_by_age = new_df.groupby(age_groups)['Survived'].sum()\n",
    "plt.bar(age_groups, survived_by_age)\n",
    "plt.xlabel('Age groups')\n",
    "plt.ylabel('Number of survived')\n",
    "plt.title('Survived by age group')\n",
    "plt.show()"
   ]
  },
  {
   "cell_type": "markdown",
   "id": "081c8640",
   "metadata": {},
   "source": [
    "Судя по диаграмме, среди выживших мало людей ~30 лет"
   ]
  },
  {
   "cell_type": "code",
   "execution_count": null,
   "id": "77d11cb8",
   "metadata": {},
   "outputs": [],
   "source": []
  },
  {
   "cell_type": "code",
   "execution_count": null,
   "id": "5fd5d8e8",
   "metadata": {},
   "outputs": [],
   "source": []
  },
  {
   "cell_type": "code",
   "execution_count": 1227,
   "id": "ea7f89e1",
   "metadata": {},
   "outputs": [
    {
     "data": {
      "text/plain": [
       "<AxesSubplot:ylabel='Frequency'>"
      ]
     },
     "execution_count": 1227,
     "metadata": {},
     "output_type": "execute_result"
    },
    {
     "data": {
      "image/png": "[encoded data removed]",
      "text/plain": [
       "<Figure size 640x480 with 1 Axes>"
      ]
     },
     "metadata": {},
     "output_type": "display_data"
    }
   ],
   "source": [
    "new_df['SibSp'].plot(kind= 'hist', bins=8, edgecolor ='black')"
   ]
  },
  {
   "cell_type": "code",
   "execution_count": 1228,
   "id": "503006e2",
   "metadata": {},
   "outputs": [
    {
     "data": {
      "text/plain": [
       "<AxesSubplot:ylabel='Frequency'>"
      ]
     },
     "execution_count": 1228,
     "metadata": {},
     "output_type": "execute_result"
    },
    {
     "data": {
      "image/png": "[encoded data removed]",
      "text/plain": [
       "<Figure size 640x480 with 1 Axes>"
      ]
     },
     "metadata": {},
     "output_type": "display_data"
    }
   ],
   "source": [
    "new_df['Parch'].plot(kind= 'hist', bins=6, edgecolor ='black')"
   ]
  },
  {
   "cell_type": "code",
   "execution_count": 1229,
   "id": "296b490d",
   "metadata": {},
   "outputs": [
    {
     "data": {
      "text/plain": [
       "<AxesSubplot:title={'center':'Parch'}, xlabel='Parch'>"
      ]
     },
     "execution_count": 1229,
     "metadata": {},
     "output_type": "execute_result"
    },
    {
     "data": {
      "image/png": "[encoded data removed]",
      "text/plain": [
       "<Figure size 640x480 with 2 Axes>"
      ]
     },
     "metadata": {},
     "output_type": "display_data"
    }
   ],
   "source": [
    "fig, axes = plt.subplots(ncols=2)\n",
    "new_df.pivot_table('PassengerId', ['SibSp'], 'Survived', 'count').plot(ax=axes[0], title='SibSp')\n",
    "new_df.pivot_table('PassengerId', ['Parch'], 'Survived', 'count').plot(ax=axes[1], title='Parch')\n"
   ]
  },
  {
   "cell_type": "markdown",
   "id": "4c5a5a91",
   "metadata": {},
   "source": [
    "Из гарафиуов следует, что количество родственников обратно пропорционально шансам на выживание"
   ]
  },
  {
   "cell_type": "code",
   "execution_count": null,
   "id": "d11777a8",
   "metadata": {},
   "outputs": [],
   "source": []
  },
  {
   "cell_type": "code",
   "execution_count": null,
   "id": "0b8f0efc",
   "metadata": {},
   "outputs": [],
   "source": []
  },
  {
   "cell_type": "code",
   "execution_count": 1230,
   "id": "ced775aa",
   "metadata": {},
   "outputs": [
    {
     "data": {
      "text/plain": [
       "<AxesSubplot:ylabel='Frequency'>"
      ]
     },
     "execution_count": 1230,
     "metadata": {},
     "output_type": "execute_result"
    },
    {
     "data": {
      "image/png": "[encoded data removed]",
      "text/plain": [
       "<Figure size 640x480 with 1 Axes>"
      ]
     },
     "metadata": {},
     "output_type": "display_data"
    }
   ],
   "source": [
    "new_df['Fare'].plot(kind= 'hist', bins=8, edgecolor ='black')"
   ]
  },
  {
   "cell_type": "markdown",
   "id": "aa4da59f",
   "metadata": {},
   "source": [
    "Последняя интересная метрика - Fare (Пассажирский тариф)"
   ]
  },
  {
   "cell_type": "code",
   "execution_count": 1231,
   "id": "78e4a37b",
   "metadata": {},
   "outputs": [
    {
     "data": {
      "text/plain": [
       "<AxesSubplot:>"
      ]
     },
     "execution_count": 1231,
     "metadata": {},
     "output_type": "execute_result"
    },
    {
     "data": {
      "image/png": "[encoded data removed]",
      "text/plain": [
       "<Figure size 640x480 with 1 Axes>"
      ]
     },
     "metadata": {},
     "output_type": "display_data"
    }
   ],
   "source": [
    "new_df['Fare'].plot(kind='box', grid=True)"
   ]
  },
  {
   "cell_type": "code",
   "execution_count": 1232,
   "id": "5b7ea60f",
   "metadata": {},
   "outputs": [
    {
     "data": {
      "text/plain": [
       "count    891.000000\n",
       "mean      32.204208\n",
       "std       49.693429\n",
       "min        0.000000\n",
       "25%        7.910400\n",
       "50%       14.454200\n",
       "75%       31.000000\n",
       "max      512.329200\n",
       "Name: Fare, dtype: float64"
      ]
     },
     "execution_count": 1232,
     "metadata": {},
     "output_type": "execute_result"
    }
   ],
   "source": [
    "new_df['Fare'].describe()"
   ]
  },
  {
   "cell_type": "markdown",
   "id": "40a1fce6",
   "metadata": {},
   "source": [
    "Здесь присутствуют явные выбросы. Лучше будет удалить строки, в которых тариф превышает значение 140"
   ]
  },
  {
   "cell_type": "code",
   "execution_count": 1233,
   "id": "96850528",
   "metadata": {},
   "outputs": [
    {
     "data": {
      "text/plain": [
       "count    860.000000\n",
       "mean      24.905135\n",
       "std       25.743930\n",
       "min        0.000000\n",
       "25%        7.895800\n",
       "50%       13.500000\n",
       "75%       29.125000\n",
       "max      135.633300\n",
       "Name: Fare, dtype: float64"
      ]
     },
     "execution_count": 1233,
     "metadata": {},
     "output_type": "execute_result"
    }
   ],
   "source": [
    "new_df = new_df[new_df['Fare'] <= 140]\n",
    "new_df['Fare'].describe()"
   ]
  },
  {
   "cell_type": "markdown",
   "id": "03a73020",
   "metadata": {},
   "source": [
    "Удалено всего 31 строка, но график стал значительно лучше"
   ]
  },
  {
   "cell_type": "code",
   "execution_count": 1234,
   "id": "99e6c24c",
   "metadata": {},
   "outputs": [
    {
     "data": {
      "text/plain": [
       "<AxesSubplot:>"
      ]
     },
     "execution_count": 1234,
     "metadata": {},
     "output_type": "execute_result"
    },
    {
     "data": {
      "image/png": "[encoded data removed]",
      "text/plain": [
       "<Figure size 640x480 with 1 Axes>"
      ]
     },
     "metadata": {},
     "output_type": "display_data"
    }
   ],
   "source": [
    "new_df['Fare'].plot(kind='box', grid=True)"
   ]
  },
  {
   "cell_type": "code",
   "execution_count": 1235,
   "id": "90b2d2ca",
   "metadata": {},
   "outputs": [
    {
     "data": {
      "text/plain": [
       "<AxesSubplot:title={'center':'Fare'}, xlabel='Fare'>"
      ]
     },
     "execution_count": 1235,
     "metadata": {},
     "output_type": "execute_result"
    },
    {
     "data": {
      "image/png": "[encoded data removed]",
      "text/plain": [
       "<Figure size 640x480 with 1 Axes>"
      ]
     },
     "metadata": {},
     "output_type": "display_data"
    }
   ],
   "source": [
    "new_df.pivot_table('PassengerId', ['Fare'], 'Survived', 'count').plot(title='Fare')\n"
   ]
  },
  {
   "cell_type": "markdown",
   "id": "3ec34dd6",
   "metadata": {},
   "source": [
    "Признак Fare очень большой, относительно остальных. Следуем выполнить масштабирование"
   ]
  },
  {
   "cell_type": "code",
   "execution_count": 1236,
   "id": "dab1cc6f",
   "metadata": {},
   "outputs": [],
   "source": [
    "from sklearn.preprocessing import MinMaxScaler\n",
    "\n",
    "scaler = MinMaxScaler()\n",
    "new_df['Fare'] = scaler.fit_transform(new_df[['Fare']])"
   ]
  },
  {
   "cell_type": "markdown",
   "id": "d5d1962e",
   "metadata": {},
   "source": [
    "### 8.Обучите ту же модель, что в п. 2 на преобразованных данных. Посчитайте ту же, что в п. 2 метрику."
   ]
  },
  {
   "cell_type": "code",
   "execution_count": 1237,
   "id": "6088928a",
   "metadata": {},
   "outputs": [],
   "source": [
    "X = new_df[['Pclass', 'Sex', 'SibSp', 'Parch', 'Fare', '0-4', '4-22', '22-28', '28', '28-35', '35-54', '54-80']]\n",
    "y = new_df[['Survived']]\n"
   ]
  },
  {
   "cell_type": "code",
   "execution_count": 1238,
   "id": "8aa1834b",
   "metadata": {},
   "outputs": [],
   "source": [
    "from sklearn.model_selection import train_test_split\n",
    "X_train, X_test, y_train, y_test = train_test_split(X, y, test_size=0.2, random_state=0)"
   ]
  },
  {
   "cell_type": "code",
   "execution_count": 1239,
   "id": "d0bb0547",
   "metadata": {},
   "outputs": [
    {
     "name": "stdout",
     "output_type": "stream",
     "text": [
      "Weights: [[-0.93263586  2.71630997 -0.39637337 -0.094637    1.03646982  2.05267098\n",
      "  -0.02683042 -0.04007003 -0.23571125  0.18930513 -0.54774775 -1.39164952]]\n",
      "Error: 0.19186046511627908\n"
     ]
    }
   ],
   "source": [
    "model = LogisticRegression().fit(X_train, y_train)\n",
    "print('Weights: {}'.format(model.coef_))\n",
    "\n",
    "pred_values = model.predict(X_test)\n",
    "print('Error: {}'.format(mean_absolute_error(pred_values, y_test)))"
   ]
  },
  {
   "cell_type": "markdown",
   "id": "9f43fe21",
   "metadata": {},
   "source": [
    "MAE ~ 0.2, точность прогноза выросла на 10 %"
   ]
  },
  {
   "cell_type": "code",
   "execution_count": 1240,
   "id": "9786ae78",
   "metadata": {},
   "outputs": [],
   "source": [
    "# from sklearn.ensemble import IsolationForest"
   ]
  },
  {
   "cell_type": "code",
   "execution_count": 1241,
   "id": "7f0fd86a",
   "metadata": {},
   "outputs": [
    {
     "data": {
      "image/png": "[encoded data removed]",
      "text/plain": [
       "<Figure size 1200x1200 with 1 Axes>"
      ]
     },
     "metadata": {},
     "output_type": "display_data"
    }
   ],
   "source": [
    "predictions = model.predict_proba(X_test)\n",
    "fpr, tpr, thresh = roc_curve(y_test, predictions[:, 1])\n",
    "plt.figure(figsize=(12, 12))\n",
    "plt.plot(fpr, tpr)\n",
    "plt.title('ROC AUC', fontdict={'fontsize': 20})\n",
    "plt.xlabel('False Positive Rate', fontdict={'fontsize': 20})\n",
    "plt.ylabel('True Positive Rate', fontdict={'fontsize': 20})\n",
    "plt.show()"
   ]
  },
  {
   "cell_type": "markdown",
   "id": "052d7377",
   "metadata": {},
   "source": [
    "### 9. Сформулируйте выводы по проделанной работе."
   ]
  },
  {
   "cell_type": "markdown",
   "id": "5716fb7f",
   "metadata": {},
   "source": [
    "В ходе работы были построены две модели. Первая основывалась только на трех численных параметрах с удаленными пропусками. Вторая - содержала в себе 5 признаков, включая категориальные значения, пропуски были заполнены средними значениями столбца. \n",
    "\n",
    "Разница точности двух можелей 10 % в пользу второй. Более сложная и более полная модель быстрее обучается, что демонстрирует ROC-кривая. Стандартизация и преобразование категориальных признаков сильно влияют на качество модели. \n",
    "\n",
    "Я считаю, что при работе с данными необходима качественная предобработка перед непосредственно построением модели. Это позволит повысить качество прогнозов.\n",
    "\n",
    "***rubbish in, rubbish out - что положишь, то получишь***"
   ]
  },
  {
   "cell_type": "code",
   "execution_count": null,
   "id": "56db84f4",
   "metadata": {},
   "outputs": [],
   "source": []
  }
 ],
 "metadata": {
  "kernelspec": {
   "display_name": "Python 3 (ipykernel)",
   "language": "python",
   "name": "python3"
  },
  "language_info": {
   "codemirror_mode": {
    "name": "ipython",
    "version": 3
   },
   "file_extension": ".py",
   "mimetype": "text/x-python",
   "name": "python",
   "nbconvert_exporter": "python",
   "pygments_lexer": "ipython3",
   "version": "3.9.13"
  }
 },
 "nbformat": 4,
 "nbformat_minor": 5
}
