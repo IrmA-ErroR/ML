{
 "cells": [
  {
   "cell_type": "markdown",
   "id": "aa159ef4",
   "metadata": {},
   "source": [
    "# Домашняя работа «Оценка точности модели, переобучение, регуляризация» обновленное"
   ]
  },
  {
   "cell_type": "code",
   "execution_count": 226,
   "id": "145e1a37",
   "metadata": {},
   "outputs": [],
   "source": [
    "import numpy as np\n",
    "import pandas as pd\n",
    "from sklearn import preprocessing"
   ]
  },
  {
   "cell_type": "markdown",
   "id": "782b154d",
   "metadata": {},
   "source": [
    "## Задание\n",
    "\n",
    "**Цель:** закрепить знания о математическом смысле метрик TPR, FPR. Изучить построение ROC-кривой, графика Precision-Recall.\n",
    "\n",
    "**Описание задания:**\n",
    "\n",
    "Решить задачу классификации при помощи обучения модели логистической регрессии. Качество модели оценивается путем подсчета метрик TPR, FPR и построения графиков ROC-кривой, Precision-Recall."
   ]
  },
  {
   "cell_type": "code",
   "execution_count": 227,
   "id": "218c841b",
   "metadata": {
    "scrolled": true
   },
   "outputs": [
    {
     "data": {
      "text/html": [
       "<div>\n",
       "<style scoped>\n",
       "    .dataframe tbody tr th:only-of-type {\n",
       "        vertical-align: middle;\n",
       "    }\n",
       "\n",
       "    .dataframe tbody tr th {\n",
       "        vertical-align: top;\n",
       "    }\n",
       "\n",
       "    .dataframe thead th {\n",
       "        text-align: right;\n",
       "    }\n",
       "</style>\n",
       "<table border=\"1\" class=\"dataframe\">\n",
       "  <thead>\n",
       "    <tr style=\"text-align: right;\">\n",
       "      <th></th>\n",
       "      <th>id</th>\n",
       "      <th>name</th>\n",
       "      <th>nationality</th>\n",
       "      <th>sex</th>\n",
       "      <th>dob</th>\n",
       "      <th>height</th>\n",
       "      <th>weight</th>\n",
       "      <th>sport</th>\n",
       "      <th>gold</th>\n",
       "      <th>silver</th>\n",
       "      <th>bronze</th>\n",
       "    </tr>\n",
       "  </thead>\n",
       "  <tbody>\n",
       "    <tr>\n",
       "      <th>0</th>\n",
       "      <td>736041664</td>\n",
       "      <td>A Jesus Garcia</td>\n",
       "      <td>ESP</td>\n",
       "      <td>male</td>\n",
       "      <td>10/17/69</td>\n",
       "      <td>1.72</td>\n",
       "      <td>64.0</td>\n",
       "      <td>athletics</td>\n",
       "      <td>0</td>\n",
       "      <td>0</td>\n",
       "      <td>0</td>\n",
       "    </tr>\n",
       "    <tr>\n",
       "      <th>1</th>\n",
       "      <td>532037425</td>\n",
       "      <td>A Lam Shin</td>\n",
       "      <td>KOR</td>\n",
       "      <td>female</td>\n",
       "      <td>9/23/86</td>\n",
       "      <td>1.68</td>\n",
       "      <td>56.0</td>\n",
       "      <td>fencing</td>\n",
       "      <td>0</td>\n",
       "      <td>0</td>\n",
       "      <td>0</td>\n",
       "    </tr>\n",
       "    <tr>\n",
       "      <th>2</th>\n",
       "      <td>435962603</td>\n",
       "      <td>Aaron Brown</td>\n",
       "      <td>CAN</td>\n",
       "      <td>male</td>\n",
       "      <td>5/27/92</td>\n",
       "      <td>1.98</td>\n",
       "      <td>79.0</td>\n",
       "      <td>athletics</td>\n",
       "      <td>0</td>\n",
       "      <td>0</td>\n",
       "      <td>1</td>\n",
       "    </tr>\n",
       "    <tr>\n",
       "      <th>3</th>\n",
       "      <td>521041435</td>\n",
       "      <td>Aaron Cook</td>\n",
       "      <td>MDA</td>\n",
       "      <td>male</td>\n",
       "      <td>1/2/91</td>\n",
       "      <td>1.83</td>\n",
       "      <td>80.0</td>\n",
       "      <td>taekwondo</td>\n",
       "      <td>0</td>\n",
       "      <td>0</td>\n",
       "      <td>0</td>\n",
       "    </tr>\n",
       "    <tr>\n",
       "      <th>4</th>\n",
       "      <td>33922579</td>\n",
       "      <td>Aaron Gate</td>\n",
       "      <td>NZL</td>\n",
       "      <td>male</td>\n",
       "      <td>11/26/90</td>\n",
       "      <td>1.81</td>\n",
       "      <td>71.0</td>\n",
       "      <td>cycling</td>\n",
       "      <td>0</td>\n",
       "      <td>0</td>\n",
       "      <td>0</td>\n",
       "    </tr>\n",
       "  </tbody>\n",
       "</table>\n",
       "</div>"
      ],
      "text/plain": [
       "          id            name nationality     sex       dob  height  weight  \\\n",
       "0  736041664  A Jesus Garcia         ESP    male  10/17/69    1.72    64.0   \n",
       "1  532037425      A Lam Shin         KOR  female   9/23/86    1.68    56.0   \n",
       "2  435962603     Aaron Brown         CAN    male   5/27/92    1.98    79.0   \n",
       "3  521041435      Aaron Cook         MDA    male    1/2/91    1.83    80.0   \n",
       "4   33922579      Aaron Gate         NZL    male  11/26/90    1.81    71.0   \n",
       "\n",
       "       sport  gold  silver  bronze  \n",
       "0  athletics     0       0       0  \n",
       "1    fencing     0       0       0  \n",
       "2  athletics     0       0       1  \n",
       "3  taekwondo     0       0       0  \n",
       "4    cycling     0       0       0  "
      ]
     },
     "execution_count": 227,
     "metadata": {},
     "output_type": "execute_result"
    }
   ],
   "source": [
    "my_path = r\"C:\\Users\\sveta\\Documents\\Netology\\ML\\Лекция_2\\athletes.csv\"\n",
    "data = pd.read_csv(my_path)\n",
    "data.head()"
   ]
  },
  {
   "cell_type": "markdown",
   "id": "f31546ac",
   "metadata": {},
   "source": [
    "## Этапы работы:"
   ]
  },
  {
   "cell_type": "markdown",
   "id": "c8017b0f",
   "metadata": {},
   "source": [
    "### 1. Преобразуйте данные:\n",
    "- a. проверьте наличие пропущенных значений. \n",
    "Преобразуйте/удалите пропуски по необходимости;\n"
   ]
  },
  {
   "cell_type": "code",
   "execution_count": 228,
   "id": "aea70a09",
   "metadata": {},
   "outputs": [
    {
     "name": "stdout",
     "output_type": "stream",
     "text": [
      "<class 'pandas.core.frame.DataFrame'>\n",
      "RangeIndex: 11538 entries, 0 to 11537\n",
      "Data columns (total 11 columns):\n",
      " #   Column       Non-Null Count  Dtype  \n",
      "---  ------       --------------  -----  \n",
      " 0   id           11538 non-null  int64  \n",
      " 1   name         11538 non-null  object \n",
      " 2   nationality  11538 non-null  object \n",
      " 3   sex          11538 non-null  object \n",
      " 4   dob          11537 non-null  object \n",
      " 5   height       11208 non-null  float64\n",
      " 6   weight       10879 non-null  float64\n",
      " 7   sport        11538 non-null  object \n",
      " 8   gold         11538 non-null  int64  \n",
      " 9   silver       11538 non-null  int64  \n",
      " 10  bronze       11538 non-null  int64  \n",
      "dtypes: float64(2), int64(4), object(5)\n",
      "memory usage: 991.7+ KB\n"
     ]
    }
   ],
   "source": [
    "data.info()"
   ]
  },
  {
   "cell_type": "code",
   "execution_count": 229,
   "id": "7407ebfb",
   "metadata": {},
   "outputs": [
    {
     "name": "stdout",
     "output_type": "stream",
     "text": [
      "<class 'pandas.core.frame.DataFrame'>\n",
      "Int64Index: 10858 entries, 0 to 11537\n",
      "Data columns (total 11 columns):\n",
      " #   Column       Non-Null Count  Dtype  \n",
      "---  ------       --------------  -----  \n",
      " 0   id           10858 non-null  int64  \n",
      " 1   name         10858 non-null  object \n",
      " 2   nationality  10858 non-null  object \n",
      " 3   sex          10858 non-null  object \n",
      " 4   dob          10858 non-null  object \n",
      " 5   height       10858 non-null  float64\n",
      " 6   weight       10858 non-null  float64\n",
      " 7   sport        10858 non-null  object \n",
      " 8   gold         10858 non-null  int64  \n",
      " 9   silver       10858 non-null  int64  \n",
      " 10  bronze       10858 non-null  int64  \n",
      "dtypes: float64(2), int64(4), object(5)\n",
      "memory usage: 1017.9+ KB\n"
     ]
    }
   ],
   "source": [
    "data.dropna(inplace=True)\n",
    "data.info()"
   ]
  },
  {
   "cell_type": "markdown",
   "id": "a52d13aa",
   "metadata": {},
   "source": [
    "Проще всего строить модель для бинарной классификации. В нашем случае это предсказание пола. \n",
    "Разделение по классам 'male' и 'female' примерно 50/50."
   ]
  },
  {
   "cell_type": "markdown",
   "id": "daff4316",
   "metadata": {},
   "source": [
    "- b. закодируйте категориальные переменные числовыми значениями по необходимости (перекодируем столбцы sport и sex)"
   ]
  },
  {
   "cell_type": "code",
   "execution_count": 230,
   "id": "da28583e",
   "metadata": {
    "scrolled": true
   },
   "outputs": [
    {
     "data": {
      "text/html": [
       "<div>\n",
       "<style scoped>\n",
       "    .dataframe tbody tr th:only-of-type {\n",
       "        vertical-align: middle;\n",
       "    }\n",
       "\n",
       "    .dataframe tbody tr th {\n",
       "        vertical-align: top;\n",
       "    }\n",
       "\n",
       "    .dataframe thead th {\n",
       "        text-align: right;\n",
       "    }\n",
       "</style>\n",
       "<table border=\"1\" class=\"dataframe\">\n",
       "  <thead>\n",
       "    <tr style=\"text-align: right;\">\n",
       "      <th></th>\n",
       "      <th>height</th>\n",
       "      <th>weight</th>\n",
       "      <th>gold</th>\n",
       "      <th>silver</th>\n",
       "      <th>bronze</th>\n",
       "      <th>aquatics</th>\n",
       "      <th>archery</th>\n",
       "      <th>athletics</th>\n",
       "      <th>badminton</th>\n",
       "      <th>basketball</th>\n",
       "      <th>...</th>\n",
       "      <th>rugby sevens</th>\n",
       "      <th>sailing</th>\n",
       "      <th>shooting</th>\n",
       "      <th>table tennis</th>\n",
       "      <th>taekwondo</th>\n",
       "      <th>tennis</th>\n",
       "      <th>triathlon</th>\n",
       "      <th>volleyball</th>\n",
       "      <th>weightlifting</th>\n",
       "      <th>wrestling</th>\n",
       "    </tr>\n",
       "  </thead>\n",
       "  <tbody>\n",
       "    <tr>\n",
       "      <th>0</th>\n",
       "      <td>1.72</td>\n",
       "      <td>64.0</td>\n",
       "      <td>0</td>\n",
       "      <td>0</td>\n",
       "      <td>0</td>\n",
       "      <td>0</td>\n",
       "      <td>0</td>\n",
       "      <td>1</td>\n",
       "      <td>0</td>\n",
       "      <td>0</td>\n",
       "      <td>...</td>\n",
       "      <td>0</td>\n",
       "      <td>0</td>\n",
       "      <td>0</td>\n",
       "      <td>0</td>\n",
       "      <td>0</td>\n",
       "      <td>0</td>\n",
       "      <td>0</td>\n",
       "      <td>0</td>\n",
       "      <td>0</td>\n",
       "      <td>0</td>\n",
       "    </tr>\n",
       "    <tr>\n",
       "      <th>1</th>\n",
       "      <td>1.68</td>\n",
       "      <td>56.0</td>\n",
       "      <td>0</td>\n",
       "      <td>0</td>\n",
       "      <td>0</td>\n",
       "      <td>0</td>\n",
       "      <td>0</td>\n",
       "      <td>0</td>\n",
       "      <td>0</td>\n",
       "      <td>0</td>\n",
       "      <td>...</td>\n",
       "      <td>0</td>\n",
       "      <td>0</td>\n",
       "      <td>0</td>\n",
       "      <td>0</td>\n",
       "      <td>0</td>\n",
       "      <td>0</td>\n",
       "      <td>0</td>\n",
       "      <td>0</td>\n",
       "      <td>0</td>\n",
       "      <td>0</td>\n",
       "    </tr>\n",
       "    <tr>\n",
       "      <th>2</th>\n",
       "      <td>1.98</td>\n",
       "      <td>79.0</td>\n",
       "      <td>0</td>\n",
       "      <td>0</td>\n",
       "      <td>1</td>\n",
       "      <td>0</td>\n",
       "      <td>0</td>\n",
       "      <td>1</td>\n",
       "      <td>0</td>\n",
       "      <td>0</td>\n",
       "      <td>...</td>\n",
       "      <td>0</td>\n",
       "      <td>0</td>\n",
       "      <td>0</td>\n",
       "      <td>0</td>\n",
       "      <td>0</td>\n",
       "      <td>0</td>\n",
       "      <td>0</td>\n",
       "      <td>0</td>\n",
       "      <td>0</td>\n",
       "      <td>0</td>\n",
       "    </tr>\n",
       "    <tr>\n",
       "      <th>3</th>\n",
       "      <td>1.83</td>\n",
       "      <td>80.0</td>\n",
       "      <td>0</td>\n",
       "      <td>0</td>\n",
       "      <td>0</td>\n",
       "      <td>0</td>\n",
       "      <td>0</td>\n",
       "      <td>0</td>\n",
       "      <td>0</td>\n",
       "      <td>0</td>\n",
       "      <td>...</td>\n",
       "      <td>0</td>\n",
       "      <td>0</td>\n",
       "      <td>0</td>\n",
       "      <td>0</td>\n",
       "      <td>1</td>\n",
       "      <td>0</td>\n",
       "      <td>0</td>\n",
       "      <td>0</td>\n",
       "      <td>0</td>\n",
       "      <td>0</td>\n",
       "    </tr>\n",
       "    <tr>\n",
       "      <th>4</th>\n",
       "      <td>1.81</td>\n",
       "      <td>71.0</td>\n",
       "      <td>0</td>\n",
       "      <td>0</td>\n",
       "      <td>0</td>\n",
       "      <td>0</td>\n",
       "      <td>0</td>\n",
       "      <td>0</td>\n",
       "      <td>0</td>\n",
       "      <td>0</td>\n",
       "      <td>...</td>\n",
       "      <td>0</td>\n",
       "      <td>0</td>\n",
       "      <td>0</td>\n",
       "      <td>0</td>\n",
       "      <td>0</td>\n",
       "      <td>0</td>\n",
       "      <td>0</td>\n",
       "      <td>0</td>\n",
       "      <td>0</td>\n",
       "      <td>0</td>\n",
       "    </tr>\n",
       "    <tr>\n",
       "      <th>...</th>\n",
       "      <td>...</td>\n",
       "      <td>...</td>\n",
       "      <td>...</td>\n",
       "      <td>...</td>\n",
       "      <td>...</td>\n",
       "      <td>...</td>\n",
       "      <td>...</td>\n",
       "      <td>...</td>\n",
       "      <td>...</td>\n",
       "      <td>...</td>\n",
       "      <td>...</td>\n",
       "      <td>...</td>\n",
       "      <td>...</td>\n",
       "      <td>...</td>\n",
       "      <td>...</td>\n",
       "      <td>...</td>\n",
       "      <td>...</td>\n",
       "      <td>...</td>\n",
       "      <td>...</td>\n",
       "      <td>...</td>\n",
       "      <td>...</td>\n",
       "    </tr>\n",
       "    <tr>\n",
       "      <th>11533</th>\n",
       "      <td>1.64</td>\n",
       "      <td>58.0</td>\n",
       "      <td>0</td>\n",
       "      <td>0</td>\n",
       "      <td>0</td>\n",
       "      <td>0</td>\n",
       "      <td>0</td>\n",
       "      <td>1</td>\n",
       "      <td>0</td>\n",
       "      <td>0</td>\n",
       "      <td>...</td>\n",
       "      <td>0</td>\n",
       "      <td>0</td>\n",
       "      <td>0</td>\n",
       "      <td>0</td>\n",
       "      <td>0</td>\n",
       "      <td>0</td>\n",
       "      <td>0</td>\n",
       "      <td>0</td>\n",
       "      <td>0</td>\n",
       "      <td>0</td>\n",
       "    </tr>\n",
       "    <tr>\n",
       "      <th>11534</th>\n",
       "      <td>1.73</td>\n",
       "      <td>63.0</td>\n",
       "      <td>0</td>\n",
       "      <td>0</td>\n",
       "      <td>0</td>\n",
       "      <td>0</td>\n",
       "      <td>0</td>\n",
       "      <td>1</td>\n",
       "      <td>0</td>\n",
       "      <td>0</td>\n",
       "      <td>...</td>\n",
       "      <td>0</td>\n",
       "      <td>0</td>\n",
       "      <td>0</td>\n",
       "      <td>0</td>\n",
       "      <td>0</td>\n",
       "      <td>0</td>\n",
       "      <td>0</td>\n",
       "      <td>0</td>\n",
       "      <td>0</td>\n",
       "      <td>0</td>\n",
       "    </tr>\n",
       "    <tr>\n",
       "      <th>11535</th>\n",
       "      <td>1.85</td>\n",
       "      <td>100.0</td>\n",
       "      <td>0</td>\n",
       "      <td>0</td>\n",
       "      <td>0</td>\n",
       "      <td>0</td>\n",
       "      <td>0</td>\n",
       "      <td>0</td>\n",
       "      <td>0</td>\n",
       "      <td>0</td>\n",
       "      <td>...</td>\n",
       "      <td>0</td>\n",
       "      <td>0</td>\n",
       "      <td>0</td>\n",
       "      <td>0</td>\n",
       "      <td>0</td>\n",
       "      <td>0</td>\n",
       "      <td>0</td>\n",
       "      <td>0</td>\n",
       "      <td>0</td>\n",
       "      <td>1</td>\n",
       "    </tr>\n",
       "    <tr>\n",
       "      <th>11536</th>\n",
       "      <td>1.60</td>\n",
       "      <td>56.0</td>\n",
       "      <td>0</td>\n",
       "      <td>0</td>\n",
       "      <td>0</td>\n",
       "      <td>0</td>\n",
       "      <td>0</td>\n",
       "      <td>0</td>\n",
       "      <td>0</td>\n",
       "      <td>0</td>\n",
       "      <td>...</td>\n",
       "      <td>0</td>\n",
       "      <td>0</td>\n",
       "      <td>0</td>\n",
       "      <td>0</td>\n",
       "      <td>0</td>\n",
       "      <td>0</td>\n",
       "      <td>0</td>\n",
       "      <td>0</td>\n",
       "      <td>1</td>\n",
       "      <td>0</td>\n",
       "    </tr>\n",
       "    <tr>\n",
       "      <th>11537</th>\n",
       "      <td>1.85</td>\n",
       "      <td>70.0</td>\n",
       "      <td>0</td>\n",
       "      <td>0</td>\n",
       "      <td>0</td>\n",
       "      <td>0</td>\n",
       "      <td>0</td>\n",
       "      <td>1</td>\n",
       "      <td>0</td>\n",
       "      <td>0</td>\n",
       "      <td>...</td>\n",
       "      <td>0</td>\n",
       "      <td>0</td>\n",
       "      <td>0</td>\n",
       "      <td>0</td>\n",
       "      <td>0</td>\n",
       "      <td>0</td>\n",
       "      <td>0</td>\n",
       "      <td>0</td>\n",
       "      <td>0</td>\n",
       "      <td>0</td>\n",
       "    </tr>\n",
       "  </tbody>\n",
       "</table>\n",
       "<p>10858 rows × 32 columns</p>\n",
       "</div>"
      ],
      "text/plain": [
       "       height  weight  gold  silver  bronze  aquatics  archery  athletics  \\\n",
       "0        1.72    64.0     0       0       0         0        0          1   \n",
       "1        1.68    56.0     0       0       0         0        0          0   \n",
       "2        1.98    79.0     0       0       1         0        0          1   \n",
       "3        1.83    80.0     0       0       0         0        0          0   \n",
       "4        1.81    71.0     0       0       0         0        0          0   \n",
       "...       ...     ...   ...     ...     ...       ...      ...        ...   \n",
       "11533    1.64    58.0     0       0       0         0        0          1   \n",
       "11534    1.73    63.0     0       0       0         0        0          1   \n",
       "11535    1.85   100.0     0       0       0         0        0          0   \n",
       "11536    1.60    56.0     0       0       0         0        0          0   \n",
       "11537    1.85    70.0     0       0       0         0        0          1   \n",
       "\n",
       "       badminton  basketball  ...  rugby sevens  sailing  shooting  \\\n",
       "0              0           0  ...             0        0         0   \n",
       "1              0           0  ...             0        0         0   \n",
       "2              0           0  ...             0        0         0   \n",
       "3              0           0  ...             0        0         0   \n",
       "4              0           0  ...             0        0         0   \n",
       "...          ...         ...  ...           ...      ...       ...   \n",
       "11533          0           0  ...             0        0         0   \n",
       "11534          0           0  ...             0        0         0   \n",
       "11535          0           0  ...             0        0         0   \n",
       "11536          0           0  ...             0        0         0   \n",
       "11537          0           0  ...             0        0         0   \n",
       "\n",
       "       table tennis  taekwondo  tennis  triathlon  volleyball  weightlifting  \\\n",
       "0                 0          0       0          0           0              0   \n",
       "1                 0          0       0          0           0              0   \n",
       "2                 0          0       0          0           0              0   \n",
       "3                 0          1       0          0           0              0   \n",
       "4                 0          0       0          0           0              0   \n",
       "...             ...        ...     ...        ...         ...            ...   \n",
       "11533             0          0       0          0           0              0   \n",
       "11534             0          0       0          0           0              0   \n",
       "11535             0          0       0          0           0              0   \n",
       "11536             0          0       0          0           0              1   \n",
       "11537             0          0       0          0           0              0   \n",
       "\n",
       "       wrestling  \n",
       "0              0  \n",
       "1              0  \n",
       "2              0  \n",
       "3              0  \n",
       "4              0  \n",
       "...          ...  \n",
       "11533          0  \n",
       "11534          0  \n",
       "11535          1  \n",
       "11536          0  \n",
       "11537          0  \n",
       "\n",
       "[10858 rows x 32 columns]"
      ]
     },
     "execution_count": 230,
     "metadata": {},
     "output_type": "execute_result"
    }
   ],
   "source": [
    "df1 = pd.get_dummies(data['sport'])\n",
    "X = pd.concat([data, df1], axis=1).reindex(data.index)\n",
    "X.drop('sport', axis=1, inplace=True)\n",
    "X.drop(['id', 'name', 'nationality', 'sex', 'dob'], axis=1, inplace=True)\n",
    "X"
   ]
  },
  {
   "cell_type": "code",
   "execution_count": 231,
   "id": "8b143cd2",
   "metadata": {
    "scrolled": true
   },
   "outputs": [
    {
     "data": {
      "text/plain": [
       "0        0\n",
       "1        1\n",
       "2        0\n",
       "3        0\n",
       "4        0\n",
       "        ..\n",
       "11533    1\n",
       "11534    1\n",
       "11535    0\n",
       "11536    0\n",
       "11537    0\n",
       "Name: sex, Length: 10858, dtype: int64"
      ]
     },
     "execution_count": 231,
     "metadata": {},
     "output_type": "execute_result"
    }
   ],
   "source": [
    "y = data['sex'].map({'male': 0, 'female': 1})\n",
    "y"
   ]
  },
  {
   "cell_type": "markdown",
   "id": "f551fbe0",
   "metadata": {},
   "source": [
    "### 2. Разделите выборку на обучающее (80% данных) и тестовое (20% данных) подмножества."
   ]
  },
  {
   "cell_type": "code",
   "execution_count": 232,
   "id": "fd9585fb",
   "metadata": {},
   "outputs": [],
   "source": [
    "from sklearn.model_selection import train_test_split\n",
    "X_train, X_test, y_train, y_test = train_test_split(X, y, test_size=0.2, random_state=0)"
   ]
  },
  {
   "cell_type": "markdown",
   "id": "ac3289f9",
   "metadata": {},
   "source": [
    "### 3. Постройте ROC-кривую с помощью функции sklearn.metrics. roc_curve"
   ]
  },
  {
   "cell_type": "code",
   "execution_count": 233,
   "id": "cf777359",
   "metadata": {},
   "outputs": [],
   "source": [
    "from sklearn.linear_model import LogisticRegression\n",
    "from sklearn.metrics import roc_curve\n",
    "import matplotlib.pyplot as plt"
   ]
  },
  {
   "cell_type": "markdown",
   "id": "9ec8e301",
   "metadata": {},
   "source": [
    "Создание и обучение модели"
   ]
  },
  {
   "cell_type": "code",
   "execution_count": 234,
   "id": "eee83e3e",
   "metadata": {},
   "outputs": [
    {
     "data": {
      "text/plain": [
       "LogisticRegression(max_iter=500000)"
      ]
     },
     "execution_count": 234,
     "metadata": {},
     "output_type": "execute_result"
    }
   ],
   "source": [
    "model = LogisticRegression(max_iter=500000)\n",
    "model.fit(X_train, y_train)"
   ]
  },
  {
   "cell_type": "markdown",
   "id": "ae63fad1",
   "metadata": {},
   "source": [
    "Получение прогноза"
   ]
  },
  {
   "cell_type": "code",
   "execution_count": 235,
   "id": "872396fe",
   "metadata": {},
   "outputs": [],
   "source": [
    "predictions = model.predict_proba(X_test)"
   ]
  },
  {
   "cell_type": "markdown",
   "id": "0d6c3e91",
   "metadata": {},
   "source": [
    "Получение значений false и true positive rate для различных значений порога"
   ]
  },
  {
   "cell_type": "code",
   "execution_count": 236,
   "id": "e63a0229",
   "metadata": {},
   "outputs": [],
   "source": [
    "fpr, tpr, thres = roc_curve(y_test, predictions[:, 1])"
   ]
  },
  {
   "cell_type": "markdown",
   "id": "00bc2ff8",
   "metadata": {},
   "source": [
    "Отображение ROC-кривой"
   ]
  },
  {
   "cell_type": "code",
   "execution_count": 237,
   "id": "a6849093",
   "metadata": {},
   "outputs": [
    {
     "data": {
      "image/png": "[encoded data removed]",
      "text/plain": [
       "<Figure size 1200x1200 with 1 Axes>"
      ]
     },
     "metadata": {},
     "output_type": "display_data"
    }
   ],
   "source": [
    "fig, ax = plt.subplots(figsize=(12, 12))\n",
    "ax.plot([0, 1], [0, 1], 'k--')\n",
    "ax.plot(fpr, tpr)\n",
    "ax.grid()"
   ]
  },
  {
   "cell_type": "markdown",
   "id": "1fbd353e",
   "metadata": {},
   "source": [
    "Модель неплохо справляется с предсказаниями, уточним это, вычислив площадь под кривой"
   ]
  },
  {
   "cell_type": "markdown",
   "id": "32b03cdf",
   "metadata": {},
   "source": [
    "### 4. Вычислите значение ROC-AUC метрики с помощью функции sklearn.metrics.roc_auc_score."
   ]
  },
  {
   "cell_type": "code",
   "execution_count": 238,
   "id": "b114f996",
   "metadata": {},
   "outputs": [
    {
     "data": {
      "text/plain": [
       "0.8965823350433881"
      ]
     },
     "execution_count": 238,
     "metadata": {},
     "output_type": "execute_result"
    }
   ],
   "source": [
    "from sklearn.metrics import roc_auc_score\n",
    "roc_auc_score(y_test, predictions[:, 1])"
   ]
  },
  {
   "cell_type": "markdown",
   "id": "5c8ca3be",
   "metadata": {},
   "source": [
    "### 5. Реализуйте подсчет метрик TPR, FPR «вручную», без использования готовых функций из библиотеки sklearn."
   ]
  },
  {
   "cell_type": "code",
   "execution_count": 239,
   "id": "ba2066be",
   "metadata": {},
   "outputs": [],
   "source": [
    "def tp_fp_fn_tn(threshold = 0.5): # threshold - пороговое значение\n",
    "    tp = 0 # True positive\n",
    "    fp = 0 # False positive\n",
    "    fn = 0 # False negative\n",
    "    tn = 0 # True negative\n",
    "\n",
    "    predictions = model.predict_proba(X_test)\n",
    "    for predicted_prob, actual in zip( predictions[:, 1], Y_test ):    \n",
    "        if predicted_prob >= threshold:\n",
    "            predicted = 1\n",
    "        else:\n",
    "            predicted = 0\n",
    "    \n",
    "        if predicted == 1:\n",
    "            if actual == 1:\n",
    "                tp += 1\n",
    "            else:\n",
    "                fp += 1\n",
    "    \n",
    "        else:\n",
    "            if actual == 1:\n",
    "                fn += 1\n",
    "            else:\n",
    "                tn += 1\n",
    "    \n",
    "    return tp, fp, fn, tn "
   ]
  },
  {
   "cell_type": "code",
   "execution_count": 240,
   "id": "37786824",
   "metadata": {},
   "outputs": [
    {
     "data": {
      "text/plain": [
       "(808, 207, 196, 961)"
      ]
     },
     "execution_count": 240,
     "metadata": {},
     "output_type": "execute_result"
    }
   ],
   "source": [
    "tp_fp_fn_tn()"
   ]
  },
  {
   "cell_type": "code",
   "execution_count": 241,
   "id": "bb5a219e",
   "metadata": {},
   "outputs": [],
   "source": [
    "def tpr_fpr(threshold = 0.5):\n",
    "    tp, fp, fn, tn = tp_fp_fn_tn(threshold)\n",
    "    \n",
    "    tpr = tp / (tp + fn) \n",
    "    fpr = fp / (fp + tn)\n",
    "    return tpr, fpr"
   ]
  },
  {
   "cell_type": "code",
   "execution_count": 242,
   "id": "b7b56d23",
   "metadata": {},
   "outputs": [
    {
     "data": {
      "text/plain": [
       "(0.8047808764940239, 0.17722602739726026)"
      ]
     },
     "execution_count": 242,
     "metadata": {},
     "output_type": "execute_result"
    }
   ],
   "source": [
    "tpr_fpr()"
   ]
  },
  {
   "cell_type": "markdown",
   "id": "00b3950c",
   "metadata": {},
   "source": [
    "### 6. Постройте ROC-кривую с помощью вычисленных в п. 5 метрик: объедините графики из п. 3 и п. 6 в один. Сравните, сделайте вывод."
   ]
  },
  {
   "cell_type": "code",
   "execution_count": 243,
   "id": "c68a9b6b",
   "metadata": {},
   "outputs": [],
   "source": [
    "fpr_new = []\n",
    "tpr_new = []\n",
    "\n",
    "for t in range(0, 100):\n",
    "    fpr_new.append(tpr_fpr(t * 0.01)[0])\n",
    "    tpr_new.append(tpr_fpr(t * 0.01)[1])\n",
    "        "
   ]
  },
  {
   "cell_type": "code",
   "execution_count": 244,
   "id": "9ddec7dd",
   "metadata": {},
   "outputs": [
    {
     "data": {
      "text/plain": [
       "[1.0,\n",
       " 0.9930278884462151,\n",
       " 0.9920318725099602,\n",
       " 0.9900398406374502,\n",
       " 0.9890438247011952]"
      ]
     },
     "execution_count": 244,
     "metadata": {},
     "output_type": "execute_result"
    }
   ],
   "source": [
    "fpr_new[:5]"
   ]
  },
  {
   "cell_type": "code",
   "execution_count": 245,
   "id": "b7b2a94c",
   "metadata": {},
   "outputs": [
    {
     "data": {
      "text/plain": [
       "[1.0,\n",
       " 0.940068493150685,\n",
       " 0.889554794520548,\n",
       " 0.8467465753424658,\n",
       " 0.809931506849315]"
      ]
     },
     "execution_count": 245,
     "metadata": {},
     "output_type": "execute_result"
    }
   ],
   "source": [
    "tpr_new[:5]"
   ]
  },
  {
   "cell_type": "code",
   "execution_count": 246,
   "id": "ca15ece8",
   "metadata": {},
   "outputs": [
    {
     "data": {
      "image/png": "[encoded data removed]",
      "text/plain": [
       "<Figure size 1200x1200 with 1 Axes>"
      ]
     },
     "metadata": {},
     "output_type": "display_data"
    }
   ],
   "source": [
    "plt.figure(figsize=(12, 12))\n",
    "plt.plot(fpr, tpr, linewidth=5)\n",
    "plt.plot(tpr_new, fpr_new, 'black')\n",
    "plt.xlabel('FPR')\n",
    "plt.ylabel('TPR')\n",
    "plt.grid()\n",
    "plt.show()"
   ]
  },
  {
   "cell_type": "markdown",
   "id": "0ff461a9",
   "metadata": {},
   "source": [
    "### 7. Постройте график Precision-Recall, используя метрики, посчитанные в п. 5."
   ]
  },
  {
   "cell_type": "code",
   "execution_count": 247,
   "id": "07c1040b",
   "metadata": {},
   "outputs": [],
   "source": [
    "recall = tpr_new\n",
    "precision = []\n",
    "\n",
    "for t in range(0, 100):    \n",
    "    tp, fp, fn, tn = tp_fp_fn_tn(t* 0.01)\n",
    "    precision.append(tp/(tp + fp))        "
   ]
  },
  {
   "cell_type": "code",
   "execution_count": 248,
   "id": "0cfa3bb7",
   "metadata": {},
   "outputs": [
    {
     "data": {
      "image/png": "[encoded data removed]",
      "text/plain": [
       "<Figure size 1200x1200 with 1 Axes>"
      ]
     },
     "metadata": {},
     "output_type": "display_data"
    }
   ],
   "source": [
    "plt.figure(figsize=(12, 12))\n",
    "plt.plot(tpr_new, precision)\n",
    "plt.xlabel('Precision')\n",
    "plt.ylabel('Recall')\n",
    "plt.grid()\n",
    "plt.show()"
   ]
  },
  {
   "cell_type": "markdown",
   "id": "f90cda72",
   "metadata": {},
   "source": [
    "### 8. *Вычислите значение ROC-AUC метрики, используя метрики, посчитанные в п. 5."
   ]
  },
  {
   "cell_type": "code",
   "execution_count": 249,
   "id": "7c5f50e9",
   "metadata": {},
   "outputs": [],
   "source": [
    "from sklearn.metrics import roc_auc_score"
   ]
  },
  {
   "cell_type": "code",
   "execution_count": 250,
   "id": "1a47eb39",
   "metadata": {},
   "outputs": [],
   "source": [
    "def roc_auc(tpr, fpr):\n",
    "    roc_auc = (1 + tpr- fpr) / 2\n",
    "    return roc_auc"
   ]
  },
  {
   "cell_type": "code",
   "execution_count": 251,
   "id": "d3e7bd2b",
   "metadata": {},
   "outputs": [
    {
     "data": {
      "text/plain": [
       "0.8137774245483818"
      ]
     },
     "execution_count": 251,
     "metadata": {},
     "output_type": "execute_result"
    }
   ],
   "source": [
    "T, F = tpr_fpr(0.5)[0], tpr_fpr(0.5)[1]\n",
    "roc_auc(T, F)"
   ]
  },
  {
   "cell_type": "markdown",
   "id": "34e85f34",
   "metadata": {},
   "source": [
    "### 9. Сформулируйте выводы по проделанной работе:\n",
    "- a. как по полученным графикам сделать вывод о качестве модели? Как вы оцениваете обученную модель исходя из подсчитанных метрик?\n",
    "- b. *может ли ROC-кривая проходить ниже диагонали?"
   ]
  },
  {
   "cell_type": "markdown",
   "id": "4e480dbf",
   "metadata": {},
   "source": [
    "Обученная модель неплохо справляется со своей задачей, предсказывая пол спортсмена с высокой долей вероятности. Это наглядно демонстрирует график ROC-кривой. Она значительно выше прямой $y = x$, означающей случайное угадывание класса.\n",
    "Площадь под этой кривой 0.897, это почти 90% точности, хотя пересчет этой метрики вручную дает только 81%. \n",
    "Сравнение библиотечного и ручного методов подсчета метрик TPR, PFR показывает, что они похожи, так как используют один и тот же принцип. Хотя разница результатов в 9% выглядит немного странно."
   ]
  },
  {
   "cell_type": "markdown",
   "id": "2119770f",
   "metadata": {},
   "source": [
    "Диагональ ROC-кривой соответствует случайному угадыванию класса, когда TPR = FPR. Если ROC-кривая проходит ниже диагонали, то это означает, что классификатор имеет лучшие показатели в FPR, чем TPR, что плохо, и говорит о плохой работе классификатора.\n",
    "\n",
    "\n",
    "(ROC-кривая может проходить ниже диагонали, если поменять оси, но лучше поменять классификатор)"
   ]
  }
 ],
 "metadata": {
  "kernelspec": {
   "display_name": "Python 3 (ipykernel)",
   "language": "python",
   "name": "python3"
  },
  "language_info": {
   "codemirror_mode": {
    "name": "ipython",
    "version": 3
   },
   "file_extension": ".py",
   "mimetype": "text/x-python",
   "name": "python",
   "nbconvert_exporter": "python",
   "pygments_lexer": "ipython3",
   "version": "3.9.13"
  }
 },
 "nbformat": 4,
 "nbformat_minor": 5
}
