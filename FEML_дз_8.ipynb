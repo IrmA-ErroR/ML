{
 "cells": [
  {
   "cell_type": "markdown",
   "id": "c96ba57f",
   "metadata": {},
   "source": [
    "# Домашнее задание к занятию «Поиск выбросов и генерация новых признаков» \n"
   ]
  },
  {
   "cell_type": "markdown",
   "id": "ff592e18",
   "metadata": {},
   "source": [
    "## Задание\n",
    "##### Цель: Изучить применение методов по поиску выбросов в данных, попрактиковаться в обработке экстремальных значений.\n",
    "##### Описание задания:\n",
    "В домашнем задании нужно решить задачу классификации типа стекол. Данные для обучения моделей можно скачать с [сайта](https://www.kaggle.com/uciml/glass). Целевая переменная – тип стекла «Type». Остальные признаки описывают химические элементы в составе материала. Датасет нужно исследовать на наличие выбросов, провести EDA."
   ]
  },
  {
   "cell_type": "markdown",
   "id": "3b664513",
   "metadata": {},
   "source": [
    "## Этапы работы:"
   ]
  },
  {
   "cell_type": "code",
   "execution_count": 167,
   "id": "57f94eef",
   "metadata": {},
   "outputs": [],
   "source": [
    "import numpy as np\n",
    "import pandas as pd"
   ]
  },
  {
   "cell_type": "code",
   "execution_count": 168,
   "id": "45e92685",
   "metadata": {},
   "outputs": [],
   "source": [
    "import warnings\n",
    "warnings.filterwarnings('ignore')"
   ]
  },
  {
   "cell_type": "markdown",
   "id": "73d9a0e3",
   "metadata": {},
   "source": [
    "### 1. Получите данные и загрузите их в рабочую среду"
   ]
  },
  {
   "cell_type": "code",
   "execution_count": 169,
   "id": "f3e7a283",
   "metadata": {},
   "outputs": [
    {
     "data": {
      "text/html": [
       "<div>\n",
       "<style scoped>\n",
       "    .dataframe tbody tr th:only-of-type {\n",
       "        vertical-align: middle;\n",
       "    }\n",
       "\n",
       "    .dataframe tbody tr th {\n",
       "        vertical-align: top;\n",
       "    }\n",
       "\n",
       "    .dataframe thead th {\n",
       "        text-align: right;\n",
       "    }\n",
       "</style>\n",
       "<table border=\"1\" class=\"dataframe\">\n",
       "  <thead>\n",
       "    <tr style=\"text-align: right;\">\n",
       "      <th></th>\n",
       "      <th>RI</th>\n",
       "      <th>Na</th>\n",
       "      <th>Mg</th>\n",
       "      <th>Al</th>\n",
       "      <th>Si</th>\n",
       "      <th>K</th>\n",
       "      <th>Ca</th>\n",
       "      <th>Ba</th>\n",
       "      <th>Fe</th>\n",
       "      <th>Type</th>\n",
       "    </tr>\n",
       "  </thead>\n",
       "  <tbody>\n",
       "    <tr>\n",
       "      <th>0</th>\n",
       "      <td>1.52101</td>\n",
       "      <td>13.64</td>\n",
       "      <td>4.49</td>\n",
       "      <td>1.10</td>\n",
       "      <td>71.78</td>\n",
       "      <td>0.06</td>\n",
       "      <td>8.75</td>\n",
       "      <td>0.0</td>\n",
       "      <td>0.00</td>\n",
       "      <td>1</td>\n",
       "    </tr>\n",
       "    <tr>\n",
       "      <th>1</th>\n",
       "      <td>1.51761</td>\n",
       "      <td>13.89</td>\n",
       "      <td>3.60</td>\n",
       "      <td>1.36</td>\n",
       "      <td>72.73</td>\n",
       "      <td>0.48</td>\n",
       "      <td>7.83</td>\n",
       "      <td>0.0</td>\n",
       "      <td>0.00</td>\n",
       "      <td>1</td>\n",
       "    </tr>\n",
       "    <tr>\n",
       "      <th>2</th>\n",
       "      <td>1.51618</td>\n",
       "      <td>13.53</td>\n",
       "      <td>3.55</td>\n",
       "      <td>1.54</td>\n",
       "      <td>72.99</td>\n",
       "      <td>0.39</td>\n",
       "      <td>7.78</td>\n",
       "      <td>0.0</td>\n",
       "      <td>0.00</td>\n",
       "      <td>1</td>\n",
       "    </tr>\n",
       "    <tr>\n",
       "      <th>3</th>\n",
       "      <td>1.51766</td>\n",
       "      <td>13.21</td>\n",
       "      <td>3.69</td>\n",
       "      <td>1.29</td>\n",
       "      <td>72.61</td>\n",
       "      <td>0.57</td>\n",
       "      <td>8.22</td>\n",
       "      <td>0.0</td>\n",
       "      <td>0.00</td>\n",
       "      <td>1</td>\n",
       "    </tr>\n",
       "    <tr>\n",
       "      <th>4</th>\n",
       "      <td>1.51742</td>\n",
       "      <td>13.27</td>\n",
       "      <td>3.62</td>\n",
       "      <td>1.24</td>\n",
       "      <td>73.08</td>\n",
       "      <td>0.55</td>\n",
       "      <td>8.07</td>\n",
       "      <td>0.0</td>\n",
       "      <td>0.00</td>\n",
       "      <td>1</td>\n",
       "    </tr>\n",
       "    <tr>\n",
       "      <th>5</th>\n",
       "      <td>1.51596</td>\n",
       "      <td>12.79</td>\n",
       "      <td>3.61</td>\n",
       "      <td>1.62</td>\n",
       "      <td>72.97</td>\n",
       "      <td>0.64</td>\n",
       "      <td>8.07</td>\n",
       "      <td>0.0</td>\n",
       "      <td>0.26</td>\n",
       "      <td>1</td>\n",
       "    </tr>\n",
       "    <tr>\n",
       "      <th>6</th>\n",
       "      <td>1.51743</td>\n",
       "      <td>13.30</td>\n",
       "      <td>3.60</td>\n",
       "      <td>1.14</td>\n",
       "      <td>73.09</td>\n",
       "      <td>0.58</td>\n",
       "      <td>8.17</td>\n",
       "      <td>0.0</td>\n",
       "      <td>0.00</td>\n",
       "      <td>1</td>\n",
       "    </tr>\n",
       "    <tr>\n",
       "      <th>7</th>\n",
       "      <td>1.51756</td>\n",
       "      <td>13.15</td>\n",
       "      <td>3.61</td>\n",
       "      <td>1.05</td>\n",
       "      <td>73.24</td>\n",
       "      <td>0.57</td>\n",
       "      <td>8.24</td>\n",
       "      <td>0.0</td>\n",
       "      <td>0.00</td>\n",
       "      <td>1</td>\n",
       "    </tr>\n",
       "    <tr>\n",
       "      <th>8</th>\n",
       "      <td>1.51918</td>\n",
       "      <td>14.04</td>\n",
       "      <td>3.58</td>\n",
       "      <td>1.37</td>\n",
       "      <td>72.08</td>\n",
       "      <td>0.56</td>\n",
       "      <td>8.30</td>\n",
       "      <td>0.0</td>\n",
       "      <td>0.00</td>\n",
       "      <td>1</td>\n",
       "    </tr>\n",
       "    <tr>\n",
       "      <th>9</th>\n",
       "      <td>1.51755</td>\n",
       "      <td>13.00</td>\n",
       "      <td>3.60</td>\n",
       "      <td>1.36</td>\n",
       "      <td>72.99</td>\n",
       "      <td>0.57</td>\n",
       "      <td>8.40</td>\n",
       "      <td>0.0</td>\n",
       "      <td>0.11</td>\n",
       "      <td>1</td>\n",
       "    </tr>\n",
       "  </tbody>\n",
       "</table>\n",
       "</div>"
      ],
      "text/plain": [
       "        RI     Na    Mg    Al     Si     K    Ca   Ba    Fe  Type\n",
       "0  1.52101  13.64  4.49  1.10  71.78  0.06  8.75  0.0  0.00     1\n",
       "1  1.51761  13.89  3.60  1.36  72.73  0.48  7.83  0.0  0.00     1\n",
       "2  1.51618  13.53  3.55  1.54  72.99  0.39  7.78  0.0  0.00     1\n",
       "3  1.51766  13.21  3.69  1.29  72.61  0.57  8.22  0.0  0.00     1\n",
       "4  1.51742  13.27  3.62  1.24  73.08  0.55  8.07  0.0  0.00     1\n",
       "5  1.51596  12.79  3.61  1.62  72.97  0.64  8.07  0.0  0.26     1\n",
       "6  1.51743  13.30  3.60  1.14  73.09  0.58  8.17  0.0  0.00     1\n",
       "7  1.51756  13.15  3.61  1.05  73.24  0.57  8.24  0.0  0.00     1\n",
       "8  1.51918  14.04  3.58  1.37  72.08  0.56  8.30  0.0  0.00     1\n",
       "9  1.51755  13.00  3.60  1.36  72.99  0.57  8.40  0.0  0.11     1"
      ]
     },
     "execution_count": 169,
     "metadata": {},
     "output_type": "execute_result"
    }
   ],
   "source": [
    "my_path = r\"C:\\Users\\sveta\\Documents\\Netology\\ML\\glass.csv\"\n",
    "data = pd.read_csv(my_path)\n",
    "data.head(10)"
   ]
  },
  {
   "cell_type": "markdown",
   "id": "bb41aacd",
   "metadata": {},
   "source": [
    "### 2. Проведите первичный анализ"
   ]
  },
  {
   "cell_type": "code",
   "execution_count": 170,
   "id": "4b1a445f",
   "metadata": {},
   "outputs": [
    {
     "name": "stdout",
     "output_type": "stream",
     "text": [
      "<class 'pandas.core.frame.DataFrame'>\n",
      "RangeIndex: 214 entries, 0 to 213\n",
      "Data columns (total 10 columns):\n",
      " #   Column  Non-Null Count  Dtype  \n",
      "---  ------  --------------  -----  \n",
      " 0   RI      214 non-null    float64\n",
      " 1   Na      214 non-null    float64\n",
      " 2   Mg      214 non-null    float64\n",
      " 3   Al      214 non-null    float64\n",
      " 4   Si      214 non-null    float64\n",
      " 5   K       214 non-null    float64\n",
      " 6   Ca      214 non-null    float64\n",
      " 7   Ba      214 non-null    float64\n",
      " 8   Fe      214 non-null    float64\n",
      " 9   Type    214 non-null    int64  \n",
      "dtypes: float64(9), int64(1)\n",
      "memory usage: 16.8 KB\n"
     ]
    }
   ],
   "source": [
    "data.info()"
   ]
  },
  {
   "cell_type": "markdown",
   "id": "8c5c7ca8",
   "metadata": {},
   "source": [
    "Количество экземпляров: 214\n",
    "\n",
    "Количество атрибутов: 10"
   ]
  },
  {
   "cell_type": "markdown",
   "id": "1b9de8e3",
   "metadata": {},
   "source": [
    "Attribute Information:\n",
    "\n",
    "Id number: 1 to 214 (removed from CSV file)\n",
    "\n",
    "1. RI: refractive index\n",
    "2. Na: Sodium (unit measurement: weight percent in corresponding oxide, as are attributes 4-10)\n",
    "3. Mg: Magnesium\n",
    "4. Al: Aluminum\n",
    "5. Si: Silicon\n",
    "6. K: Potassium\n",
    "7. Ca: Calcium\n",
    "8. Ba: Barium\n",
    "9. Fe: Iron\n",
    "10. Type of glass: (class attribute)\n",
    "    - 1 building_windows_float_processed\n",
    "    - 2 building_windows_non_float_processed\n",
    "    - 3 vehicle_windows_float_processed\n",
    "    - 4 vehicle_windows_non_float_processed (none in this database)\n",
    "    - 5 containers\n",
    "    - 6 tableware\n",
    "    - 7 headlamps"
   ]
  },
  {
   "cell_type": "markdown",
   "id": "91146095",
   "metadata": {},
   "source": [
    "#### а) Проверьте количество записей для каждого класса. Сделайте вывод"
   ]
  },
  {
   "cell_type": "code",
   "execution_count": 171,
   "id": "04e47ca6",
   "metadata": {},
   "outputs": [
    {
     "data": {
      "text/plain": [
       "2    76\n",
       "1    70\n",
       "7    29\n",
       "3    17\n",
       "5    13\n",
       "6     9\n",
       "Name: Type, dtype: int64"
      ]
     },
     "execution_count": 171,
     "metadata": {},
     "output_type": "execute_result"
    }
   ],
   "source": [
    "data['Type'].value_counts()"
   ]
  },
  {
   "cell_type": "code",
   "execution_count": 172,
   "id": "9b270783",
   "metadata": {},
   "outputs": [
    {
     "data": {
      "text/plain": [
       "<AxesSubplot:>"
      ]
     },
     "execution_count": 172,
     "metadata": {},
     "output_type": "execute_result"
    },
    {
     "data": {
      "image/png": "[encoded data removed]",
      "text/plain": [
       "<Figure size 1500x1500 with 1 Axes>"
      ]
     },
     "metadata": {},
     "output_type": "display_data"
    }
   ],
   "source": [
    "data['Type'].hist(figsize=(15, 15), bins=7)"
   ]
  },
  {
   "cell_type": "markdown",
   "id": "4261a037",
   "metadata": {},
   "source": [
    "Классы распределены неравномерно:\n",
    "\n",
    "    - 1 и 2 классы знаитьельно больше остальных;\n",
    "    - 4 класс вообще отсутствует "
   ]
  },
  {
   "cell_type": "markdown",
   "id": "844bd7a3",
   "metadata": {},
   "source": [
    "### 3. Разделите выборку на обучающее и тестовое подмножество \n",
    "80% данных оставить на обучающее множество, 20% на тестовое."
   ]
  },
  {
   "cell_type": "code",
   "execution_count": 173,
   "id": "2c0dcac7",
   "metadata": {},
   "outputs": [],
   "source": [
    "from sklearn.model_selection import train_test_split"
   ]
  },
  {
   "cell_type": "code",
   "execution_count": 174,
   "id": "67e33889",
   "metadata": {},
   "outputs": [],
   "source": [
    "X = data[['RI', 'Na','Mg', 'Al', 'Si', 'K', 'Ca', 'Ba', 'Fe']]\n",
    "y = data[['Type']]"
   ]
  },
  {
   "cell_type": "code",
   "execution_count": 175,
   "id": "5d15dcdf",
   "metadata": {},
   "outputs": [],
   "source": [
    "X_train, X_test, y_train, y_test = train_test_split(X, y, test_size=0.2, random_state=0)"
   ]
  },
  {
   "cell_type": "markdown",
   "id": "320a0035",
   "metadata": {},
   "source": [
    "### 4. Обучите модель дерева решений RandomForestClassifier на обучающем множестве"
   ]
  },
  {
   "cell_type": "code",
   "execution_count": 176,
   "id": "6e6537a7",
   "metadata": {},
   "outputs": [],
   "source": [
    "from sklearn.ensemble import RandomForestClassifier"
   ]
  },
  {
   "cell_type": "code",
   "execution_count": 177,
   "id": "8ce92e47",
   "metadata": {},
   "outputs": [
    {
     "data": {
      "text/plain": [
       "RandomForestClassifier(random_state=41)"
      ]
     },
     "execution_count": 177,
     "metadata": {},
     "output_type": "execute_result"
    }
   ],
   "source": [
    "clf = RandomForestClassifier(random_state=41)\n",
    "clf.fit(X_train, y_train)"
   ]
  },
  {
   "cell_type": "markdown",
   "id": "a2486008",
   "metadata": {},
   "source": [
    "### 5. Для тестового множества предскажите тип стекла и сравните с истинным значением, посчитав точность предсказания модели (accuracy)"
   ]
  },
  {
   "cell_type": "code",
   "execution_count": 178,
   "id": "275dca86",
   "metadata": {},
   "outputs": [],
   "source": [
    "from sklearn.metrics import accuracy_score"
   ]
  },
  {
   "cell_type": "code",
   "execution_count": 179,
   "id": "42a814a5",
   "metadata": {},
   "outputs": [
    {
     "data": {
      "text/plain": [
       "0.6046511627906976"
      ]
     },
     "execution_count": 179,
     "metadata": {},
     "output_type": "execute_result"
    }
   ],
   "source": [
    "rfc_pred = clf.predict(X_test)\n",
    "accuracy_score(y_test, rfc_pred)"
   ]
  },
  {
   "cell_type": "markdown",
   "id": "b2072d08",
   "metadata": {},
   "source": [
    "### 6. Обработайте выбросы в данных"
   ]
  },
  {
   "cell_type": "code",
   "execution_count": 180,
   "id": "2e287643",
   "metadata": {},
   "outputs": [],
   "source": [
    "from sklearn import preprocessing\n",
    "import matplotlib.pyplot as plt"
   ]
  },
  {
   "cell_type": "markdown",
   "id": "5e401de4",
   "metadata": {},
   "source": [
    "#### а) Визуализируйте распределение значений для каждой переменной. \n",
    "Можно использовать функции sns.boxplot, sns.distplot. "
   ]
  },
  {
   "cell_type": "code",
   "execution_count": 181,
   "id": "7823dc76",
   "metadata": {},
   "outputs": [],
   "source": [
    "from pylab import *\n",
    "import seaborn as sns"
   ]
  },
  {
   "cell_type": "code",
   "execution_count": 182,
   "id": "3f04ff78",
   "metadata": {},
   "outputs": [
    {
     "data": {
      "image/png": "[encoded data removed]",
      "text/plain": [
       "<Figure size 640x480 with 1 Axes>"
      ]
     },
     "metadata": {},
     "output_type": "display_data"
    }
   ],
   "source": [
    "sns.boxplot(data=X)\n",
    "plt.show()"
   ]
  },
  {
   "cell_type": "markdown",
   "id": "791c921d",
   "metadata": {},
   "source": [
    "#### b) Исследуйте признаки на выбросы несколькими способами"
   ]
  },
  {
   "cell_type": "code",
   "execution_count": 183,
   "id": "8e7ba8ba",
   "metadata": {},
   "outputs": [
    {
     "data": {
      "text/plain": [
       "array([[<AxesSubplot:title={'center':'RI'}>,\n",
       "        <AxesSubplot:title={'center':'Na'}>,\n",
       "        <AxesSubplot:title={'center':'Mg'}>],\n",
       "       [<AxesSubplot:title={'center':'Al'}>,\n",
       "        <AxesSubplot:title={'center':'Si'}>,\n",
       "        <AxesSubplot:title={'center':'K'}>],\n",
       "       [<AxesSubplot:title={'center':'Ca'}>,\n",
       "        <AxesSubplot:title={'center':'Ba'}>,\n",
       "        <AxesSubplot:title={'center':'Fe'}>]], dtype=object)"
      ]
     },
     "execution_count": 183,
     "metadata": {},
     "output_type": "execute_result"
    },
    {
     "data": {
      "image/png": "[encoded data removed]",
      "text/plain": [
       "<Figure size 1500x1500 with 9 Axes>"
      ]
     },
     "metadata": {},
     "output_type": "display_data"
    }
   ],
   "source": [
    "X.hist(figsize=(15, 15), bins=50)"
   ]
  },
  {
   "cell_type": "markdown",
   "id": "c561e6c0",
   "metadata": {},
   "source": [
    "Есть ли признаки с нормальным распределением?"
   ]
  },
  {
   "cell_type": "markdown",
   "id": "cc56760c",
   "metadata": {},
   "source": [
    "Распределение каждого признака, кроме Ba, стремится к нормальному, однако:\n",
    "- сильные выбросы присутствуют в переменных: Na, K, Ca, Fe\n",
    "- у Mg почти двумодальное распределение\n",
    "- RI, Al, Si - несимметричны"
   ]
  },
  {
   "cell_type": "markdown",
   "id": "a99ff751",
   "metadata": {},
   "source": [
    "#### c) Удалите выбросы\n",
    "Воспользуемся правилом трех сигм:"
   ]
  },
  {
   "cell_type": "code",
   "execution_count": 184,
   "id": "7d5877bf",
   "metadata": {},
   "outputs": [],
   "source": [
    "Q1 = data.quantile(0.25)\n",
    "Q3 = data.quantile(0.75)\n",
    "IQR = Q3 - Q1\n",
    "\n",
    "new_data = data[~((data < (Q1 - 1.5 * IQR)) |(data > (Q3 + 1.5* IQR))).any(axis=1)]"
   ]
  },
  {
   "cell_type": "code",
   "execution_count": 185,
   "id": "d467252c",
   "metadata": {},
   "outputs": [
    {
     "name": "stdout",
     "output_type": "stream",
     "text": [
      "<class 'pandas.core.frame.DataFrame'>\n",
      "Int64Index: 136 entries, 0 to 181\n",
      "Data columns (total 10 columns):\n",
      " #   Column  Non-Null Count  Dtype  \n",
      "---  ------  --------------  -----  \n",
      " 0   RI      136 non-null    float64\n",
      " 1   Na      136 non-null    float64\n",
      " 2   Mg      136 non-null    float64\n",
      " 3   Al      136 non-null    float64\n",
      " 4   Si      136 non-null    float64\n",
      " 5   K       136 non-null    float64\n",
      " 6   Ca      136 non-null    float64\n",
      " 7   Ba      136 non-null    float64\n",
      " 8   Fe      136 non-null    float64\n",
      " 9   Type    136 non-null    int64  \n",
      "dtypes: float64(9), int64(1)\n",
      "memory usage: 11.7 KB\n"
     ]
    }
   ],
   "source": [
    "new_data.info()"
   ]
  },
  {
   "cell_type": "code",
   "execution_count": 186,
   "id": "3d978151",
   "metadata": {},
   "outputs": [
    {
     "name": "stdout",
     "output_type": "stream",
     "text": [
      "Выбросов: 78 строк(и)\n"
     ]
    }
   ],
   "source": [
    "print(f'Выбросов: { data.shape[0] - new_data.shape[0]} строк(и)')"
   ]
  },
  {
   "cell_type": "code",
   "execution_count": 187,
   "id": "fab051c3",
   "metadata": {},
   "outputs": [
    {
     "data": {
      "text/plain": [
       "63.55140186915888"
      ]
     },
     "execution_count": 187,
     "metadata": {},
     "output_type": "execute_result"
    }
   ],
   "source": [
    "new_data.shape[0] * 100 / data.shape[0]"
   ]
  },
  {
   "cell_type": "markdown",
   "id": "24aaab21",
   "metadata": {},
   "source": [
    "##### Осталось слишком мало данных, стоит увеличить коэффициент "
   ]
  },
  {
   "cell_type": "code",
   "execution_count": 188,
   "id": "49f8333e",
   "metadata": {},
   "outputs": [
    {
     "name": "stdout",
     "output_type": "stream",
     "text": [
      "Выбросов: 57 строк(и)\n"
     ]
    },
    {
     "data": {
      "text/plain": [
       "73.3644859813084"
      ]
     },
     "execution_count": 188,
     "metadata": {},
     "output_type": "execute_result"
    }
   ],
   "source": [
    "new_data = data[~((data < (Q1 - 2.5 * IQR)) |(data > (Q3 + 2.5 * IQR))).any(axis=1)]\n",
    "\n",
    "print(f'Выбросов: { data.shape[0] - new_data.shape[0]} строк(и)')\n",
    "new_data.shape[0] * 100 / data.shape[0]"
   ]
  },
  {
   "cell_type": "code",
   "execution_count": 189,
   "id": "e87d692e",
   "metadata": {},
   "outputs": [
    {
     "name": "stdout",
     "output_type": "stream",
     "text": [
      "<class 'pandas.core.frame.DataFrame'>\n",
      "Int64Index: 157 entries, 0 to 187\n",
      "Data columns (total 10 columns):\n",
      " #   Column  Non-Null Count  Dtype  \n",
      "---  ------  --------------  -----  \n",
      " 0   RI      157 non-null    float64\n",
      " 1   Na      157 non-null    float64\n",
      " 2   Mg      157 non-null    float64\n",
      " 3   Al      157 non-null    float64\n",
      " 4   Si      157 non-null    float64\n",
      " 5   K       157 non-null    float64\n",
      " 6   Ca      157 non-null    float64\n",
      " 7   Ba      157 non-null    float64\n",
      " 8   Fe      157 non-null    float64\n",
      " 9   Type    157 non-null    int64  \n",
      "dtypes: float64(9), int64(1)\n",
      "memory usage: 13.5 KB\n"
     ]
    }
   ],
   "source": [
    "new_data.info()"
   ]
  },
  {
   "cell_type": "markdown",
   "id": "a5324ddf",
   "metadata": {},
   "source": [
    "### 7. Повторите п. 4, п. 5."
   ]
  },
  {
   "cell_type": "code",
   "execution_count": 190,
   "id": "cbd3cc96",
   "metadata": {},
   "outputs": [],
   "source": [
    "X_1 = new_data[['RI', 'Na','Mg', 'Al', 'Si', 'K', 'Ca', 'Ba', 'Fe']]\n",
    "y_1 = new_data[['Type']]"
   ]
  },
  {
   "cell_type": "code",
   "execution_count": 191,
   "id": "4254bdad",
   "metadata": {},
   "outputs": [],
   "source": [
    "X_train_1, X_test_1, y_train_1, y_test_1 = train_test_split(X_1, y_1, test_size=0.2, random_state=0)"
   ]
  },
  {
   "cell_type": "code",
   "execution_count": 192,
   "id": "b1a40c48",
   "metadata": {},
   "outputs": [
    {
     "data": {
      "text/plain": [
       "RandomForestClassifier(random_state=41)"
      ]
     },
     "execution_count": 192,
     "metadata": {},
     "output_type": "execute_result"
    }
   ],
   "source": [
    "clf_1 = RandomForestClassifier(random_state=41)\n",
    "clf_1.fit(X_train_1, y_train_1)"
   ]
  },
  {
   "cell_type": "code",
   "execution_count": 193,
   "id": "6bc3be7c",
   "metadata": {},
   "outputs": [
    {
     "data": {
      "text/plain": [
       "0.84375"
      ]
     },
     "execution_count": 193,
     "metadata": {},
     "output_type": "execute_result"
    }
   ],
   "source": [
    "rfc_pred_1 = clf_1.predict(X_test_1)\n",
    "accuracy_score(y_test_1, rfc_pred_1)"
   ]
  },
  {
   "cell_type": "markdown",
   "id": "0c11f59c",
   "metadata": {},
   "source": [
    "### 8. Сформулируйте выводы по проделанной работе"
   ]
  },
  {
   "cell_type": "markdown",
   "id": "0f41a8fa",
   "metadata": {},
   "source": [
    "В данной работе были обучены 2 модели дерева решений RandomForestClassifier. Первая обучалась на данных с выбросами, вторая - на отфильтрованных. "
   ]
  },
  {
   "cell_type": "markdown",
   "id": "ebe86752",
   "metadata": {},
   "source": [
    "#### а) Кратко опишите, какие преобразования были сделаны с данными"
   ]
  },
  {
   "cell_type": "markdown",
   "id": "e168e36d",
   "metadata": {},
   "source": [
    "Для второй модели исходная выборка признаков была разделена на квартили, значения, выходящие за рамки правила 3-ех сигм с коэффициентом 2.5 были удалены.\n"
   ]
  },
  {
   "cell_type": "markdown",
   "id": "832a1324",
   "metadata": {},
   "source": [
    "#### b) Сравните точность двух моделей"
   ]
  },
  {
   "cell_type": "markdown",
   "id": "f6309863",
   "metadata": {},
   "source": [
    "Уменьшение выборки позволило более точно описать \"средний случай\". Точность новой модели составила ~ 84%, что на 24% больше, чем у первой (~ 60%)."
   ]
  },
  {
   "cell_type": "markdown",
   "id": "528a92e5",
   "metadata": {},
   "source": [
    "#### c) Напишите свое мнение, нужно ли исследовать данные на выбросы, для чего это делается, плюсы и минусы подхода."
   ]
  },
  {
   "cell_type": "markdown",
   "id": "e5651f85",
   "metadata": {},
   "source": [
    "Удаление выбросных значений в признаках позволяет значительно повысить качество модели."
   ]
  },
  {
   "cell_type": "markdown",
   "id": "ad670ccf",
   "metadata": {},
   "source": [
    "Явный недостаток - потеря данных, в нашем случае это 26% от изначального датафрейма. Такое уменьшение может искажать распределение данных."
   ]
  },
  {
   "cell_type": "markdown",
   "id": "d0f80e27",
   "metadata": {},
   "source": [
    "Дополнительной сложностью при удалении выбросов, является подброр правильных пороговых значений. Неправильный выбор коэффициента для правила 3-ех сигм может привести к удалению значимых данных или сохранению выбросов."
   ]
  },
  {
   "cell_type": "markdown",
   "id": "2bce564f",
   "metadata": {},
   "source": [
    "Результат:\n",
    "Получены практические знания по работе с выбросами в данных."
   ]
  }
 ],
 "metadata": {
  "kernelspec": {
   "display_name": "Python 3 (ipykernel)",
   "language": "python",
   "name": "python3"
  },
  "language_info": {
   "codemirror_mode": {
    "name": "ipython",
    "version": 3
   },
   "file_extension": ".py",
   "mimetype": "text/x-python",
   "name": "python",
   "nbconvert_exporter": "python",
   "pygments_lexer": "ipython3",
   "version": "3.9.13"
  }
 },
 "nbformat": 4,
 "nbformat_minor": 5
}
